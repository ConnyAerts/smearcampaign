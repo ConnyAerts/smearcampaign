{
 "cells": [
  {
   "cell_type": "code",
   "execution_count": 4,
   "metadata": {},
   "outputs": [],
   "source": [
    "import numpy as np\n",
    "import matplotlib.pyplot as plt\n",
    "\n",
    "from astropy.table import Table, join, Column\n",
    "\n",
    "from astropy.io import ascii\n",
    "import glob, re\n",
    "\n",
    "% matplotlib inline\n",
    "\n",
    "import matplotlib as mpl\n",
    "mpl.style.use('seaborn-colorblind')\n",
    "\n",
    "#To make sure we have always the same matplotlib settings\n",
    "#(the ones in comments are the ipython notebook settings)\n",
    "\n",
    "mpl.rcParams['figure.figsize']=(12.0,9.0)    #(6.0,4.0)\n",
    "mpl.rcParams['font.size']=18               #10 \n",
    "mpl.rcParams['savefig.dpi']= 200             #72 \n",
    "mpl.rcParams['axes.labelsize'] = 16\n",
    "mpl.rcParams['axes.labelsize'] = 16\n",
    "mpl.rcParams['xtick.labelsize'] = 12\n",
    "mpl.rcParams['ytick.labelsize'] = 12\n",
    "from matplotlib import rc\n",
    "\n",
    "colours = mpl.rcParams['axes.prop_cycle'].by_key()['color']\n"
   ]
  },
  {
   "cell_type": "markdown",
   "metadata": {},
   "source": [
    "## This notebook reads in Keith's abundances and Guy's asteroseismology to produce the tables for the paper."
   ]
  },
  {
   "cell_type": "code",
   "execution_count": 5,
   "metadata": {},
   "outputs": [],
   "source": [
    "fname_diff = \"../data/abundances/Pope_abundances_diff_arcturus.fits\"\n",
    "fname_nodiff = \"../data/abundances/Pope_abundances_nodiff.fits\""
   ]
  },
  {
   "cell_type": "code",
   "execution_count": 6,
   "metadata": {},
   "outputs": [],
   "source": [
    "diff = Table.read(fname_diff)\n",
    "diff.sort('Object')\n",
    "nodiff = Table.read(fname_nodiff)\n",
    "nodiff.sort('Object')"
   ]
  },
  {
   "cell_type": "markdown",
   "metadata": {},
   "source": [
    "How do abundances compare between the differential and non-differential methods? Not too badly. Many more elements lack differential abundances than absolute abundances so it looks like in the paper we shouldn't use the differential. Good to include in online data though."
   ]
  },
  {
   "cell_type": "code",
   "execution_count": 7,
   "metadata": {},
   "outputs": [],
   "source": [
    "# for j, key in enumerate(diff.keys()[1:]):\n",
    "#     if key[0]=='e':\n",
    "#         continue\n",
    "#     plt.figure(j)\n",
    "#     plt.plot(diff[key],nodiff[key],'.')\n",
    "#     plt.title(key)"
   ]
  },
  {
   "cell_type": "code",
   "execution_count": 8,
   "metadata": {},
   "outputs": [
    {
     "data": {
      "text/html": [
       "&lt;Table length=35&gt;\n",
       "<table id=\"table4676302928\" class=\"table-striped table-bordered table-condensed\">\n",
       "<thead><tr><th>Object</th><th>Ca_Fe</th><th>eCa_Fe</th><th>Mg_Fe</th><th>eMg_Fe</th><th>Si_Fe</th><th>eSi_Fe</th><th>Ti_Fe</th><th>eTi_Fe</th><th>O_Fe</th><th>eO_Fe</th><th>Al_Fe</th><th>eAl_Fe</th><th>Ba_Fe</th><th>eBa_Fe</th><th>Na_Fe</th><th>eNa_Fe</th><th>Ni_Fe</th><th>eNi_Fe</th><th>Mn_Fe</th><th>eMn_Fe</th><th>Co_Fe</th><th>eCo_Fe</th><th>Eu_Fe</th><th>eEu_Fe</th><th>La_Fe</th><th>eLa_Fe</th><th>Zr_Fe</th><th>eZr_Fe</th><th>Sr_Fe</th><th>eSr_Fe</th><th>Zn_Fe</th><th>eZn_Fe</th><th>Y_Fe</th><th>eY_Fe</th><th>Cr_Fe</th><th>eCr_Fe</th><th>V_Fe</th><th>eV_Fe</th><th>Cu_Fe</th><th>eCu_Fe</th><th>Sc_Fe</th><th>eSc_Fe</th></tr></thead>\n",
       "<thead><tr><th>str10</th><th>float64</th><th>float64</th><th>float64</th><th>float64</th><th>float64</th><th>float64</th><th>float64</th><th>float64</th><th>float64</th><th>float64</th><th>float64</th><th>float64</th><th>float64</th><th>float64</th><th>float64</th><th>float64</th><th>float64</th><th>float64</th><th>float64</th><th>float64</th><th>float64</th><th>float64</th><th>float64</th><th>float64</th><th>float64</th><th>float64</th><th>float64</th><th>float64</th><th>float64</th><th>float64</th><th>float64</th><th>float64</th><th>float64</th><th>float64</th><th>float64</th><th>float64</th><th>float64</th><th>float64</th><th>float64</th><th>float64</th><th>float64</th><th>float64</th></tr></thead>\n",
       "<tr><td>BD+36_3564</td><td>0.20550000000000068</td><td>0.021811959427664313</td><td>0.32699999999999996</td><td>0.029981933288751386</td><td>0.1030000000000002</td><td>0.03033791174238739</td><td>0.3414999999999999</td><td>0.039563195412588896</td><td>nan</td><td>nan</td><td>0.39749999999999996</td><td>0.008838834764831969</td><td>nan</td><td>nan</td><td>0.2600000000000007</td><td>0.07726769244837267</td><td>0.006000000000000227</td><td>0.04284999081677555</td><td>0.07750000000000057</td><td>0.0045961940777125235</td><td>0.1299999999999999</td><td>0.023192941522005114</td><td>0.24799999999999933</td><td>0.02768573639981425</td><td>-0.016499999999999737</td><td>0.0659359300760974</td><td>0.10200000000000031</td><td>0.021922773547158676</td><td>0.3440000000000003</td><td>0.11825713509129157</td><td>-0.28699999999999903</td><td>0.19772933239377738</td><td>-0.2739999999999996</td><td>0.015773296262988193</td><td>0.23000000000000043</td><td>0.003797614382740828</td><td>0.1535000000000002</td><td>0.03049898435435564</td><td>-0.04499999999999971</td><td>0.06190150947270998</td><td>0.17300000000000093</td><td>0.017790381816734174</td></tr>\n",
       "<tr><td>BD+39_3577</td><td>0.1330000000000009</td><td>0.024249415323230328</td><td>0.2150000000000003</td><td>0.03658925303282372</td><td>-0.10549999999999926</td><td>0.02174089847882709</td><td>0.08499999999999996</td><td>0.03879026485998592</td><td>nan</td><td>nan</td><td>0.20550000000000024</td><td>0.00954594154601844</td><td>0.3520000000000003</td><td>0.1010273157048059</td><td>0.41600000000000037</td><td>0.0</td><td>-0.051000000000000156</td><td>0.03328029088036782</td><td>-0.028999999999999027</td><td>0.05782989102787844</td><td>-0.015999999999999126</td><td>0.02072659732649556</td><td>-0.22100000000000009</td><td>0.04160228359116841</td><td>-0.254999999999999</td><td>0.015035759843588615</td><td>0.128000000000001</td><td>0.08221016968721083</td><td>nan</td><td>nan</td><td>-0.24099999999999877</td><td>0.7076482176901175</td><td>-0.4039999999999999</td><td>0.037289656991162025</td><td>0.1640000000000006</td><td>0.0952853444922145</td><td>0.010500000000000398</td><td>0.020276010901452025</td><td>-0.20599999999999952</td><td>0.012727922061357708</td><td>-0.12499999999999956</td><td>0.053405093390050375</td></tr>\n",
       "<tr><td>BD+43_3064</td><td>0.18600000000000083</td><td>0.042992624259758146</td><td>0.2110000000000003</td><td>0.03401960219246152</td><td>-0.013999999999999346</td><td>0.030231207814540438</td><td>0.28249999999999975</td><td>0.044954827587674044</td><td>nan</td><td>nan</td><td>0.3550000000000004</td><td>0.010606601717797986</td><td>nan</td><td>nan</td><td>0.4790000000000001</td><td>0.06424951361683594</td><td>0.052999999999999936</td><td>0.044591812612475384</td><td>0.21400000000000086</td><td>0.024748737341528947</td><td>0.1330000000000009</td><td>0.02184520148655853</td><td>0.28000000000000025</td><td>0.05847007781763251</td><td>0.14950000000000063</td><td>0.017140503930748237</td><td>0.3230000000000004</td><td>0.03883977342879325</td><td>0.24800000000000022</td><td>0.12460813576970005</td><td>nan</td><td>nan</td><td>-0.13999999999999968</td><td>0.051714601419715026</td><td>0.32200000000000095</td><td>0.013075280607427315</td><td>0.24100000000000055</td><td>0.034289644203321076</td><td>-0.15899999999999936</td><td>0.09666551723454563</td><td>0.13700000000000045</td><td>0.024837935349126893</td></tr>\n",
       "<tr><td>BD+43_3171</td><td>0.28550000000000075</td><td>0.027774123216385355</td><td>0.2570000000000001</td><td>0.06383866383313486</td><td>-0.0004999999999997229</td><td>0.06954906181969671</td><td>0.20650000000000013</td><td>0.05828622108614094</td><td>nan</td><td>nan</td><td>0.4225000000000003</td><td>0.012968712349342808</td><td>0.32650000000000023</td><td>0.17867480936046912</td><td>0.18350000000000044</td><td>0.24711535767734086</td><td>0.04100000000000037</td><td>0.05452977168483287</td><td>0.1095000000000006</td><td>0.0947523086789976</td><td>0.1385000000000005</td><td>0.05128187695268264</td><td>0.2134999999999998</td><td>0.04800520805079382</td><td>-0.057999999999999385</td><td>0.11110636795431662</td><td>0.3585000000000007</td><td>0.06505382386916242</td><td>nan</td><td>nan</td><td>-0.40499999999999936</td><td>0.05055813485483807</td><td>-0.3059999999999996</td><td>0.030052038200428254</td><td>0.2940000000000005</td><td>0.03995153313703977</td><td>0.12350000000000039</td><td>0.056319659089877294</td><td>0.017000000000000348</td><td>0.10812319362652953</td><td>0.1435000000000004</td><td>0.032129667788764645</td></tr>\n",
       "<tr><td>BD+43_3213</td><td>0.1880000000000006</td><td>0.02661522816679147</td><td>0.22599999999999998</td><td>0.07206097859790929</td><td>-0.1779999999999995</td><td>0.11026558846711877</td><td>0.2709999999999999</td><td>0.06893329102190833</td><td>nan</td><td>nan</td><td>0.37200000000000033</td><td>0.038890872965260226</td><td>nan</td><td>nan</td><td>0.6230000000000002</td><td>0.367428479435114</td><td>0.06199999999999983</td><td>0.10016957843798903</td><td>0.3340000000000005</td><td>0.06717514421272183</td><td>0.03300000000000036</td><td>0.05482902127837066</td><td>0.06299999999999972</td><td>0.04313930922024598</td><td>-0.11499999999999932</td><td>0.05232165474787235</td><td>0.487000000000001</td><td>0.10996476708473496</td><td>0.6430000000000002</td><td>0.4744625248636609</td><td>nan</td><td>nan</td><td>-0.06449999999999978</td><td>0.08874190103891151</td><td>0.3925000000000005</td><td>0.005303300858898993</td><td>0.07500000000000018</td><td>0.08904416992443058</td><td>-0.27899999999999947</td><td>0.11398026144907729</td><td>0.18450000000000033</td><td>0.04329651213392325</td></tr>\n",
       "<tr><td>BD+48_2955</td><td>0.22000000000000064</td><td>0.04557301915751775</td><td>0.20000000000000018</td><td>0.033181671440961395</td><td>0.0820000000000003</td><td>0.0363137689425762</td><td>0.29600000000000026</td><td>0.03848392521560137</td><td>nan</td><td>nan</td><td>0.30400000000000027</td><td>0.06945682111931137</td><td>nan</td><td>nan</td><td>0.23400000000000087</td><td>0.1416604655505548</td><td>0.054999999999999716</td><td>0.03847729042288454</td><td>0.0965000000000007</td><td>0.015909902576697294</td><td>0.11900000000000066</td><td>0.03888166993018395</td><td>0.2789999999999999</td><td>0.03877740966078058</td><td>0.24400000000000066</td><td>0.04978500652807026</td><td>0.3440000000000003</td><td>0.054751511394663874</td><td>nan</td><td>nan</td><td>nan</td><td>nan</td><td>-0.14699999999999935</td><td>0.04632891105994191</td><td>0.23200000000000065</td><td>0.0377011273041006</td><td>0.19800000000000018</td><td>0.03326683356953951</td><td>-0.04999999999999982</td><td>0.03704203018194335</td><td>0.15300000000000047</td><td>0.030223708855958882</td></tr>\n",
       "<tr><td>HD_174020</td><td>0.32800000000000074</td><td>0.029608850028327676</td><td>0.2270000000000003</td><td>0.04272507576079221</td><td>-0.06749999999999945</td><td>0.059702348114377995</td><td>0.29300000000000015</td><td>0.06687163207638183</td><td>nan</td><td>nan</td><td>0.39000000000000057</td><td>0.03252691193458137</td><td>nan</td><td>nan</td><td>0.2550000000000008</td><td>0.33131970964613644</td><td>0.05400000000000027</td><td>0.045502024789617006</td><td>0.2265000000000006</td><td>0.0236880771697494</td><td>0.09500000000000064</td><td>0.03875240987521974</td><td>0.1070000000000002</td><td>0.04197246120970274</td><td>0.02250000000000041</td><td>0.06817841942286433</td><td>nan</td><td>nan</td><td>0.37100000000000044</td><td>0.8856658512102631</td><td>-0.4779999999999993</td><td>1.1132325397238443</td><td>-0.1874999999999991</td><td>0.05965879545381374</td><td>0.4130000000000007</td><td>0.06363961030678948</td><td>0.25600000000000067</td><td>0.026113895666388026</td><td>-0.20099999999999962</td><td>0.1075487830741973</td><td>0.18100000000000094</td><td>0.02827077402835456</td></tr>\n",
       "<tr><td>HD_174829</td><td>0.15549999999999997</td><td>0.04290487092289863</td><td>0.19949999999999957</td><td>0.0637841653789279</td><td>0.04850000000000021</td><td>0.04647365840910227</td><td>0.19049999999999923</td><td>0.032254930172954235</td><td>nan</td><td>nan</td><td>0.28649999999999975</td><td>0.0106066017177983</td><td>nan</td><td>nan</td><td>0.3055000000000003</td><td>0.037393800238760114</td><td>-0.05750000000000011</td><td>0.0359089339885681</td><td>-0.020499999999999297</td><td>0.07008301955273916</td><td>0.05349999999999966</td><td>0.02032060810366223</td><td>0.14649999999999963</td><td>0.009148087231766001</td><td>0.12449999999999983</td><td>0.051649661179914694</td><td>0.0754999999999999</td><td>0.03085371938680971</td><td>nan</td><td>nan</td><td>-0.11649999999999983</td><td>0.13010764773832453</td><td>-0.24549999999999983</td><td>0.06052517554703989</td><td>0.16400000000000015</td><td>0.015076368097124744</td><td>0.012499999999999956</td><td>0.02309854191250964</td><td>-0.22949999999999982</td><td>0.03377814327287633</td><td>0.11749999999999972</td><td>0.02919511295724036</td></tr>\n",
       "<tr><td>HD_175740</td><td>0.12400000000000011</td><td>0.022052691004853683</td><td>0.07049999999999956</td><td>0.047968067991894354</td><td>-0.04800000000000004</td><td>0.022380547108792635</td><td>0.1444999999999994</td><td>0.030614571693884596</td><td>nan</td><td>nan</td><td>0.20899999999999963</td><td>0.007071067811865324</td><td>0.3039999999999994</td><td>0.0654562336108528</td><td>0.33999999999999986</td><td>0.028104303084258268</td><td>0.026999999999999247</td><td>0.04387794696544418</td><td>0.05799999999999983</td><td>0.01465403496449851</td><td>0.08499999999999996</td><td>0.023045651234372307</td><td>0.08699999999999974</td><td>0.07103300289302152</td><td>0.11699999999999999</td><td>0.011703117659964093</td><td>0.1819999999999995</td><td>0.024900763040517436</td><td>nan</td><td>nan</td><td>-0.16449999999999987</td><td>0.15662415203282046</td><td>-0.09350000000000058</td><td>0.07354962185490829</td><td>0.13450000000000006</td><td>0.03921495250539003</td><td>0.09149999999999991</td><td>0.017085074812277168</td><td>-0.15500000000000025</td><td>0.04305293898859337</td><td>0.08250000000000002</td><td>0.02889131934220613</td></tr>\n",
       "<tr><td>HD_175884</td><td>0.22850000000000037</td><td>0.02203816134698075</td><td>0.20249999999999968</td><td>0.0282155625466102</td><td>-0.00949999999999962</td><td>0.02911185325601929</td><td>0.3239999999999994</td><td>0.03485854747520531</td><td>nan</td><td>nan</td><td>0.3420000000000001</td><td>0.005303300858898993</td><td>nan</td><td>nan</td><td>0.45750000000000046</td><td>0.057854863107479365</td><td>0.03849999999999998</td><td>0.04810481918530084</td><td>0.13800000000000034</td><td>0.016617009357883763</td><td>0.09750000000000014</td><td>0.018643814972657657</td><td>0.18849999999999945</td><td>0.017541023345289765</td><td>0.13850000000000007</td><td>0.029869246307866616</td><td>0.2555000000000005</td><td>0.024894979413528334</td><td>nan</td><td>nan</td><td>-0.15299999999999958</td><td>0.1735947147812973</td><td>-0.2134999999999998</td><td>0.06802670064026332</td><td>0.2585000000000006</td><td>0.0398952331692601</td><td>0.20800000000000018</td><td>0.021881605624885767</td><td>-0.09750000000000014</td><td>0.052639233361523104</td><td>0.12950000000000017</td><td>0.02353279507925373</td></tr>\n",
       "<tr><td>...</td><td>...</td><td>...</td><td>...</td><td>...</td><td>...</td><td>...</td><td>...</td><td>...</td><td>...</td><td>...</td><td>...</td><td>...</td><td>...</td><td>...</td><td>...</td><td>...</td><td>...</td><td>...</td><td>...</td><td>...</td><td>...</td><td>...</td><td>...</td><td>...</td><td>...</td><td>...</td><td>...</td><td>...</td><td>...</td><td>...</td><td>...</td><td>...</td><td>...</td><td>...</td><td>...</td><td>...</td><td>...</td><td>...</td><td>...</td><td>...</td><td>...</td><td>...</td></tr>\n",
       "<tr><td>HD_182692</td><td>0.18700000000000072</td><td>0.027103710283116443</td><td>0.17950000000000044</td><td>0.0422072407517359</td><td>-0.1234999999999995</td><td>0.02770178494048512</td><td>0.2240000000000002</td><td>0.03836520836419356</td><td>nan</td><td>nan</td><td>0.35000000000000053</td><td>0.03252691193458137</td><td>0.13200000000000056</td><td>0.04775167245471313</td><td>0.38400000000000034</td><td>0.12367573529193183</td><td>0.025000000000000355</td><td>0.047303583373778366</td><td>0.22300000000000075</td><td>0.019026297590440302</td><td>0.1460000000000008</td><td>0.01592822823827227</td><td>0.01100000000000012</td><td>0.054467306707785726</td><td>0.056000000000000494</td><td>0.038140365755980905</td><td>0.20800000000000107</td><td>0.029173960992638606</td><td>nan</td><td>nan</td><td>-0.23999999999999932</td><td>1.3380378124328176</td><td>-0.20649999999999924</td><td>0.10146982310026985</td><td>0.14950000000000108</td><td>0.07151518632430458</td><td>0.24050000000000082</td><td>0.017221725464898644</td><td>-0.11499999999999932</td><td>0.057931632758572126</td><td>0.1800000000000006</td><td>0.032771550324883957</td></tr>\n",
       "<tr><td>HD_182694</td><td>0.10400000000000009</td><td>0.017270050076060292</td><td>0.10999999999999943</td><td>0.04086627125393599</td><td>-0.03699999999999992</td><td>0.02184541650374792</td><td>0.04899999999999949</td><td>0.0243730101505482</td><td>nan</td><td>nan</td><td>0.13899999999999935</td><td>0.0056568542494923844</td><td>nan</td><td>nan</td><td>0.31899999999999995</td><td>0.012581585603424395</td><td>-0.07100000000000062</td><td>0.0372716387666093</td><td>-0.08000000000000007</td><td>0.022395436042987705</td><td>0.0259999999999998</td><td>0.02873006978099756</td><td>0.16499999999999915</td><td>0.024903564001965684</td><td>0.1615000000000002</td><td>0.01978951742716329</td><td>0.16299999999999937</td><td>0.03980211049680662</td><td>nan</td><td>nan</td><td>-0.24149999999999983</td><td>0.07318555185280762</td><td>-0.11899999999999977</td><td>0.05031850554219598</td><td>0.04400000000000004</td><td>0.0348308412186671</td><td>-0.04700000000000015</td><td>0.01648113085018888</td><td>-0.26400000000000023</td><td>0.04415377170248943</td><td>0.09100000000000019</td><td>0.04662682014305659</td></tr>\n",
       "<tr><td>HD_183124</td><td>0.17250000000000076</td><td>0.02097467332990663</td><td>0.20650000000000013</td><td>0.035349790406108965</td><td>-0.020999999999999464</td><td>0.041388180456278595</td><td>0.1875</td><td>0.03211392999930095</td><td>nan</td><td>nan</td><td>0.2865000000000002</td><td>0.0021213203435597227</td><td>0.24600000000000044</td><td>0.05055813485483776</td><td>0.34750000000000014</td><td>0.021752820166249427</td><td>-0.0004999999999997229</td><td>0.04633838236214009</td><td>0.013500000000000512</td><td>0.037131398313835884</td><td>0.11150000000000038</td><td>0.01975609290819124</td><td>0.17249999999999943</td><td>0.050825682484350355</td><td>0.03550000000000031</td><td>0.06465920274794604</td><td>0.13750000000000018</td><td>0.03946948188157523</td><td>nan</td><td>nan</td><td>-0.18449999999999944</td><td>0.1682914139223983</td><td>-0.24350000000000005</td><td>0.03264845899885616</td><td>0.11650000000000027</td><td>0.039630125851427764</td><td>0.0950000000000002</td><td>0.018566875423015064</td><td>-0.22399999999999953</td><td>0.017324116139070388</td><td>0.10200000000000031</td><td>0.033977831825405765</td></tr>\n",
       "<tr><td>HD_185286</td><td>0.33500000000000085</td><td>0.020040080050107743</td><td>0.22299999999999986</td><td>0.03556635638418961</td><td>-0.036499999999999755</td><td>0.04121538952058244</td><td>0.3959999999999999</td><td>0.06424839758774213</td><td>nan</td><td>nan</td><td>0.4249999999999998</td><td>0.022627416997969538</td><td>nan</td><td>nan</td><td>0.5499999999999998</td><td>0.5326121360802812</td><td>0.11599999999999966</td><td>0.042892733960387085</td><td>0.2535000000000007</td><td>0.014495689014324353</td><td>0.13100000000000023</td><td>0.02865538684672179</td><td>0.17600000000000016</td><td>0.029676379496158246</td><td>0.1160000000000001</td><td>0.05044597977044357</td><td>0.5230000000000006</td><td>0.04562000860571131</td><td>0.3014999999999999</td><td>0.04843681451127866</td><td>nan</td><td>nan</td><td>-0.19299999999999962</td><td>0.08267555866155367</td><td>0.4590000000000005</td><td>0.010136567466356515</td><td>0.34299999999999997</td><td>0.02358270197621262</td><td>-0.10899999999999976</td><td>0.10143247445961277</td><td>0.2685000000000004</td><td>0.030553109119234503</td></tr>\n",
       "<tr><td>HD_185351</td><td>0.13300000000000045</td><td>0.025185274118170897</td><td>0.0804999999999998</td><td>0.05160823723875521</td><td>-0.0829999999999993</td><td>0.021006282129136692</td><td>0.19599999999999973</td><td>0.0344948184514718</td><td>nan</td><td>nan</td><td>0.2200000000000002</td><td>0.0024748737341531144</td><td>0.21150000000000002</td><td>0.08507425950091853</td><td>0.3775000000000004</td><td>0.013218953844413676</td><td>0.011499999999999844</td><td>0.03610482276506931</td><td>0.10550000000000104</td><td>0.018864035937514873</td><td>0.1535000000000002</td><td>0.02559723928262824</td><td>-0.05550000000000033</td><td>0.0600374882885685</td><td>0.12850000000000072</td><td>0.032124756808418135</td><td>0.28549999999999986</td><td>0.03922611375091847</td><td>nan</td><td>nan</td><td>-0.30949999999999944</td><td>0.10111626970967645</td><td>-0.16349999999999998</td><td>0.04634702660365604</td><td>0.15950000000000042</td><td>0.03768019207753594</td><td>0.17900000000000027</td><td>0.015426315500226745</td><td>-0.1744999999999992</td><td>0.030609850750419536</td><td>0.11950000000000038</td><td>0.04029159306636677</td></tr>\n",
       "<tr><td>HD_187217</td><td>0.16100000000000048</td><td>0.039780379434627866</td><td>0.2789999999999999</td><td>0.023498526720147597</td><td>-0.08699999999999974</td><td>0.029139272849922373</td><td>0.13900000000000023</td><td>0.04346477038915752</td><td>nan</td><td>nan</td><td>0.3195000000000001</td><td>0.02793071785686853</td><td>0.2110000000000003</td><td>0.13902585191251304</td><td>nan</td><td>nan</td><td>-0.030999999999999694</td><td>0.05805552897394394</td><td>-0.10499999999999954</td><td>0.09663831001710949</td><td>-0.026999999999999247</td><td>0.020327350200671918</td><td>nan</td><td>nan</td><td>-0.0739999999999994</td><td>0.0288300515955141</td><td>0.22300000000000075</td><td>0.04181769960196288</td><td>nan</td><td>nan</td><td>nan</td><td>nan</td><td>-0.37399999999999967</td><td>0.047287144913539275</td><td>0.27950000000000097</td><td>0.02831601799335492</td><td>0.10600000000000032</td><td>0.03426550328714239</td><td>-0.23399999999999954</td><td>0.024595994856133792</td><td>0.038000000000000256</td><td>0.05054567974358185</td></tr>\n",
       "<tr><td>HD_188537</td><td>0.11150000000000038</td><td>0.03855989809038324</td><td>0.27099999999999946</td><td>0.037582721262569584</td><td>0.01949999999999985</td><td>0.03328735495649971</td><td>0.10749999999999948</td><td>0.03903967693257719</td><td>nan</td><td>nan</td><td>0.2474999999999996</td><td>0.04944441323344857</td><td>0.2444999999999995</td><td>0.07457336991178563</td><td>nan</td><td>nan</td><td>0.04949999999999921</td><td>0.07340329621854591</td><td>0.10050000000000026</td><td>0.025860022056076123</td><td>0.11549999999999994</td><td>0.03721797741099853</td><td>0.19549999999999912</td><td>0.041894957930519505</td><td>0.14749999999999996</td><td>0.10139056600591602</td><td>0.2990000000000004</td><td>0.036097740580263396</td><td>nan</td><td>nan</td><td>0.31650000000000045</td><td>0.7810164450893463</td><td>-0.27449999999999974</td><td>0.09222837998183683</td><td>0.17149999999999999</td><td>0.0056568542494923844</td><td>0.10949999999999971</td><td>0.021068067072213998</td><td>-0.17499999999999982</td><td>0.04142368736604698</td><td>0.06400000000000006</td><td>0.04643512678996363</td></tr>\n",
       "<tr><td>HD_188629</td><td>0.3025000000000011</td><td>0.028373276598652707</td><td>0.2084999999999999</td><td>0.03199489842736227</td><td>-0.03899999999999926</td><td>0.06502965847581772</td><td>0.36850000000000005</td><td>0.06709853215795022</td><td>nan</td><td>nan</td><td>0.41100000000000003</td><td>0.039951533137040085</td><td>nan</td><td>nan</td><td>0.45750000000000046</td><td>0.32183798330837216</td><td>0.10449999999999982</td><td>0.056414439640928786</td><td>0.22100000000000097</td><td>0.006717514421272246</td><td>0.10350000000000037</td><td>0.024782670518277355</td><td>0.15050000000000008</td><td>0.029115073415672488</td><td>0.06100000000000039</td><td>0.07470222135251403</td><td>0.42850000000000055</td><td>0.011313708498984769</td><td>0.34250000000000025</td><td>0.22059167595355916</td><td>nan</td><td>nan</td><td>-0.040499999999999314</td><td>0.09687362902255701</td><td>0.3020000000000005</td><td>0.05904341622907665</td><td>0.31400000000000006</td><td>0.03776585759651169</td><td>-0.14849999999999985</td><td>0.08573533037785537</td><td>0.21550000000000047</td><td>0.04011491017712139</td></tr>\n",
       "<tr><td>HD_188875</td><td>0.18200000000000083</td><td>0.038652386012307756</td><td>0.2184999999999997</td><td>0.03428557547819572</td><td>-0.07249999999999934</td><td>0.03230274899435941</td><td>0.2945000000000002</td><td>0.038581390611849536</td><td>nan</td><td>nan</td><td>0.3285</td><td>0.018384776310850094</td><td>nan</td><td>nan</td><td>0.6145000000000005</td><td>1.0900865504628523</td><td>-0.02149999999999963</td><td>0.050014618449035014</td><td>0.23150000000000048</td><td>0.018384776310850094</td><td>0.08950000000000014</td><td>0.025576387616286674</td><td>0.19449999999999967</td><td>0.0679462103431825</td><td>0.19650000000000079</td><td>0.04572933276355557</td><td>0.2975000000000003</td><td>0.02961405071921094</td><td>nan</td><td>nan</td><td>0.3095000000000008</td><td>1.7105965881820295</td><td>-0.04049999999999976</td><td>0.07295589421013217</td><td>0.3260000000000005</td><td>0.07398426775335419</td><td>0.17550000000000043</td><td>0.018934835428842306</td><td>-0.2544999999999997</td><td>0.069307687564624</td><td>0.12700000000000022</td><td>0.03146312509495424</td></tr>\n",
       "<tr><td>HD_226754</td><td>0.3030000000000008</td><td>0.02383981101080299</td><td>0.3050000000000006</td><td>0.04196543093654571</td><td>0.03200000000000092</td><td>0.0420342122562086</td><td>0.39600000000000035</td><td>0.06409572196390392</td><td>nan</td><td>nan</td><td>0.47500000000000053</td><td>0.0652279656282488</td><td>0.4300000000000006</td><td>0.004242640687119445</td><td>0.4740000000000002</td><td>0.18465423769846157</td><td>0.18599999999999994</td><td>0.05382950863606319</td><td>0.3295000000000008</td><td>0.026516504294495594</td><td>0.2270000000000003</td><td>0.03217227678586037</td><td>0.2809999999999997</td><td>0.06845801633117923</td><td>-0.04849999999999932</td><td>0.06984849676263603</td><td>0.3440000000000003</td><td>0.040408513954363644</td><td>0.2610000000000001</td><td>0.13337259838512555</td><td>-0.22199999999999953</td><td>1.0691414780093418</td><td>-0.33049999999999935</td><td>0.039244426355853304</td><td>0.3840000000000008</td><td>0.06858935777509509</td><td>0.44950000000000045</td><td>0.035637863174812656</td><td>-0.02099999999999902</td><td>0.07374279625834644</td><td>0.3040000000000007</td><td>0.03823498858181933</td></tr>\n",
       "</table>"
      ],
      "text/plain": [
       "<Table length=35>\n",
       "  Object          Ca_Fe        ...        Sc_Fe                eSc_Fe       \n",
       "  str10          float64       ...       float64              float64       \n",
       "---------- ------------------- ... -------------------- --------------------\n",
       "BD+36_3564 0.20550000000000068 ...  0.17300000000000093 0.017790381816734174\n",
       "BD+39_3577  0.1330000000000009 ... -0.12499999999999956 0.053405093390050375\n",
       "BD+43_3064 0.18600000000000083 ...  0.13700000000000045 0.024837935349126893\n",
       "BD+43_3171 0.28550000000000075 ...   0.1435000000000004 0.032129667788764645\n",
       "BD+43_3213  0.1880000000000006 ...  0.18450000000000033  0.04329651213392325\n",
       "BD+48_2955 0.22000000000000064 ...  0.15300000000000047 0.030223708855958882\n",
       " HD_174020 0.32800000000000074 ...  0.18100000000000094  0.02827077402835456\n",
       " HD_174829 0.15549999999999997 ...  0.11749999999999972  0.02919511295724036\n",
       " HD_175740 0.12400000000000011 ...  0.08250000000000002  0.02889131934220613\n",
       " HD_175884 0.22850000000000037 ...  0.12950000000000017  0.02353279507925373\n",
       "       ...                 ... ...                  ...                  ...\n",
       " HD_182692 0.18700000000000072 ...   0.1800000000000006 0.032771550324883957\n",
       " HD_182694 0.10400000000000009 ...  0.09100000000000019  0.04662682014305659\n",
       " HD_183124 0.17250000000000076 ...  0.10200000000000031 0.033977831825405765\n",
       " HD_185286 0.33500000000000085 ...   0.2685000000000004 0.030553109119234503\n",
       " HD_185351 0.13300000000000045 ...  0.11950000000000038  0.04029159306636677\n",
       " HD_187217 0.16100000000000048 ... 0.038000000000000256  0.05054567974358185\n",
       " HD_188537 0.11150000000000038 ...  0.06400000000000006  0.04643512678996363\n",
       " HD_188629  0.3025000000000011 ...  0.21550000000000047  0.04011491017712139\n",
       " HD_188875 0.18200000000000083 ...  0.12700000000000022  0.03146312509495424\n",
       " HD_226754  0.3030000000000008 ...   0.3040000000000007  0.03823498858181933"
      ]
     },
     "execution_count": 8,
     "metadata": {},
     "output_type": "execute_result"
    }
   ],
   "source": [
    "nodiff"
   ]
  },
  {
   "cell_type": "code",
   "execution_count": 9,
   "metadata": {},
   "outputs": [
    {
     "name": "stdout",
     "output_type": "stream",
     "text": [
      "['Ca_Fe', 'Mg_Fe', 'Si_Fe', 'Ti_Fe', 'O_Fe', 'Al_Fe', 'Ba_Fe', 'Na_Fe', 'Ni_Fe', 'Mn_Fe', 'Co_Fe', 'Eu_Fe', 'La_Fe', 'Zr_Fe', 'Sr_Fe', 'Zn_Fe', 'Y_Fe', 'Cr_Fe', 'V_Fe', 'Cu_Fe', 'Sc_Fe']\n"
     ]
    }
   ],
   "source": [
    "elements = filter(lambda x: x[0]!='e', nodiff.keys()[1:])\n",
    "print elements"
   ]
  },
  {
   "cell_type": "markdown",
   "metadata": {},
   "source": [
    "### Create a string-formatted table merging abundances with their uncertainties appropriately."
   ]
  },
  {
   "cell_type": "code",
   "execution_count": 10,
   "metadata": {},
   "outputs": [],
   "source": [
    "newtab = Table([Column([str(obj).replace('_',' ') for obj in nodiff['Object']],name='Object')])\n",
    "\n",
    "for el in elements[:8]:\n",
    "    if el == 'O_Fe':\n",
    "        continue\n",
    "    col = nodiff[el]\n",
    "    ecol = nodiff['e%s' % el]\n",
    "    test = Column(['--' if 'nan' in str(col[j]) else '$%.2f \\pm %.2f$' % (col[j],ecol[j]) for j, x in enumerate(col)],name='[%s/Fe]' % el.replace('_Fe',''))\n",
    "#     test = Column(['$%.2f \\pm %.2f$' % (col[j],ecol[j]) for j, x in enumerate(col)],name=el.replace('_Fe',''))\n",
    "\n",
    "    newtab.add_column(test)\n",
    "    \n",
    "#     print el\n",
    "\n",
    "\n",
    "newtab2 = Table([Column([str(obj).replace('_',' ') for obj in nodiff['Object']],name='Object')])\n",
    "\n",
    "for el in elements[8:15]:\n",
    "    col = nodiff[el]\n",
    "    ecol = nodiff['e%s' % el]\n",
    "    test = Column(['--' if 'nan' in str(col[j]) else '$%.2f \\pm %.2f$' % (col[j],ecol[j]) for j, x in enumerate(col)],name='[%s/Fe]' % el.replace('_Fe',''))\n",
    "#     test = Column(['$%.2f \\pm %.2f$' % (col[j],ecol[j]) for j, x in enumerate(col)],name=el.replace('_Fe',''))\n",
    "\n",
    "    newtab2.add_column(test)\n",
    "    \n",
    "newtab3 = Table([Column([str(obj).replace('_',' ') for obj in nodiff['Object']],name='Object')])\n",
    "\n",
    "for el in elements[15:]:\n",
    "    col = nodiff[el]\n",
    "    ecol = nodiff['e%s' % el]\n",
    "    test = Column(['--' if 'nan' in str(col[j]) else '$%.2f \\pm %.2f$' % (col[j],ecol[j]) for j, x in enumerate(col)],name='[%s/Fe]' % el.replace('_Fe',''))\n",
    "#     test = Column(['$%.2f \\pm %.2f$' % (col[j],ecol[j]) for j, x in enumerate(col)],name=el.replace('_Fe',''))\n",
    "\n",
    "    newtab3.add_column(test)\n",
    "\n",
    "    \n",
    "# newtab_diff = Table([diff['Object']])\n",
    "\n",
    "# for el in elements:\n",
    "#     col = diff[el]\n",
    "#     ecol = diff['e%s' % el]\n",
    "#     test = Column(['--' if 'nan' in str(col[j]) else '%.2f $\\pm$ %.2f' % (col[j],ecol[j]) for j, x in enumerate(col)],name=el.replace('_Fe',''))\n",
    "# #     test = Column(['$%.2f \\pm %.2f$' % (col[j],ecol[j]) for j, x in enumerate(col)],name=el.replace('_Fe',''))\n",
    "\n",
    "#     newtab_diff.add_column(test)\n"
   ]
  },
  {
   "cell_type": "code",
   "execution_count": 11,
   "metadata": {},
   "outputs": [],
   "source": [
    "def oxford_join(string_list):\n",
    "    '''From https://stackoverflow.com/questions/19838976/grammatical-list-join-in-python'''\n",
    "    if len(string_list) < 1:\n",
    "        text = ''\n",
    "    elif len(string_list) == 1:\n",
    "        text = string_list[0]\n",
    "    elif len(string_list) == 2:\n",
    "        text = ' and '.join(string_list)\n",
    "    else:\n",
    "        text = ', '.join(string_list)\n",
    "        text = '{parts[0]}, and {parts[2]}'.format(parts=text.rpartition(', '))  # oxford comma\n",
    "    return text"
   ]
  },
  {
   "cell_type": "markdown",
   "metadata": {},
   "source": [
    "## Now produce three LaTeX tables to go into the paper directory."
   ]
  },
  {
   "cell_type": "code",
   "execution_count": 12,
   "metadata": {},
   "outputs": [],
   "source": [
    "latexdict = ascii.latex.latexdicts['AA'].copy()\n",
    "latexdict['tabletype']= 'table*'\n",
    "\n",
    "caption1 = r'Chemical abundances relative to iron for stars in the red giant sample as determined by BACCHUS, without differential line-by-line comparison to Arcturus, as described in Section~\\ref{spectroscopy}, for the elements %s. Dashes indicate elements for which abundances could not be reliably computed.' % oxford_join([el.replace('_Fe','') for el in filter(lambda x: x !='O_Fe',elements[0:8])])\n",
    "caption2 = r'Chemical abundances relative to iron for stars in the red giant sample as determined by BACCHUS, without differential line-by-line comparison to Arcturus, as described in Section~\\ref{spectroscopy}, for the elements %s. Dashes indicate elements for which abundances could not be reliably computed.' % oxford_join([el.replace('_Fe','') for el in elements[8:15]])\n",
    "caption3 = r'Chemical abundances relative to iron for stars in the red giant sample as determined by BACCHUS, without differential line-by-line comparison to Arcturus, as described in Section~\\ref{spectroscopy}, for the elements %s. Dashes indicate elements for which abundances could not be reliably computed.' % oxford_join([el.replace('_Fe','') for el in elements[15:]])\n",
    "\n",
    "caption1 = caption1+r'The catalogue of abundances for more elements continues in Tables~\\ref{elems2} and~\\ref{elems3}.'\n",
    "caption2 = caption2+r'The catalogue of abundances for more elements continues in Table~\\ref{elems3}.'\n",
    "\n",
    "\n",
    "newtab.write('../paper/abundances_1.tex',format='latex',latexdict=latexdict,caption=caption1+'\\label{elems1}',overwrite=True)\n",
    "newtab2.write('../paper/abundances_2.tex',format='latex',latexdict=latexdict,caption=caption2+'\\label{elems2}',overwrite=True)\n",
    "newtab3.write('../paper/abundances_3.tex',format='latex',latexdict=latexdict,caption=caption3+'\\label{elems3}',overwrite=True)"
   ]
  },
  {
   "cell_type": "markdown",
   "metadata": {},
   "source": [
    "### Now let's also do the stellar properties"
   ]
  },
  {
   "cell_type": "code",
   "execution_count": 13,
   "metadata": {},
   "outputs": [],
   "source": [
    "fname_merged =\"../data/abundances/final_pope_merged.fits\"\n",
    "merged = Table.read(fname_merged)\n",
    "merged.rename_column('RVerr','RV_err')\n",
    "merged.keys()\n",
    "merged.sort('Object')"
   ]
  },
  {
   "cell_type": "code",
   "execution_count": 14,
   "metadata": {},
   "outputs": [],
   "source": [
    "newtab = Table([Column([str(obj).replace('_',' ') for obj in merged['Object']],name='Object')])\n",
    "\n",
    "newkeys = ['RV', 'Teff', 'logg', 'monh','vsini','SNRe']\n",
    "names = [r'RV',r'\\teff', r'\\logg',r'[M/H]',r'$V\\sin{i}$',r'SNR']\n",
    "units = [r'(km/s)', r'(K)', '','','(km/s)','']\n",
    "\n",
    "for k, key in enumerate(newkeys):\n",
    "    col = merged[key]\n",
    "    if key+'_err' in merged.keys():\n",
    "        ecol = merged['%s_err' % key]\n",
    "        if 'Teff' in key:\n",
    "            test = Column(['--' if 'nan' in str(col[j]) else '$%.0f \\pm %.0f$' % (col[j],ecol[j]) for j, x in enumerate(col)],name=names[k])\n",
    "        else:\n",
    "            test = Column(['--' if 'nan' in str(col[j]) else '$%.2f \\pm %.2f$' % (col[j],ecol[j]) for j, x in enumerate(col)],name=names[k])\n",
    "    else:\n",
    "        test = Column(['%.1f' % (col[j]) for j, x in enumerate(col)],name=names[k])\n",
    "    \n",
    "    newtab.add_column(test)\n"
   ]
  },
  {
   "cell_type": "code",
   "execution_count": 15,
   "metadata": {},
   "outputs": [
    {
     "data": {
      "text/html": [
       "&lt;Table length=35&gt;\n",
       "<table id=\"table4677155920\" class=\"table-striped table-bordered table-condensed\">\n",
       "<thead><tr><th>Object</th><th>RV</th><th>\\teff</th><th>\\logg</th><th>[M/H]</th><th>$V\\sin{i}$</th><th>SNR</th></tr></thead>\n",
       "<thead><tr><th>str10</th><th>str17</th><th>str13</th><th>str15</th><th>str16</th><th>str16</th><th>str5</th></tr></thead>\n",
       "<tr><td>BD+36 3564</td><td>$-77.84 \\pm 0.05$</td><td>$4301 \\pm 50$</td><td>$2.06 \\pm 0.10$</td><td>$-0.34 \\pm 0.08$</td><td>$5.14 \\pm 0.50$</td><td>71.8</td></tr>\n",
       "<tr><td>BD+39 3577</td><td>$-14.81 \\pm 0.07$</td><td>$5079 \\pm 50$</td><td>$3.00 \\pm 0.10$</td><td>$-0.11 \\pm 0.08$</td><td>$3.98 \\pm 0.50$</td><td>92.8</td></tr>\n",
       "<tr><td>BD+43 3064</td><td>$-13.65 \\pm 0.06$</td><td>$4266 \\pm 50$</td><td>$2.03 \\pm 0.10$</td><td>$-0.21 \\pm 0.08$</td><td>$5.17 \\pm 0.50$</td><td>69.2</td></tr>\n",
       "<tr><td>BD+43 3171</td><td>$-16.32 \\pm 0.11$</td><td>$4072 \\pm 50$</td><td>$2.02 \\pm 0.10$</td><td>$-0.17 \\pm 0.08$</td><td>$5.68 \\pm 0.50$</td><td>68.6</td></tr>\n",
       "<tr><td>BD+43 3213</td><td>$-14.16 \\pm 0.16$</td><td>$4131 \\pm 50$</td><td>$2.07 \\pm 0.10$</td><td>$0.07 \\pm 0.08$</td><td>$6.24 \\pm 0.50$</td><td>57.3</td></tr>\n",
       "<tr><td>BD+48 2955</td><td>$1.66 \\pm 0.04$</td><td>$4344 \\pm 50$</td><td>$2.11 \\pm 0.10$</td><td>$-0.32 \\pm 0.08$</td><td>$4.78 \\pm 0.50$</td><td>31.7</td></tr>\n",
       "<tr><td>HD 174020</td><td>$-14.84 \\pm 0.08$</td><td>$4162 \\pm 50$</td><td>$1.97 \\pm 0.10$</td><td>$-0.10 \\pm 0.08$</td><td>$5.81 \\pm 0.50$</td><td>120.1</td></tr>\n",
       "<tr><td>HD 174829</td><td>$10.15 \\pm 0.03$</td><td>$4482 \\pm 50$</td><td>$2.06 \\pm 0.10$</td><td>$-0.40 \\pm 0.08$</td><td>$4.41 \\pm 0.50$</td><td>112.2</td></tr>\n",
       "<tr><td>HD 175740</td><td>$-8.82 \\pm 0.05$</td><td>$4973 \\pm 50$</td><td>$2.97 \\pm 0.10$</td><td>$-0.05 \\pm 0.08$</td><td>$3.66 \\pm 0.50$</td><td>264.0</td></tr>\n",
       "<tr><td>HD 175884</td><td>$-34.39 \\pm 0.07$</td><td>$4466 \\pm 50$</td><td>$2.22 \\pm 0.10$</td><td>$-0.27 \\pm 0.08$</td><td>$4.46 \\pm 0.50$</td><td>144.4</td></tr>\n",
       "<tr><td>...</td><td>...</td><td>...</td><td>...</td><td>...</td><td>...</td><td>...</td></tr>\n",
       "<tr><td>HD 182692</td><td>$-8.01 \\pm 0.05$</td><td>$4965 \\pm 50$</td><td>$3.06 \\pm 0.10$</td><td>$0.09 \\pm 0.08$</td><td>$3.40 \\pm 0.50$</td><td>72.8</td></tr>\n",
       "<tr><td>HD 182694</td><td>$-0.87 \\pm 0.06$</td><td>$5178 \\pm 50$</td><td>$2.98 \\pm 0.10$</td><td>$-0.12 \\pm 0.08$</td><td>$5.12 \\pm 0.50$</td><td>187.2</td></tr>\n",
       "<tr><td>HD 183124</td><td>$14.96 \\pm 0.01$</td><td>$4911 \\pm 50$</td><td>$2.85 \\pm 0.10$</td><td>$-0.15 \\pm 0.08$</td><td>$5.19 \\pm 0.50$</td><td>114.3</td></tr>\n",
       "<tr><td>HD 185286</td><td>$-13.70 \\pm 0.08$</td><td>$4301 \\pm 50$</td><td>$2.08 \\pm 0.10$</td><td>$-0.14 \\pm 0.08$</td><td>$5.16 \\pm 0.50$</td><td>135.6</td></tr>\n",
       "<tr><td>HD 185351</td><td>$-5.18 \\pm 0.04$</td><td>$5244 \\pm 50$</td><td>$3.66 \\pm 0.10$</td><td>$0.03 \\pm 0.08$</td><td>$2.02 \\pm 0.50$</td><td>202.3</td></tr>\n",
       "<tr><td>HD 187217</td><td>$1.64 \\pm 0.05$</td><td>$4718 \\pm 50$</td><td>$2.41 \\pm 0.10$</td><td>$-0.17 \\pm 0.08$</td><td>$8.25 \\pm 0.50$</td><td>59.9</td></tr>\n",
       "<tr><td>HD 188537</td><td>$-18.03 \\pm 0.15$</td><td>$4961 \\pm 50$</td><td>$2.41 \\pm 0.10$</td><td>$-0.08 \\pm 0.08$</td><td>$10.68 \\pm 0.50$</td><td>67.0</td></tr>\n",
       "<tr><td>HD 188629</td><td>$10.97 \\pm 0.08$</td><td>$4227 \\pm 50$</td><td>$2.01 \\pm 0.10$</td><td>$-0.10 \\pm 0.08$</td><td>$5.53 \\pm 0.50$</td><td>51.3</td></tr>\n",
       "<tr><td>HD 188875</td><td>$-13.71 \\pm 0.08$</td><td>$4473 \\pm 50$</td><td>$1.95 \\pm 0.10$</td><td>$-0.17 \\pm 0.08$</td><td>$7.07 \\pm 0.50$</td><td>143.2</td></tr>\n",
       "<tr><td>HD 226754</td><td>$18.66 \\pm 0.10$</td><td>$4370 \\pm 50$</td><td>$2.36 \\pm 0.10$</td><td>$0.08 \\pm 0.08$</td><td>$4.78 \\pm 0.50$</td><td>62.5</td></tr>\n",
       "</table>"
      ],
      "text/plain": [
       "<Table length=35>\n",
       "  Object           RV            \\teff     ...    $V\\sin{i}$     SNR \n",
       "  str10          str17           str13     ...      str16        str5\n",
       "---------- ----------------- ------------- ... ---------------- -----\n",
       "BD+36 3564 $-77.84 \\pm 0.05$ $4301 \\pm 50$ ...  $5.14 \\pm 0.50$  71.8\n",
       "BD+39 3577 $-14.81 \\pm 0.07$ $5079 \\pm 50$ ...  $3.98 \\pm 0.50$  92.8\n",
       "BD+43 3064 $-13.65 \\pm 0.06$ $4266 \\pm 50$ ...  $5.17 \\pm 0.50$  69.2\n",
       "BD+43 3171 $-16.32 \\pm 0.11$ $4072 \\pm 50$ ...  $5.68 \\pm 0.50$  68.6\n",
       "BD+43 3213 $-14.16 \\pm 0.16$ $4131 \\pm 50$ ...  $6.24 \\pm 0.50$  57.3\n",
       "BD+48 2955   $1.66 \\pm 0.04$ $4344 \\pm 50$ ...  $4.78 \\pm 0.50$  31.7\n",
       " HD 174020 $-14.84 \\pm 0.08$ $4162 \\pm 50$ ...  $5.81 \\pm 0.50$ 120.1\n",
       " HD 174829  $10.15 \\pm 0.03$ $4482 \\pm 50$ ...  $4.41 \\pm 0.50$ 112.2\n",
       " HD 175740  $-8.82 \\pm 0.05$ $4973 \\pm 50$ ...  $3.66 \\pm 0.50$ 264.0\n",
       " HD 175884 $-34.39 \\pm 0.07$ $4466 \\pm 50$ ...  $4.46 \\pm 0.50$ 144.4\n",
       "       ...               ...           ... ...              ...   ...\n",
       " HD 182692  $-8.01 \\pm 0.05$ $4965 \\pm 50$ ...  $3.40 \\pm 0.50$  72.8\n",
       " HD 182694  $-0.87 \\pm 0.06$ $5178 \\pm 50$ ...  $5.12 \\pm 0.50$ 187.2\n",
       " HD 183124  $14.96 \\pm 0.01$ $4911 \\pm 50$ ...  $5.19 \\pm 0.50$ 114.3\n",
       " HD 185286 $-13.70 \\pm 0.08$ $4301 \\pm 50$ ...  $5.16 \\pm 0.50$ 135.6\n",
       " HD 185351  $-5.18 \\pm 0.04$ $5244 \\pm 50$ ...  $2.02 \\pm 0.50$ 202.3\n",
       " HD 187217   $1.64 \\pm 0.05$ $4718 \\pm 50$ ...  $8.25 \\pm 0.50$  59.9\n",
       " HD 188537 $-18.03 \\pm 0.15$ $4961 \\pm 50$ ... $10.68 \\pm 0.50$  67.0\n",
       " HD 188629  $10.97 \\pm 0.08$ $4227 \\pm 50$ ...  $5.53 \\pm 0.50$  51.3\n",
       " HD 188875 $-13.71 \\pm 0.08$ $4473 \\pm 50$ ...  $7.07 \\pm 0.50$ 143.2\n",
       " HD 226754  $18.66 \\pm 0.10$ $4370 \\pm 50$ ...  $4.78 \\pm 0.50$  62.5"
      ]
     },
     "execution_count": 15,
     "metadata": {},
     "output_type": "execute_result"
    }
   ],
   "source": [
    "newtab"
   ]
  },
  {
   "cell_type": "code",
   "execution_count": 16,
   "metadata": {},
   "outputs": [],
   "source": [
    "latexdict = ascii.latex.latexdicts['AA'].copy()\n",
    "latexdict['tabletype']= 'table*'\n",
    "latexdict['units'] = dict(zip(names,units))\n",
    "\n",
    "caption = r'Fundamental stellar parameters for the red giant sample as determined jointly by asteroseismology (asteroseismic \\logg; Section~\\ref{asteroseismology}) and spectroscopy (%s; Section~\\ref{spectroscopy}.)' % oxford_join(names)  \n",
    "caption = caption+r'\\label{stellar_props}'\n",
    "newtab.write('../paper/stellar_props.tex',format='latex',latexdict=latexdict,caption=caption+'\\label{stellar_props}',overwrite=True)\n"
   ]
  },
  {
   "cell_type": "markdown",
   "metadata": {},
   "source": [
    "### Now let's look at the proper spectroscopy with Dnu measurements"
   ]
  },
  {
   "cell_type": "code",
   "execution_count": 17,
   "metadata": {},
   "outputs": [],
   "source": [
    "fname_seismic = \"../data/smear_Dnu.csv\"\n",
    "seismic = Table.read(fname_seismic)\n",
    "seismic.sort('Star_ID')"
   ]
  },
  {
   "cell_type": "code",
   "execution_count": 18,
   "metadata": {},
   "outputs": [
    {
     "data": {
      "text/html": [
       "&lt;Table length=35&gt;\n",
       "<table id=\"table4676413968\" class=\"table-striped table-bordered table-condensed\">\n",
       "<thead><tr><th>Star_ID</th><th>Dnu</th><th>Dnu_err</th><th>Numax</th><th>Numax_err</th><th>eps</th><th>eps_err</th></tr></thead>\n",
       "<thead><tr><th>str9</th><th>float64</th><th>float64</th><th>float64</th><th>float64</th><th>float64</th><th>float64</th></tr></thead>\n",
       "<tr><td>BD+36_356</td><td>0.9490949804411055</td><td>0.030097283743239316</td><td>5.079062736733746</td><td>0.09882652247868091</td><td>0.8305746287171062</td><td>0.20003026391376488</td></tr>\n",
       "<tr><td>BD+39_357</td><td>1.6836250688792482</td><td>0.01363988821142889</td><td>13.266855807051439</td><td>0.31633186319569034</td><td>0.7409609522947077</td><td>0.06299253167276896</td></tr>\n",
       "<tr><td>BD+42_315</td><td>4.221788591943251</td><td>0.028504804862306103</td><td>38.315943379269186</td><td>0.9588694546996247</td><td>0.7013731801198373</td><td>0.07075600621249865</td></tr>\n",
       "<tr><td>BD+43_317</td><td>0.41728859981040545</td><td>0.05318387492844148</td><td>1.984298734336489</td><td>0.05145104900196677</td><td>0.8040170562496404</td><td>0.17159665699501567</td></tr>\n",
       "<tr><td>BD+43_321</td><td>0.48750734592283734</td><td>0.006958633078022336</td><td>2.5632797174106847</td><td>0.06325084146747773</td><td>1.0124195735754942</td><td>0.07326685394355063</td></tr>\n",
       "<tr><td>BD+48_290</td><td>2.8511597676805804</td><td>0.010318892608438912</td><td>23.13453453354469</td><td>0.7225398099392429</td><td>0.8563054208127122</td><td>0.08052669688943252</td></tr>\n",
       "<tr><td>BD+48_295</td><td>0.8953098233940573</td><td>0.0068208356847463585</td><td>5.440132725276065</td><td>0.08331498484403516</td><td>0.8105480979445374</td><td>0.052471147709803705</td></tr>\n",
       "<tr><td>HD_174020</td><td>0.5639183284003043</td><td>0.01603666749035637</td><td>2.47548965209216</td><td>0.09744999575175439</td><td>0.8926590744791576</td><td>0.08467569516842773</td></tr>\n",
       "<tr><td>HD_174829</td><td>1.2833572675283929</td><td>0.011357043983480081</td><td>7.9497984768617815</td><td>0.1571667547811646</td><td>0.7755393571480604</td><td>0.05755641850899791</td></tr>\n",
       "<tr><td>HD_175740</td><td>5.930230004063379</td><td>0.010423967130974505</td><td>64.33345016648104</td><td>0.781397165223729</td><td>1.0017574684895851</td><td>0.019432829648297706</td></tr>\n",
       "<tr><td>...</td><td>...</td><td>...</td><td>...</td><td>...</td><td>...</td><td>...</td></tr>\n",
       "<tr><td>HD_182354</td><td>2.6567259425373924</td><td>0.0116743978566671</td><td>24.73075125143719</td><td>0.3707943073028773</td><td>0.7424211095150425</td><td>0.041177248862450624</td></tr>\n",
       "<tr><td>HD_182531</td><td>1.0303790538910182</td><td>0.004200581130585748</td><td>6.465080945267556</td><td>0.08931624177636578</td><td>0.8644896897235024</td><td>0.027293960706728466</td></tr>\n",
       "<tr><td>HD_182692</td><td>4.656371955263934</td><td>0.010792609608257217</td><td>44.38373487371614</td><td>0.469132553990273</td><td>0.8736919472802216</td><td>0.022597153253640357</td></tr>\n",
       "<tr><td>HD_182694</td><td>5.71435782334927</td><td>0.014267235676153614</td><td>69.7756254063585</td><td>1.017847172490138</td><td>0.9395935999968813</td><td>0.2516523703726711</td></tr>\n",
       "<tr><td>HD_183124</td><td>4.3919882085523305</td><td>0.013079012313137814</td><td>39.585673622735754</td><td>0.2876104937870424</td><td>0.9451337192882556</td><td>0.027794156928306737</td></tr>\n",
       "<tr><td>HD_185286</td><td>0.7202161705442813</td><td>0.007066328212678815</td><td>4.226733266919384</td><td>0.10176701279630138</td><td>0.7275758136813686</td><td>0.08183138701360353</td></tr>\n",
       "<tr><td>HD_188537</td><td>1.5481552727523136</td><td>0.01087246922323641</td><td>13.402868450842114</td><td>0.3426745085090518</td><td>0.7178796532748889</td><td>0.06718021726784126</td></tr>\n",
       "<tr><td>HD_189636</td><td>2.9103268982809842</td><td>0.013248235493462875</td><td>25.970144308219286</td><td>0.7419635016983703</td><td>0.9683943365400706</td><td>0.03773314934951546</td></tr>\n",
       "<tr><td>HD_189750</td><td>4.156962281052604</td><td>0.03829971628489321</td><td>36.14219592398721</td><td>0.5754661116683394</td><td>0.9436460960784349</td><td>0.07974840612479843</td></tr>\n",
       "<tr><td>HD_226754</td><td>1.187709408421745</td><td>0.012942784192061485</td><td>7.40678483572143</td><td>0.18595980259156958</td><td>0.7353868227670696</td><td>0.07705968190684095</td></tr>\n",
       "</table>"
      ],
      "text/plain": [
       "<Table length=35>\n",
       " Star_ID          Dnu         ...        eps               eps_err       \n",
       "   str9         float64       ...      float64             float64       \n",
       "--------- ------------------- ... ------------------ --------------------\n",
       "BD+36_356  0.9490949804411055 ... 0.8305746287171062  0.20003026391376488\n",
       "BD+39_357  1.6836250688792482 ... 0.7409609522947077  0.06299253167276896\n",
       "BD+42_315   4.221788591943251 ... 0.7013731801198373  0.07075600621249865\n",
       "BD+43_317 0.41728859981040545 ... 0.8040170562496404  0.17159665699501567\n",
       "BD+43_321 0.48750734592283734 ... 1.0124195735754942  0.07326685394355063\n",
       "BD+48_290  2.8511597676805804 ... 0.8563054208127122  0.08052669688943252\n",
       "BD+48_295  0.8953098233940573 ... 0.8105480979445374 0.052471147709803705\n",
       "HD_174020  0.5639183284003043 ... 0.8926590744791576  0.08467569516842773\n",
       "HD_174829  1.2833572675283929 ... 0.7755393571480604  0.05755641850899791\n",
       "HD_175740   5.930230004063379 ... 1.0017574684895851 0.019432829648297706\n",
       "      ...                 ... ...                ...                  ...\n",
       "HD_182354  2.6567259425373924 ... 0.7424211095150425 0.041177248862450624\n",
       "HD_182531  1.0303790538910182 ... 0.8644896897235024 0.027293960706728466\n",
       "HD_182692   4.656371955263934 ... 0.8736919472802216 0.022597153253640357\n",
       "HD_182694    5.71435782334927 ... 0.9395935999968813   0.2516523703726711\n",
       "HD_183124  4.3919882085523305 ... 0.9451337192882556 0.027794156928306737\n",
       "HD_185286  0.7202161705442813 ... 0.7275758136813686  0.08183138701360353\n",
       "HD_188537  1.5481552727523136 ... 0.7178796532748889  0.06718021726784126\n",
       "HD_189636  2.9103268982809842 ... 0.9683943365400706  0.03773314934951546\n",
       "HD_189750   4.156962281052604 ... 0.9436460960784349  0.07974840612479843\n",
       "HD_226754   1.187709408421745 ... 0.7353868227670696  0.07705968190684095"
      ]
     },
     "execution_count": 18,
     "metadata": {},
     "output_type": "execute_result"
    }
   ],
   "source": [
    "seismic"
   ]
  },
  {
   "cell_type": "code",
   "execution_count": 19,
   "metadata": {},
   "outputs": [],
   "source": [
    "newtab = Table([Column([str(obj).replace('_',' ') for obj in seismic['Star_ID']],name='Object')])\n",
    "\n",
    "newkeys = ['Dnu', 'Numax', 'eps']\n",
    "names = [r'\\Dnu',r'\\numax', r'$\\epsilon$']\n",
    "units = [r'(\\muHz)', r'(\\muHz)','']\n",
    "\n",
    "for k, key in enumerate(newkeys):\n",
    "    col = seismic[key]\n",
    "    if key+'_err' in seismic.keys():\n",
    "        ecol = seismic['%s_err' % key]\n",
    "        if 'Teff' in key:\n",
    "            test = Column(['--' if 'nan' in str(col[j]) else '$%.0f \\pm %.0f$' % (col[j],ecol[j]) for j, x in enumerate(col)],name=names[k])\n",
    "        else:\n",
    "            test = Column(['--' if 'nan' in str(col[j]) else '$%.2f \\pm %.2f$' % (col[j],ecol[j]) for j, x in enumerate(col)],name=names[k])\n",
    "    else:\n",
    "        test = Column(['%.1f' % (col[j]) for j, x in enumerate(col)],name=names[k])\n",
    "    \n",
    "    newtab.add_column(test)\n",
    "\n",
    "latexdict = ascii.latex.latexdicts['AA'].copy()\n",
    "latexdict['tabletype']= 'table'\n",
    "latexdict['units'] = dict(zip(names,units))\n",
    "\n",
    "caption = r'Bulk asteroseismic parameters %s for the red giant sample as discussed in Section~\\ref{asteroseismology}.' % oxford_join(names)  \n",
    "caption = caption+r'\\label{astero_table}'\n",
    "newtab.write('../paper/astero_table.tex',format='latex',latexdict=latexdict,caption=caption+'\\label{stellar_props}',overwrite=True)\n"
   ]
  },
  {
   "cell_type": "markdown",
   "metadata": {},
   "source": [
    "### Notes on individual stars from Guy Davies\n",
    "\n",
    "BD+39_388 - No secure detection.\n",
    "\n",
    "BD+43_306 - Big peaks but not consistent enough with RG pattern.\n",
    "\n",
    "HD_179959 - Pattern is too complicated - is this two stars??  Literature says no.\n",
    "\n",
    "HD_185351 - Odd mode envelope - No explanation.\n",
    "\n",
    "HD_187217 - No info on this star - maybe a double but very difficult to tell.\n",
    "\n",
    "HD_188639 - Too difficult to get a robust Dnu.\n",
    "\n",
    "HD_188875 -  Too difficult to get a robust Dnu.\n",
    "\n",
    "HD_188629 - Too difficult to get a robust Dnu.\n",
    "\n"
   ]
  },
  {
   "cell_type": "code",
   "execution_count": 20,
   "metadata": {},
   "outputs": [
    {
     "data": {
      "image/png": "[encoded data removed]",
      "text/plain": [
       "<Figure size 432x288 with 1 Axes>"
      ]
     },
     "metadata": {},
     "output_type": "display_data"
    }
   ],
   "source": [
    "# the stars follow the expected numax-Dnu relation\n",
    "plt.errorbar(seismic['Numax'],seismic['Dnu'],xerr=seismic['Numax_err'],yerr=seismic['Dnu_err'],linestyle='none')\n",
    "plt.xlabel(r'$\\nu_{max}$ ($\\mu$Hz)')\n",
    "plt.ylabel(r'$\\Delta\\nu$ ($\\mu$Hz)')\n",
    "plt.title('Asteroseismic Parameters')\n",
    "plt.xscale('log')\n",
    "plt.yscale('log')"
   ]
  },
  {
   "cell_type": "markdown",
   "metadata": {},
   "source": [
    "### Which ones are missing?"
   ]
  },
  {
   "cell_type": "code",
   "execution_count": 21,
   "metadata": {},
   "outputs": [],
   "source": [
    "badstars = ['BD+39_388','BD+43_306','HD_179959','HD_185351','HD_187217','HD_188639','HD_188875','HD_188629']\n",
    "notes = ['No secure detection','Not consistent with RG pattern','Possible contamination',r'\\citep{2017MNRAS.464.3713H}',\n",
    "         'Possible contamination or binary',r'Too difficult to get a robust \\Dnu',r'Too difficult to get a robust \\Dnu',\n",
    "         r'Too difficult to get a robust \\Dnu']\n",
    "\n",
    "notecol = [notes[j] if star in badstars else '' for j, star in enumerate(seismic['Star_ID'])]"
   ]
  },
  {
   "cell_type": "code",
   "execution_count": 22,
   "metadata": {},
   "outputs": [
    {
     "data": {
      "text/plain": [
       "array(['BD+39_388', 'BD+43_306', 'HD_179959', 'HD_185351', 'HD_187217',\n",
       "       'HD_188629', 'HD_188639', 'HD_188875'], dtype='|S9')"
      ]
     },
     "execution_count": 22,
     "metadata": {},
     "output_type": "execute_result"
    }
   ],
   "source": [
    "np.sort(badstars)"
   ]
  },
  {
   "cell_type": "code",
   "execution_count": 23,
   "metadata": {},
   "outputs": [
    {
     "name": "stdout",
     "output_type": "stream",
     "text": [
      "BD+43_306\n",
      "HD_179959\n",
      "HD_185351\n",
      "HD_187217\n",
      "HD_188629\n",
      "HD_188875\n"
     ]
    }
   ],
   "source": [
    "for star in merged['Object']:\n",
    "    if star[:9] not in seismic['Star_ID']:\n",
    "        print star[:9]"
   ]
  },
  {
   "cell_type": "code",
   "execution_count": 24,
   "metadata": {},
   "outputs": [
    {
     "name": "stdout",
     "output_type": "stream",
     "text": [
      "BD+42_315\n",
      "BD+48_290\n",
      "HD_176209\n",
      "HD_182354\n",
      "HD_189636\n",
      "HD_189750\n"
     ]
    }
   ],
   "source": [
    "for star in seismic['Star_ID']:\n",
    "    if star not in merged['Object'].astype('S9'):\n",
    "        print star"
   ]
  },
  {
   "cell_type": "markdown",
   "metadata": {},
   "source": [
    "## Read the main catalogue"
   ]
  },
  {
   "cell_type": "code",
   "execution_count": 25,
   "metadata": {},
   "outputs": [],
   "source": [
    "fname_cat = '../data/catalogue.csv'\n",
    "cat = Table.read(fname_cat,format='ascii')\n",
    "cat.sort('kepmag')"
   ]
  },
  {
   "cell_type": "code",
   "execution_count": 26,
   "metadata": {},
   "outputs": [
    {
     "data": {
      "text/html": [
       "&lt;Table masked=True length=102&gt;\n",
       "<table id=\"table4712908624\" class=\"table-striped table-bordered table-condensed\">\n",
       "<thead><tr><th>Name</th><th>SpType</th><th>[Fe/H]</th><th>theta</th><th>Observed</th><th>Seasons</th><th>Teff</th><th>Log_G</th><th>E(B-V)</th><th>g</th><th>r</th><th>J</th><th>kepmag</th><th>Edge_Dist</th><th>Notes</th><th>Collaborators</th><th>Interferometry?</th><th>TRES?</th></tr></thead>\n",
       "<thead><tr><th>str10</th><th>str15</th><th>float64</th><th>float64</th><th>str29</th><th>int64</th><th>int64</th><th>float64</th><th>float64</th><th>float64</th><th>float64</th><th>float64</th><th>float64</th><th>int64</th><th>str84</th><th>str16</th><th>str3</th><th>str3</th></tr></thead>\n",
       "<tr><td>HD_185351</td><td>G9IIIbCN</td><td>0.16</td><td>1.156</td><td>LC:Q1-3 SC:Q16 under</td><td>4</td><td>--</td><td>--</td><td>--</td><td>6.091</td><td>5.176</td><td>3.654</td><td>5.034</td><td>59</td><td>RG: Retired A star</td><td>Hjorringgaard</td><td>--</td><td>Yes</td></tr>\n",
       "<tr><td>HD_186155</td><td>F5II-III</td><td>0.3</td><td>0.57</td><td>LC:Q1 under</td><td>4</td><td>--</td><td>--</td><td>--</td><td>5.44</td><td>5.065</td><td>4.419</td><td>5.055</td><td>66</td><td>three sharp peaks</td><td>--</td><td>--</td><td>--</td></tr>\n",
       "<tr><td>HD_175740</td><td>G8III</td><td>-0.1</td><td>1.035</td><td>unobserved</td><td>4</td><td>--</td><td>--</td><td>--</td><td>6.486</td><td>5.462</td><td>4.08</td><td>5.212</td><td>0</td><td>RG: suppressed l=1</td><td>Tim W, Guy, Cleo</td><td>Yes</td><td>Yes</td></tr>\n",
       "<tr><td>HD_184875</td><td>A2V</td><td>--</td><td>0.349</td><td>unobserved</td><td>4</td><td>--</td><td>--</td><td>--</td><td>5.399</td><td>5.337</td><td>5.128</td><td>5.403</td><td>0</td><td>Classical Pulsator</td><td>--</td><td>--</td><td>--</td></tr>\n",
       "<tr><td>14_Cyg</td><td>B9III</td><td>0.08</td><td>0.267</td><td>unobserved</td><td>4</td><td>--</td><td>--</td><td>--</td><td>5.334</td><td>5.394</td><td>5.365</td><td>5.49</td><td>0</td><td>contact binary, interesting ramp at low freq</td><td>--</td><td>--</td><td>--</td></tr>\n",
       "<tr><td>HD_189178</td><td>B5V</td><td>--</td><td>0.236</td><td>unobserved</td><td>4</td><td>--</td><td>--</td><td>--</td><td>5.356</td><td>5.448</td><td>5.595</td><td>5.552</td><td>0</td><td>Classical Pulsator</td><td>--</td><td>--</td><td>--</td></tr>\n",
       "<tr><td>HD_187372</td><td>M1III</td><td>--</td><td>2.693</td><td>unobserved</td><td>4</td><td>--</td><td>--</td><td>--</td><td>7.805</td><td>6.141</td><td>2.979</td><td>5.672</td><td>110</td><td>RG: low freq</td><td>--</td><td>--</td><td>--</td></tr>\n",
       "<tr><td>HD_182694</td><td>G7IIIa</td><td>-0.01</td><td>0.771</td><td>LC:Q2 under</td><td>4</td><td>--</td><td>--</td><td>--</td><td>6.76</td><td>5.86</td><td>4.437</td><td>5.722</td><td>137</td><td>RG</td><td>Tim W</td><td>Yes</td><td>--</td></tr>\n",
       "<tr><td>V380_Cyg</td><td>B1.1III+B2.5/3V</td><td>1.25</td><td>0.226</td><td>LC:Q11 SC:Q7 9 10 12-17 under</td><td>4</td><td>--</td><td>--</td><td>--</td><td>5.615</td><td>5.675</td><td>5.712</td><td>5.771</td><td>122</td><td>Eclipsing_binary</td><td>--</td><td>--</td><td>--</td></tr>\n",
       "<tr><td>HD_186121</td><td>M2III</td><td>--</td><td>3.429</td><td>unobserved</td><td>4</td><td>--</td><td>--</td><td>--</td><td>7.735</td><td>6.198</td><td>2.561</td><td>5.773</td><td>44</td><td>RG: low freq</td><td>--</td><td>--</td><td>--</td></tr>\n",
       "<tr><td>...</td><td>...</td><td>...</td><td>...</td><td>...</td><td>...</td><td>...</td><td>...</td><td>...</td><td>...</td><td>...</td><td>...</td><td>...</td><td>...</td><td>...</td><td>...</td><td>...</td><td>...</td></tr>\n",
       "<tr><td>V554_Lyr</td><td>0</td><td>--</td><td>--</td><td>unobserved</td><td>2</td><td>9887</td><td>4.309</td><td>0.051</td><td>7.97</td><td>8.248</td><td>8.266</td><td>8.179</td><td>0</td><td>Missing - alpha2 Cvn</td><td>--</td><td>--</td><td>--</td></tr>\n",
       "<tr><td>BD+47_2825</td><td>K0</td><td>--</td><td>--</td><td>unobserved</td><td>4</td><td>--</td><td>--</td><td>--</td><td>9.75</td><td>8.558</td><td>6.503</td><td>8.251</td><td>162</td><td>Not sure - classical?</td><td>--</td><td>--</td><td>--</td></tr>\n",
       "<tr><td>BD+39_3882</td><td>F5</td><td>--</td><td>--</td><td>unobserved</td><td>4</td><td>6241</td><td>4.186</td><td>0.02</td><td>8.463</td><td>8.192</td><td>7.36</td><td>8.259</td><td>0</td><td>bad light curve</td><td>--</td><td>--</td><td>--</td></tr>\n",
       "<tr><td>BD+43_3064</td><td>K5</td><td>--</td><td>--</td><td>unobserved</td><td>3</td><td>--</td><td>--</td><td>--</td><td>10.18</td><td>8.692</td><td>6.205</td><td>8.284</td><td>0</td><td>RG</td><td>--</td><td>--</td><td>--</td></tr>\n",
       "<tr><td>BD+43_3068</td><td>G0</td><td>--</td><td>--</td><td>unobserved</td><td>4</td><td>5506</td><td>4.394</td><td>0.011</td><td>8.754</td><td>8.254</td><td>7.181</td><td>8.308</td><td>0</td><td>not good</td><td>--</td><td>--</td><td>--</td></tr>\n",
       "<tr><td>BD+43_3213</td><td>K5</td><td>--</td><td>--</td><td>unobserved</td><td>4</td><td>--</td><td>--</td><td>--</td><td>10.425</td><td>8.775</td><td>5.821</td><td>8.311</td><td>127</td><td>RG: low freq</td><td>--</td><td>--</td><td>--</td></tr>\n",
       "<tr><td>BD+42_3150</td><td>K0</td><td>--</td><td>--</td><td>unobserved</td><td>4</td><td>4716</td><td>2.329</td><td>0.063</td><td>9.111</td><td>8.257</td><td>6.743</td><td>8.35</td><td>261</td><td>not sure</td><td>--</td><td>--</td><td>--</td></tr>\n",
       "<tr><td>BD+43_3171</td><td>M0</td><td>--</td><td>--</td><td>unobserved</td><td>4</td><td>--</td><td>--</td><td>--</td><td>10.412</td><td>8.818</td><td>5.904</td><td>8.373</td><td>332</td><td>RG: very low freq?</td><td>--</td><td>--</td><td>--</td></tr>\n",
       "<tr><td>BD+48_2904</td><td>K0</td><td>--</td><td>--</td><td>unobserved</td><td>4</td><td>4529</td><td>2.014</td><td>0.083</td><td>9.364</td><td>8.42</td><td>6.692</td><td>8.487</td><td>0</td><td>nothing</td><td>--</td><td>--</td><td>--</td></tr>\n",
       "<tr><td>BD+47_2891</td><td>K0</td><td>--</td><td>--</td><td>unobserved</td><td>2</td><td>--</td><td>--</td><td>--</td><td>10.081</td><td>8.962</td><td>6.99</td><td>8.68</td><td>--</td><td>nothing</td><td>--</td><td>--</td><td>--</td></tr>\n",
       "</table>"
      ],
      "text/plain": [
       "<Table masked=True length=102>\n",
       "   Name         SpType      [Fe/H] ...  Collaborators   Interferometry? TRES?\n",
       "  str10         str15      float64 ...      str16             str3       str3\n",
       "---------- --------------- ------- ... ---------------- --------------- -----\n",
       " HD_185351        G9IIIbCN    0.16 ...    Hjorringgaard              --   Yes\n",
       " HD_186155        F5II-III     0.3 ...               --              --    --\n",
       " HD_175740           G8III    -0.1 ... Tim W, Guy, Cleo             Yes   Yes\n",
       " HD_184875             A2V      -- ...               --              --    --\n",
       "    14_Cyg           B9III    0.08 ...               --              --    --\n",
       " HD_189178             B5V      -- ...               --              --    --\n",
       " HD_187372           M1III      -- ...               --              --    --\n",
       " HD_182694          G7IIIa   -0.01 ...            Tim W             Yes    --\n",
       "  V380_Cyg B1.1III+B2.5/3V    1.25 ...               --              --    --\n",
       " HD_186121           M2III      -- ...               --              --    --\n",
       "       ...             ...     ... ...              ...             ...   ...\n",
       "  V554_Lyr               0      -- ...               --              --    --\n",
       "BD+47_2825              K0      -- ...               --              --    --\n",
       "BD+39_3882              F5      -- ...               --              --    --\n",
       "BD+43_3064              K5      -- ...               --              --    --\n",
       "BD+43_3068              G0      -- ...               --              --    --\n",
       "BD+43_3213              K5      -- ...               --              --    --\n",
       "BD+42_3150              K0      -- ...               --              --    --\n",
       "BD+43_3171              M0      -- ...               --              --    --\n",
       "BD+48_2904              K0      -- ...               --              --    --\n",
       "BD+47_2891              K0      -- ...               --              --    --"
      ]
     },
     "execution_count": 26,
     "metadata": {},
     "output_type": "execute_result"
    }
   ],
   "source": [
    "cat"
   ]
  },
  {
   "cell_type": "code",
   "execution_count": 27,
   "metadata": {},
   "outputs": [
    {
     "name": "stdout",
     "output_type": "stream",
     "text": [
      "Clump Candidates: HD 181069, HD 182354, HD 183124, HD 182692, and HD 180658\n"
     ]
    }
   ],
   "source": [
    "print 'Clump Candidates:',oxford_join([name.replace('_',' ') for name in cat[np.array(['clump' in thing for thing in list(cat['Notes'].data.data[:])])]['Name']])"
   ]
  },
  {
   "cell_type": "markdown",
   "metadata": {},
   "source": [
    "### Now to get SIMBAD queries"
   ]
  },
  {
   "cell_type": "code",
   "execution_count": 28,
   "metadata": {},
   "outputs": [],
   "source": [
    "from astroquery.simbad import Simbad\n",
    "from astropy import coordinates as coord\n",
    "from astropy import units as u\n"
   ]
  },
  {
   "cell_type": "code",
   "execution_count": 29,
   "metadata": {},
   "outputs": [],
   "source": [
    "Simbad.reset_votable_fields()\n",
    "Simbad.add_votable_fields('sptype')\n",
    "sim = Simbad.query_objects(cat['Name'])\n",
    "sim.write('smear_intermediate.csv',overwrite=True)\n",
    "sim = Table.read('smear_intermediate.csv')\n",
    "c = coord.SkyCoord(ra=sim['RA'], dec=sim['DEC'],unit=(u.hourangle, u.deg), frame='icrs')\n"
   ]
  },
  {
   "cell_type": "code",
   "execution_count": 30,
   "metadata": {},
   "outputs": [
    {
     "name": "stderr",
     "output_type": "stream",
     "text": [
      "WARNING: AstropyDeprecationWarning: smear_simbad.csv already exists. Automatically overwriting ASCII files is deprecated. Use the argument 'overwrite=True' in the future. [astropy.io.ascii.ui]\n"
     ]
    }
   ],
   "source": [
    "new = Table([Column([cc.ra.deg for cc in c],name='RA',unit='deg',description='RA'),Column([cc.dec.deg for cc in c],name='Dec',unit='deg',description='Dec')],masked=False)\n",
    "new.write('smear_simbad.csv')"
   ]
  },
  {
   "cell_type": "markdown",
   "metadata": {},
   "source": [
    "We then use the gaia tap service at http://gaia.ari.uni-heidelberg.de/tap.html for crossmatch \n",
    "using the command\n",
    "\n",
    "SELECT bj.source_id, sm.ra, sm.dec, sm.phot_g_mean_mag, bj.r_est, bj.r_lo, bj.r_hi\n",
    "FROM gaiadr2_complements.geometric_distance as bj \n",
    "JOIN TAP_UPLOAD.smear AS sm ON sm.source_id = bj.source_id"
   ]
  },
  {
   "cell_type": "code",
   "execution_count": 31,
   "metadata": {},
   "outputs": [],
   "source": [
    "dists = Table.read('../data/gaia_dists.csv')\n",
    "# V2083_Cyg doesn't have a parallax\n",
    "dists.insert_row(38,\n",
    "                 vals={'source_id':2128480311802353536,'ra':292.818076238,'dec':47.481042633,\n",
    "                       'phot_g_mean_mag':6.81,'r_est':np.nan,'r_lo':np.nan,'r_hi':np.nan})"
   ]
  },
  {
   "cell_type": "code",
   "execution_count": 32,
   "metadata": {},
   "outputs": [
    {
     "data": {
      "text/plain": [
       "[<matplotlib.lines.Line2D at 0x118efa310>]"
      ]
     },
     "execution_count": 32,
     "metadata": {},
     "output_type": "execute_result"
    },
    {
     "data": {
      "image/png": "[encoded data removed]",
      "text/plain": [
       "<Figure size 432x288 with 1 Axes>"
      ]
     },
     "metadata": {},
     "output_type": "display_data"
    }
   ],
   "source": [
    "plt.plot(new['RA'])\n",
    "plt.plot(dists['ra'])\n",
    "# plt.xlim(35,45)"
   ]
  },
  {
   "cell_type": "code",
   "execution_count": 33,
   "metadata": {},
   "outputs": [
    {
     "data": {
      "text/plain": [
       "[<matplotlib.lines.Line2D at 0x119e31ed0>]"
      ]
     },
     "execution_count": 33,
     "metadata": {},
     "output_type": "execute_result"
    },
    {
     "data": {
      "image/png": "[encoded data removed]",
      "text/plain": [
       "<Figure size 432x288 with 1 Axes>"
      ]
     },
     "metadata": {},
     "output_type": "display_data"
    }
   ],
   "source": [
    "plt.plot(cat['kepmag'],dists['phot_g_mean_mag'])"
   ]
  },
  {
   "cell_type": "code",
   "execution_count": 34,
   "metadata": {},
   "outputs": [
    {
     "data": {
      "text/html": [
       "&lt;Table masked=True length=2&gt;\n",
       "<table id=\"table4730234512\" class=\"table-striped table-bordered table-condensed\">\n",
       "<thead><tr><th>Name</th><th>SpType</th><th>[Fe/H]</th><th>theta</th><th>Observed</th><th>Seasons</th><th>Teff</th><th>Log_G</th><th>E(B-V)</th><th>g</th><th>r</th><th>J</th><th>kepmag</th><th>Edge_Dist</th><th>Notes</th><th>Collaborators</th><th>Interferometry?</th><th>TRES?</th></tr></thead>\n",
       "<thead><tr><th>str10</th><th>str15</th><th>float64</th><th>float64</th><th>str29</th><th>int64</th><th>int64</th><th>float64</th><th>float64</th><th>float64</th><th>float64</th><th>float64</th><th>float64</th><th>int64</th><th>str84</th><th>str16</th><th>str3</th><th>str3</th></tr></thead>\n",
       "<tr><td>V547_Lyr</td><td>M4IIIa</td><td>--</td><td>--</td><td>unobserved</td><td>4</td><td>--</td><td>--</td><td>--</td><td>8.109</td><td>6.611</td><td>2.258</td><td>6.199</td><td>48</td><td>RG: low freq</td><td>--</td><td>--</td><td>--</td></tr>\n",
       "<tr><td>V398_Lyr</td><td>M3</td><td>--</td><td>--</td><td>unobserved</td><td>4</td><td>--</td><td>--</td><td>--</td><td>8.877</td><td>7.421</td><td>1.869</td><td>7.024</td><td>49</td><td>RG</td><td>--</td><td>--</td><td>--</td></tr>\n",
       "</table>"
      ],
      "text/plain": [
       "<Table masked=True length=2>\n",
       "  Name   SpType  [Fe/H]  theta  ... Collaborators Interferometry? TRES?\n",
       " str10   str15  float64 float64 ...     str16           str3       str3\n",
       "-------- ------ ------- ------- ... ------------- --------------- -----\n",
       "V547_Lyr M4IIIa      --      -- ...            --              --    --\n",
       "V398_Lyr     M3      --      -- ...            --              --    --"
      ]
     },
     "execution_count": 34,
     "metadata": {},
     "output_type": "execute_result"
    }
   ],
   "source": [
    "cat[np.abs(dists['phot_g_mean_mag']-cat['kepmag'])>0.75]#.sort(np.abs(dists['phot_g_mean_mag']-cat['kepmag']))"
   ]
  },
  {
   "cell_type": "code",
   "execution_count": 35,
   "metadata": {},
   "outputs": [
    {
     "data": {
      "text/html": [
       "&lt;Table length=2&gt;\n",
       "<table id=\"table4730234448\" class=\"table-striped table-bordered table-condensed\">\n",
       "<thead><tr><th>source_id</th><th>ra</th><th>dec</th><th>phot_g_mean_mag</th><th>r_est</th><th>r_lo</th><th>r_hi</th></tr></thead>\n",
       "<thead><tr><th>int64</th><th>float64</th><th>float64</th><th>float64</th><th>float64</th><th>float64</th><th>float64</th></tr></thead>\n",
       "<tr><td>2103815448491466496</td><td>285.0794350340927</td><td>40.683934166877044</td><td>5.227579</td><td>288.920092314708</td><td>276.921626546759</td><td>301.985143696241</td></tr>\n",
       "<tr><td>2100382189073830528</td><td>287.05494859817054</td><td>39.154894446731085</td><td>5.4027195</td><td>494.665556977779</td><td>464.050015806101</td><td>529.522722362535</td></tr>\n",
       "</table>"
      ],
      "text/plain": [
       "<Table length=2>\n",
       "     source_id              ra         ...       r_lo             r_hi      \n",
       "       int64             float64       ...     float64          float64     \n",
       "------------------- ------------------ ... ---------------- ----------------\n",
       "2103815448491466496  285.0794350340927 ... 276.921626546759 301.985143696241\n",
       "2100382189073830528 287.05494859817054 ... 464.050015806101 529.522722362535"
      ]
     },
     "execution_count": 35,
     "metadata": {},
     "output_type": "execute_result"
    }
   ],
   "source": [
    "dists[np.abs(dists['phot_g_mean_mag']-cat['kepmag'])>0.75]#.sort(np.abs(dists['phot_g_mean_mag']-cat['kepmag']))"
   ]
  },
  {
   "cell_type": "code",
   "execution_count": 36,
   "metadata": {},
   "outputs": [],
   "source": [
    "# sim"
   ]
  },
  {
   "cell_type": "code",
   "execution_count": 37,
   "metadata": {},
   "outputs": [],
   "source": [
    "newcat = cat.copy()\n",
    "newcat['SpType']=sim['SP_TYPE']\n",
    "for col in dists.columns:\n",
    "    newcat.add_column(dists[col])"
   ]
  },
  {
   "cell_type": "code",
   "execution_count": 38,
   "metadata": {},
   "outputs": [],
   "source": [
    "# for l, ccat in enumerate([cat[:52],cat[52:]]):\n",
    "\n",
    "#     newtab = Table([Column([str(obj).replace('_',' ') for obj in ccat['Name']],name='Object')])\n",
    "\n",
    "#     newkeys = ['SpType','kepmag', 'Observed', 'Seasons','TRES?']\n",
    "#     names = [r'Spectral Type',r'$Kp$', r'Observed',r'Seasons','Spectroscopy']\n",
    "#     units = [r'(SIMBAD)', r'(mag)','','','']\n",
    "\n",
    "#     for k, key in enumerate(newkeys):\n",
    "#         col = ccat[key]\n",
    "#         if 'bs' in key:\n",
    "#             test = Column([entry.replace('under','') if 'under' in entry else 'unobserved' for entry in col],name=names[k])\n",
    "#         elif key != 'TRES?':\n",
    "#             test = Column(col.data,name=names[k])\n",
    "#         if key == 'TRES?':\n",
    "#             test = Column(['TRES' if newtab['Object'][j].replace(' ','_') in merged['Object'] else '--' for j,entry in enumerate(col)], name=names[k])\n",
    "#         newtab.add_column(test)\n",
    "    \n",
    "#     latexdict = ascii.latex.latexdicts['AA'].copy()\n",
    "#     latexdict['tabletype']= 'table*'\n",
    "#     latexdict['units'] = dict(zip(names,units))\n",
    "#     if l == 0:\n",
    "#         caption = r'The full set of underobserved and unobserved stars for which new light curves have been produced in this smear catalogue. Some objects, such as HD 185351, were observed in long cadence in some quarters and short cadence in others, and this is noted accordingly.' \n",
    "#         caption = caption+r'\\label{all_stars}'\n",
    "#         newtab.write('../paper/all_stars.tex',format='latex',latexdict=latexdict,caption=caption+'\\label{all_stars}',overwrite=True)\n",
    "#         print 'Written %s' % '../paper/all_stars.tex'\n",
    "#     else:\n",
    "#         latexdict['preamble'] = '\\contcaption{The full set of underobserved and unobserved stars for which new light curves have been produced in this smear catalogue.  \\label{all_stars_cont}}'\n",
    "#         newtab.write('../paper/all_stars2.tex',format='latex',latexdict=latexdict,overwrite=True)\n",
    "#         print 'Written %s' % '../paper/all_stars2.tex'\n"
   ]
  },
  {
   "cell_type": "code",
   "execution_count": 39,
   "metadata": {},
   "outputs": [
    {
     "name": "stdout",
     "output_type": "stream",
     "text": [
      "Written ../paper/all_stars.tex\n",
      "Written ../paper/all_stars2.tex\n"
     ]
    }
   ],
   "source": [
    "for l, ccat in enumerate([newcat[:52],newcat[52:]]):\n",
    "\n",
    "    newtab = Table([Column([str(obj).replace('_',' ') for obj in ccat['Name']],name='Object')])\n",
    "\n",
    "    newkeys = ['SpType','kepmag', 'phot_g_mean_mag','r_est','source_id','Observed', 'Seasons','TRES?',]\n",
    "    names = [r'Spectral Type',r'$Kp$',r'$G$',r'\\gaia Distance',r'\\gaia ID', r'Observed',r'Seasons','Spectroscopy']\n",
    "    units = [r'(SIMBAD)', r'(mag)','(mag)','(pc)','','','']\n",
    "\n",
    "    for k, key in enumerate(newkeys):\n",
    "        col = ccat[key]\n",
    "        if 'bs' in key:\n",
    "            test = Column([entry.replace('under','') if 'under' in entry else 'unobserved' for entry in col],name=names[k])\n",
    "        elif 'est' in key:\n",
    "            upcol = ccat['r_hi']\n",
    "            downcol = ccat['r_lo']\n",
    "            test = Column(['--' if 'nan' in str(col[j]) else '$%.1f^{+%.1f}_{-%.1f}$' % (col[j],upcol[j]-col[j],col[j]-downcol[j]) for j, x in enumerate(col)],name=names[k])\n",
    "        elif key != 'TRES?':\n",
    "            test = Column(col.data,name=names[k])\n",
    "        if key == 'TRES?':\n",
    "            test = Column(['TRES' if newtab['Object'][j].replace(' ','_') in merged['Object'] else '--' for j,entry in enumerate(col)], name=names[k])\n",
    "        newtab.add_column(test)\n",
    "    \n",
    "    latexdict = ascii.latex.latexdicts['AA'].copy()\n",
    "    latexdict['tabletype']= 'table*'\n",
    "    latexdict['units'] = dict(zip(names,units))\n",
    "    if l == 0:\n",
    "        caption = r'The full set of underobserved and unobserved stars for which new light curves have been produced in this smear catalogue. Calibrated \\gaia distances are from \\citep{gaiadists}. Some objects, such as HD~185351, were observed in long cadence in some quarters and short cadence in others, and this is noted accordingly. The eclipsing binary V2083~Cyg was detected by \\gaia, but a parallax could not be obtained in DR2, possibly due to binary motion.' \n",
    "        caption = caption+r'\\label{all_stars}'\n",
    "        newtab.write('../paper/all_stars.tex',format='latex',latexdict=latexdict,caption=caption+'\\label{all_stars}',overwrite=True)\n",
    "        print 'Written %s' % '../paper/all_stars.tex'\n",
    "    else:\n",
    "        latexdict['preamble'] = '\\contcaption{The full set of underobserved and unobserved stars for which new light curves have been produced in this smear catalogue. Calibrated \\gaia distances are from \\citep{gaiadists}. \\label{all_stars_cont}}'\n",
    "        newtab.write('../paper/all_stars2.tex',format='latex',latexdict=latexdict,overwrite=True)\n",
    "        print 'Written %s' % '../paper/all_stars2.tex'\n",
    "        \n",
    "\n",
    "newtab = Table([Column([str(obj).replace('_',' ') for obj in newcat['Name']],name='Object')])\n",
    "\n",
    "newkeys = ['SpType','kepmag', 'phot_g_mean_mag','r_est','source_id','Observed', 'Seasons','TRES?',]\n",
    "names = [r'Spectral Type',r'$Kp$',r'$G$',r'\\gaia Distance',r'\\gaia ID', r'Observed',r'Seasons','Spectroscopy']\n",
    "units = [r'(SIMBAD)', r'(mag)','(mag)','(pc)','','','']\n",
    "\n",
    "for k, key in enumerate(newkeys):\n",
    "    col = newcat[key]\n",
    "    if 'bs' in key:\n",
    "        test = Column([entry.replace('under','') if 'under' in entry else 'unobserved' for entry in col],name=names[k])\n",
    "    elif 'est' in key:\n",
    "        upcol = newcat['r_hi']\n",
    "        downcol = newcat['r_lo']\n",
    "        test = Column(['--' if 'nan' in str(col[j]) else '$%.1f^{+%.1f}_{-%.1f}$' % (col[j],upcol[j]-col[j],col[j]-downcol[j]) for j, x in enumerate(col)],name=names[k])\n",
    "    elif key != 'TRES?':\n",
    "        test = Column(col.data,name=names[k])\n",
    "    if key == 'TRES?':\n",
    "        test = Column(['TRES' if newtab['Object'][j].replace(' ','_') in merged['Object'] else '--' for j,entry in enumerate(col)], name=names[k])\n",
    "    newtab.add_column(test)\n",
    "\n",
    "latexdict = ascii.latex.latexdicts['AA'].copy()\n",
    "latexdict['tabletype']= 'table*'\n",
    "latexdict['units'] = dict(zip(names,units))\n"
   ]
  },
  {
   "cell_type": "code",
   "execution_count": 40,
   "metadata": {},
   "outputs": [],
   "source": [
    "col = ccat['r_est']\n",
    "upcol = ccat['r_hi']\n",
    "downcol = ccat['r_lo']\n",
    "test = Column(['--' if 'nan' in str(col[j]) else '$%.2f^{+%.2f}_{-%.2f}$' % (col[j],upcol[j]-col[j],col[j]-downcol[j]) for j, x in enumerate(col)])\n"
   ]
  },
  {
   "cell_type": "code",
   "execution_count": 41,
   "metadata": {},
   "outputs": [
    {
     "data": {
      "text/html": [
       "&lt;Column dtype=&apos;str29&apos; length=50&gt;\n",
       "<table>\n",
       "<tr><td>$226.46^{+2.38}_{-2.33}$</td></tr>\n",
       "<tr><td>$175.45^{+2.60}_{-2.52}$</td></tr>\n",
       "<tr><td>$761.98^{+15.77}_{-15.15}$</td></tr>\n",
       "<tr><td>$472.04^{+5.38}_{-5.26}$</td></tr>\n",
       "<tr><td>$226.57^{+1.26}_{-1.25}$</td></tr>\n",
       "<tr><td>$406.09^{+4.85}_{-4.74}$</td></tr>\n",
       "<tr><td>$361.15^{+6.35}_{-6.14}$</td></tr>\n",
       "<tr><td>$629.92^{+11.39}_{-11.00}$</td></tr>\n",
       "<tr><td>$587.77^{+13.11}_{-12.56}$</td></tr>\n",
       "<tr><td>$282.18^{+2.74}_{-2.69}$</td></tr>\n",
       "<tr><td>$993.33^{+26.70}_{-25.36}$</td></tr>\n",
       "<tr><td>$581.66^{+9.20}_{-8.93}$</td></tr>\n",
       "<tr><td>...</td></tr>\n",
       "<tr><td>$547.12^{+11.58}_{-11.12}$</td></tr>\n",
       "<tr><td>$311.65^{+2.70}_{-2.66}$</td></tr>\n",
       "<tr><td>$335.75^{+4.63}_{-4.51}$</td></tr>\n",
       "<tr><td>$485.80^{+7.29}_{-7.08}$</td></tr>\n",
       "<tr><td>$143.27^{+0.68}_{-0.68}$</td></tr>\n",
       "<tr><td>$641.03^{+20.30}_{-19.11}$</td></tr>\n",
       "<tr><td>$53.77^{+0.12}_{-0.12}$</td></tr>\n",
       "<tr><td>$948.77^{+25.78}_{-24.48}$</td></tr>\n",
       "<tr><td>$545.95^{+32.55}_{-29.13}$</td></tr>\n",
       "<tr><td>$751.48^{+17.22}_{-16.48}$</td></tr>\n",
       "<tr><td>$400.93^{+5.45}_{-5.31}$</td></tr>\n",
       "<tr><td>$262.76^{+1.66}_{-1.64}$</td></tr>\n",
       "</table>"
      ],
      "text/plain": [
       "<Column dtype='str29' length=50>\n",
       "  $226.46^{+2.38}_{-2.33}$\n",
       "  $175.45^{+2.60}_{-2.52}$\n",
       "$761.98^{+15.77}_{-15.15}$\n",
       "  $472.04^{+5.38}_{-5.26}$\n",
       "  $226.57^{+1.26}_{-1.25}$\n",
       "  $406.09^{+4.85}_{-4.74}$\n",
       "  $361.15^{+6.35}_{-6.14}$\n",
       "$629.92^{+11.39}_{-11.00}$\n",
       "$587.77^{+13.11}_{-12.56}$\n",
       "  $282.18^{+2.74}_{-2.69}$\n",
       "$993.33^{+26.70}_{-25.36}$\n",
       "  $581.66^{+9.20}_{-8.93}$\n",
       "                       ...\n",
       "$547.12^{+11.58}_{-11.12}$\n",
       "  $311.65^{+2.70}_{-2.66}$\n",
       "  $335.75^{+4.63}_{-4.51}$\n",
       "  $485.80^{+7.29}_{-7.08}$\n",
       "  $143.27^{+0.68}_{-0.68}$\n",
       "$641.03^{+20.30}_{-19.11}$\n",
       "   $53.77^{+0.12}_{-0.12}$\n",
       "$948.77^{+25.78}_{-24.48}$\n",
       "$545.95^{+32.55}_{-29.13}$\n",
       "$751.48^{+17.22}_{-16.48}$\n",
       "  $400.93^{+5.45}_{-5.31}$\n",
       "  $262.76^{+1.66}_{-1.64}$"
      ]
     },
     "execution_count": 41,
     "metadata": {},
     "output_type": "execute_result"
    }
   ],
   "source": [
    "test"
   ]
  },
  {
   "cell_type": "code",
   "execution_count": 42,
   "metadata": {},
   "outputs": [
    {
     "data": {
      "text/html": [
       "&lt;Table masked=True length=102&gt;\n",
       "<table id=\"table4713270416\" class=\"table-striped table-bordered table-condensed\">\n",
       "<thead><tr><th>Name</th><th>SpType</th><th>[Fe/H]</th><th>theta</th><th>Observed</th><th>Seasons</th><th>Teff</th><th>Log_G</th><th>E(B-V)</th><th>g</th><th>r</th><th>J</th><th>kepmag</th><th>Edge_Dist</th><th>Notes</th><th>Collaborators</th><th>Interferometry?</th><th>TRES?</th><th>source_id</th><th>ra</th><th>dec</th><th>phot_g_mean_mag</th><th>r_est</th><th>r_lo</th><th>r_hi</th></tr></thead>\n",
       "<thead><tr><th>str10</th><th>str16</th><th>float64</th><th>float64</th><th>str29</th><th>int64</th><th>int64</th><th>float64</th><th>float64</th><th>float64</th><th>float64</th><th>float64</th><th>float64</th><th>int64</th><th>str84</th><th>str16</th><th>str3</th><th>str3</th><th>int64</th><th>float64</th><th>float64</th><th>float64</th><th>float64</th><th>float64</th><th>float64</th></tr></thead>\n",
       "<tr><td>HD_185351</td><td>G8.5IIIbFe-0.5</td><td>0.16</td><td>1.156</td><td>LC:Q1-3 SC:Q16 under</td><td>4</td><td>--</td><td>--</td><td>--</td><td>6.091</td><td>5.176</td><td>3.654</td><td>5.034</td><td>59</td><td>RG: Retired A star</td><td>Hjorringgaard</td><td>--</td><td>Yes</td><td>2078403295235690112</td><td>294.1576613499853</td><td>44.69448231480843</td><td>4.881522</td><td>41.2315213779136</td><td>41.0921558133897</td><td>41.3718185719601</td></tr>\n",
       "<tr><td>HD_186155</td><td>F5II-III</td><td>0.3</td><td>0.57</td><td>LC:Q1 under</td><td>4</td><td>--</td><td>--</td><td>--</td><td>5.44</td><td>5.065</td><td>4.419</td><td>5.055</td><td>66</td><td>three sharp peaks</td><td>--</td><td>--</td><td>--</td><td>2079990268465009024</td><td>295.2096161867121</td><td>45.525456779018434</td><td>4.923168</td><td>50.6145097045851</td><td>50.1993792798511</td><td>51.0364389381494</td></tr>\n",
       "<tr><td>HD_175740</td><td>G8III</td><td>-0.1</td><td>1.035</td><td>unobserved</td><td>4</td><td>--</td><td>--</td><td>--</td><td>6.486</td><td>5.462</td><td>4.08</td><td>5.212</td><td>0</td><td>RG: suppressed l=1</td><td>Tim W, Guy, Cleo</td><td>Yes</td><td>Yes</td><td>2104485016711846656</td><td>283.71739473102826</td><td>41.602710757624294</td><td>5.152375</td><td>81.4820221791748</td><td>80.9011996865216</td><td>82.0710941761192</td></tr>\n",
       "<tr><td>HD_184875</td><td>A2V</td><td>--</td><td>0.349</td><td>unobserved</td><td>4</td><td>--</td><td>--</td><td>--</td><td>5.399</td><td>5.337</td><td>5.128</td><td>5.403</td><td>0</td><td>Classical Pulsator</td><td>--</td><td>--</td><td>--</td><td>2077737571001053312</td><td>293.6719373022101</td><td>42.41237709026624</td><td>5.2788925</td><td>172.612235076612</td><td>169.44660100199</td><td>175.896210554269</td></tr>\n",
       "<tr><td>14_Cyg</td><td>B9III</td><td>0.08</td><td>0.267</td><td>unobserved</td><td>4</td><td>--</td><td>--</td><td>--</td><td>5.334</td><td>5.394</td><td>5.365</td><td>5.49</td><td>0</td><td>contact binary, interesting ramp at low freq</td><td>--</td><td>--</td><td>--</td><td>2077959092540451456</td><td>294.86048629287325</td><td>42.818403728771564</td><td>5.3699827</td><td>194.251074278231</td><td>187.684456735487</td><td>201.285145272043</td></tr>\n",
       "<tr><td>HD_189178</td><td>B5V</td><td>--</td><td>0.236</td><td>unobserved</td><td>4</td><td>--</td><td>--</td><td>--</td><td>5.356</td><td>5.448</td><td>5.595</td><td>5.552</td><td>0</td><td>Classical Pulsator</td><td>--</td><td>--</td><td>--</td><td>2073537612700605696</td><td>299.3078202055931</td><td>40.36782658479405</td><td>5.41016</td><td>347.305675377642</td><td>335.171242466141</td><td>360.335028693868</td></tr>\n",
       "<tr><td>HD_187372</td><td>M1III</td><td>--</td><td>2.693</td><td>unobserved</td><td>4</td><td>--</td><td>--</td><td>--</td><td>7.805</td><td>6.141</td><td>2.979</td><td>5.672</td><td>110</td><td>RG: low freq</td><td>--</td><td>--</td><td>--</td><td>2086614688589352320</td><td>296.8616409188027</td><td>47.907411183287465</td><td>5.3131795</td><td>306.448333808759</td><td>296.81195252011</td><td>316.719517500094</td></tr>\n",
       "<tr><td>HD_182694</td><td>G7IIIa</td><td>-0.01</td><td>0.771</td><td>LC:Q2 under</td><td>4</td><td>--</td><td>--</td><td>--</td><td>6.76</td><td>5.86</td><td>4.437</td><td>5.722</td><td>137</td><td>RG</td><td>Tim W</td><td>Yes</td><td>--</td><td>2126062687590513408</td><td>290.98550746572874</td><td>43.38804749579175</td><td>5.598205</td><td>133.050386252205</td><td>132.342616816959</td><td>133.765630523913</td></tr>\n",
       "<tr><td>V380_Cyg</td><td>B1.1III+B2.5/3V:</td><td>1.25</td><td>0.226</td><td>LC:Q11 SC:Q7 9 10 12-17 under</td><td>4</td><td>--</td><td>--</td><td>--</td><td>5.615</td><td>5.675</td><td>5.712</td><td>5.771</td><td>122</td><td>Eclipsing_binary</td><td>--</td><td>--</td><td>--</td><td>2073743839843579776</td><td>297.65551057522265</td><td>40.59972506473762</td><td>5.6319346</td><td>1044.67154927546</td><td>949.069840098863</td><td>1161.2897500675</td></tr>\n",
       "<tr><td>HD_186121</td><td>M3III</td><td>--</td><td>3.429</td><td>unobserved</td><td>4</td><td>--</td><td>--</td><td>--</td><td>7.735</td><td>6.198</td><td>2.561</td><td>5.773</td><td>44</td><td>RG: low freq</td><td>--</td><td>--</td><td>--</td><td>2078059800932315008</td><td>295.1714685950791</td><td>43.07782340429704</td><td>5.1762185</td><td>475.24965419503</td><td>444.587185040426</td><td>510.372799343944</td></tr>\n",
       "<tr><td>...</td><td>...</td><td>...</td><td>...</td><td>...</td><td>...</td><td>...</td><td>...</td><td>...</td><td>...</td><td>...</td><td>...</td><td>...</td><td>...</td><td>...</td><td>...</td><td>...</td><td>...</td><td>...</td><td>...</td><td>...</td><td>...</td><td>...</td><td>...</td><td>...</td></tr>\n",
       "<tr><td>V554_Lyr</td><td>--</td><td>--</td><td>--</td><td>unobserved</td><td>2</td><td>9887</td><td>4.309</td><td>0.051</td><td>7.97</td><td>8.248</td><td>8.266</td><td>8.179</td><td>0</td><td>Missing - alpha2 Cvn</td><td>--</td><td>--</td><td>--</td><td>2101290316961062400</td><td>288.82187096088387</td><td>40.11368586856005</td><td>8.092074</td><td>335.749513113855</td><td>331.237286508456</td><td>340.384110652163</td></tr>\n",
       "<tr><td>BD+47_2825</td><td>K0</td><td>--</td><td>--</td><td>unobserved</td><td>4</td><td>--</td><td>--</td><td>--</td><td>9.75</td><td>8.558</td><td>6.503</td><td>8.251</td><td>162</td><td>Not sure - classical?</td><td>--</td><td>--</td><td>--</td><td>2129162799284981760</td><td>291.08177124447565</td><td>47.4130247599545</td><td>8.236473</td><td>485.795395877119</td><td>478.718728562602</td><td>493.080555986296</td></tr>\n",
       "<tr><td>BD+39_3882</td><td>F5</td><td>--</td><td>--</td><td>unobserved</td><td>4</td><td>6241</td><td>4.186</td><td>0.02</td><td>8.463</td><td>8.192</td><td>7.36</td><td>8.259</td><td>0</td><td>bad light curve</td><td>--</td><td>--</td><td>--</td><td>2076372669064227200</td><td>295.65231893691924</td><td>39.99781437523366</td><td>8.158849</td><td>143.266948083662</td><td>142.59154490081</td><td>143.94866508398</td></tr>\n",
       "<tr><td>BD+43_3064</td><td>K5</td><td>--</td><td>--</td><td>unobserved</td><td>3</td><td>--</td><td>--</td><td>--</td><td>10.18</td><td>8.692</td><td>6.205</td><td>8.284</td><td>0</td><td>RG</td><td>--</td><td>--</td><td>--</td><td>2117284053614333312</td><td>281.3657024307495</td><td>43.995236683395596</td><td>8.20331</td><td>641.029617229135</td><td>621.919910626924</td><td>661.328015894773</td></tr>\n",
       "<tr><td>BD+43_3068</td><td>G0</td><td>--</td><td>--</td><td>unobserved</td><td>4</td><td>5506</td><td>4.394</td><td>0.011</td><td>8.754</td><td>8.254</td><td>7.181</td><td>8.308</td><td>0</td><td>not good</td><td>--</td><td>--</td><td>--</td><td>2117267079903573504</td><td>281.57417508745425</td><td>43.81556598527454</td><td>8.267944</td><td>53.7738365747513</td><td>53.6508736699958</td><td>53.8973543593231</td></tr>\n",
       "<tr><td>BD+43_3213</td><td>K5</td><td>--</td><td>--</td><td>unobserved</td><td>4</td><td>--</td><td>--</td><td>--</td><td>10.425</td><td>8.775</td><td>5.821</td><td>8.311</td><td>127</td><td>RG: low freq</td><td>--</td><td>--</td><td>--</td><td>2102821524341578496</td><td>289.8924896223989</td><td>43.48010721400488</td><td>8.13925</td><td>948.76650655514</td><td>924.29038468176</td><td>974.549008379324</td></tr>\n",
       "<tr><td>BD+42_3150</td><td>K0</td><td>--</td><td>--</td><td>unobserved</td><td>4</td><td>4716</td><td>2.329</td><td>0.063</td><td>9.111</td><td>8.257</td><td>6.743</td><td>8.35</td><td>261</td><td>not sure</td><td>--</td><td>--</td><td>--</td><td>2116742544137540608</td><td>281.25257984212334</td><td>42.6436414279837</td><td>8.31532</td><td>545.954282342101</td><td>516.819773786676</td><td>578.502581535217</td></tr>\n",
       "<tr><td>BD+43_3171</td><td>M0</td><td>--</td><td>--</td><td>unobserved</td><td>4</td><td>--</td><td>--</td><td>--</td><td>10.412</td><td>8.818</td><td>5.904</td><td>8.373</td><td>332</td><td>RG: very low freq?</td><td>--</td><td>--</td><td>--</td><td>2105998150870718080</td><td>287.45698914447445</td><td>43.552258072724186</td><td>8.178079</td><td>751.476917005421</td><td>735.000815376891</td><td>768.694554141662</td></tr>\n",
       "<tr><td>BD+48_2904</td><td>K0</td><td>--</td><td>--</td><td>unobserved</td><td>4</td><td>4529</td><td>2.014</td><td>0.083</td><td>9.364</td><td>8.42</td><td>6.692</td><td>8.487</td><td>0</td><td>nothing</td><td>--</td><td>--</td><td>--</td><td>2129676443013218304</td><td>292.57235027073966</td><td>48.65657535394386</td><td>8.439092</td><td>400.926312809394</td><td>395.619176599306</td><td>406.375153211787</td></tr>\n",
       "<tr><td>BD+47_2891</td><td>K0</td><td>--</td><td>--</td><td>unobserved</td><td>2</td><td>--</td><td>--</td><td>--</td><td>10.081</td><td>8.962</td><td>6.99</td><td>8.68</td><td>--</td><td>nothing</td><td>--</td><td>--</td><td>--</td><td>2128576003674178688</td><td>294.87270940492334</td><td>47.44682890349002</td><td>8.6254015</td><td>262.761110578283</td><td>261.121186033665</td><td>264.421392272191</td></tr>\n",
       "</table>"
      ],
      "text/plain": [
       "<Table masked=True length=102>\n",
       "   Name         SpType       [Fe/H] ...       r_lo             r_hi      \n",
       "  str10         str16       float64 ...     float64          float64     \n",
       "---------- ---------------- ------- ... ---------------- ----------------\n",
       " HD_185351   G8.5IIIbFe-0.5    0.16 ... 41.0921558133897 41.3718185719601\n",
       " HD_186155         F5II-III     0.3 ... 50.1993792798511 51.0364389381494\n",
       " HD_175740            G8III    -0.1 ... 80.9011996865216 82.0710941761192\n",
       " HD_184875              A2V      -- ...  169.44660100199 175.896210554269\n",
       "    14_Cyg            B9III    0.08 ... 187.684456735487 201.285145272043\n",
       " HD_189178              B5V      -- ... 335.171242466141 360.335028693868\n",
       " HD_187372            M1III      -- ...  296.81195252011 316.719517500094\n",
       " HD_182694           G7IIIa   -0.01 ... 132.342616816959 133.765630523913\n",
       "  V380_Cyg B1.1III+B2.5/3V:    1.25 ... 949.069840098863  1161.2897500675\n",
       " HD_186121            M3III      -- ... 444.587185040426 510.372799343944\n",
       "       ...              ...     ... ...              ...              ...\n",
       "  V554_Lyr               --      -- ... 331.237286508456 340.384110652163\n",
       "BD+47_2825               K0      -- ... 478.718728562602 493.080555986296\n",
       "BD+39_3882               F5      -- ...  142.59154490081  143.94866508398\n",
       "BD+43_3064               K5      -- ... 621.919910626924 661.328015894773\n",
       "BD+43_3068               G0      -- ... 53.6508736699958 53.8973543593231\n",
       "BD+43_3213               K5      -- ...  924.29038468176 974.549008379324\n",
       "BD+42_3150               K0      -- ... 516.819773786676 578.502581535217\n",
       "BD+43_3171               M0      -- ... 735.000815376891 768.694554141662\n",
       "BD+48_2904               K0      -- ... 395.619176599306 406.375153211787\n",
       "BD+47_2891               K0      -- ... 261.121186033665 264.421392272191"
      ]
     },
     "execution_count": 42,
     "metadata": {},
     "output_type": "execute_result"
    }
   ],
   "source": [
    "newcat"
   ]
  },
  {
   "cell_type": "markdown",
   "metadata": {},
   "source": [
    "## Now make an HR diagram"
   ]
  },
  {
   "cell_type": "code",
   "execution_count": 43,
   "metadata": {},
   "outputs": [],
   "source": [
    "import sys\n",
    "reload(sys)\n",
    "sys.setdefaultencoding('utf8')\n",
    "\n",
    "gaia = Table.read('SingleSource[FILE=smear_simbad.csv].vot',format='votable')"
   ]
  },
  {
   "cell_type": "code",
   "execution_count": 44,
   "metadata": {},
   "outputs": [],
   "source": [
    "bp, rp, gg = gaia['phot_bp_mean_mag'], gaia['phot_rp_mean_mag'], gaia['phot_g_mean_mag']\n",
    "gaia['bp'], gaia['rp'],gaia['gg'] = bp, rp, gg"
   ]
  },
  {
   "cell_type": "code",
   "execution_count": 45,
   "metadata": {},
   "outputs": [],
   "source": [
    "def abs_mag(app_mag,dist):\n",
    "    return app_mag - 5.*(np.log10(dist) - 1.)"
   ]
  },
  {
   "cell_type": "code",
   "execution_count": 46,
   "metadata": {},
   "outputs": [
    {
     "data": {
      "text/plain": [
       "71.39072222295582"
      ]
     },
     "execution_count": 46,
     "metadata": {},
     "output_type": "execute_result"
    }
   ],
   "source": [
    "snrs = dists['r_est']/((dists['r_hi']-dists['r_lo'])/2.)\n",
    "np.nanmedian(snrs)"
   ]
  },
  {
   "cell_type": "code",
   "execution_count": 47,
   "metadata": {},
   "outputs": [],
   "source": [
    "abs_gg = abs_mag(gg,dists['r_est'])\n",
    "gaia['abs_gg'] = abs_gg\n",
    "abs_gg_hi = abs_mag(gg,dists['r_hi'])\n",
    "abs_gg_lo = abs_mag(gg,dists['r_lo'])"
   ]
  },
  {
   "cell_type": "code",
   "execution_count": 48,
   "metadata": {},
   "outputs": [],
   "source": [
    "errorbars = np.zeros((2,np.size(abs_gg)))\n",
    "errorbars[0,:] = abs_gg_hi-abs_gg\n",
    "errorbars[1,:] = abs_gg-abs_gg_lo"
   ]
  },
  {
   "cell_type": "code",
   "execution_count": 49,
   "metadata": {},
   "outputs": [
    {
     "data": {
      "text/plain": [
       "<matplotlib.legend.Legend at 0x11a12fb10>"
      ]
     },
     "execution_count": 49,
     "metadata": {},
     "output_type": "execute_result"
    },
    {
     "data": {
      "image/png": "[encoded data removed]",
      "text/plain": [
       "<Figure size 432x288 with 1 Axes>"
      ]
     },
     "metadata": {},
     "output_type": "display_data"
    }
   ],
   "source": [
    "rc('text', usetex=False)\n",
    "m = newtab['Spectroscopy']!='--'\n",
    "plt.errorbar(bp[m]-rp[m],abs_gg[m],yerr=errorbars[:,m],fmt='.',color=colours[1],label=r'Smear Campaign (with spectra)',markersize=10)\n",
    "plt.errorbar(bp[~m]-rp[~m],abs_gg[~m],yerr=errorbars[:,~m],fmt='.',color=colours[2],label=r'Smear Campaign (no spectra)',markersize=10)\n",
    "plt.gca().invert_yaxis()\n",
    "plt.xlabel(r'$Bp-Rp$')\n",
    "plt.ylabel(r'Absolute $G$')\n",
    "plt.legend()"
   ]
  },
  {
   "cell_type": "markdown",
   "metadata": {},
   "source": [
    "Now we want to use Megan Bedell's Gaia-Kepler crossmatch to situate these in the broader colour-magnitude diagram"
   ]
  },
  {
   "cell_type": "code",
   "execution_count": 50,
   "metadata": {},
   "outputs": [],
   "source": [
    "kep_data = Table.read('../data/kepler_dr2_4arcsec.fits', format='fits')\n"
   ]
  },
  {
   "cell_type": "code",
   "execution_count": 51,
   "metadata": {},
   "outputs": [],
   "source": [
    "kep_data['abs_gmag'] = kep_data['phot_g_mean_mag'] - \\\n",
    "                            5.*(np.log10(kep_data['r_est']) - 1.)\n",
    "kep_data['abs_gmag'].unit = u.mag"
   ]
  },
  {
   "cell_type": "code",
   "execution_count": 52,
   "metadata": {},
   "outputs": [
    {
     "data": {
      "image/png": "[encoded data removed]",
      "text/plain": [
       "<Figure size 432x288 with 1 Axes>"
      ]
     },
     "metadata": {},
     "output_type": "display_data"
    }
   ],
   "source": [
    "filter = (kep_data['phot_g_mean_mag'] <= 18.) & (kep_data['parallax'] > 0.1)\n",
    "plt.scatter(kep_data['bp_rp'][filter], kep_data['abs_gmag'][filter], alpha=0.15, color='k', s=1,label='All Kepler')\n",
    "m = newtab['Spectroscopy']!='--'\n",
    "plt.errorbar(bp[m]-rp[m],abs_gg[m],yerr=errorbars[:,m],fmt='.',color=colours[1],label=r'Smear + spectra',markersize=12)\n",
    "plt.errorbar(bp[~m]-rp[~m],abs_gg[~m],yerr=errorbars[:,~m],fmt='.',color=colours[2],label=r'Smear (no spectra)',markersize=12)\n",
    "\n",
    "plt.xlabel('Gaia $Bp-Rp$', fontsize=20)\n",
    "plt.ylabel(r'Absolute $G$ mag', fontsize=20)\n",
    "plt.ylim([13,-6])\n",
    "plt.xlim([-0.5,4.1])\n",
    "plt.legend()\n",
    "plt.title(r'Smear Stars in the Gaia Colour-Magnitude Diagram',y=1.01)\n",
    "plt.savefig('../paper/gaia_kepler_hr.png')"
   ]
  },
  {
   "cell_type": "markdown",
   "metadata": {},
   "source": [
    "## Now compare to Hypatia"
   ]
  },
  {
   "cell_type": "code",
   "execution_count": 53,
   "metadata": {},
   "outputs": [],
   "source": [
    "Simbad.reset_votable_fields()\n",
    "Simbad.add_votable_fields('ids')\n",
    "sim = Simbad.query_objects(cat['Name'])\n",
    "ids = sim['IDS']"
   ]
  },
  {
   "cell_type": "code",
   "execution_count": 54,
   "metadata": {},
   "outputs": [],
   "source": [
    "import re\n",
    "hips = []\n",
    "for eyedee in ids:\n",
    "    m = re.search('\\|HIP  (.+?)\\|',str(eyedee))\n",
    "    if m:\n",
    "        found = m.group(1)\n",
    "    print found\n",
    "    hips.append(found)"
   ]
  },
  {
   "cell_type": "code",
   "execution_count": 55,
   "metadata": {},
   "outputs": [],
   "source": [
    "hinkel = Table.read('../data/hypatia-03082018.csv')"
   ]
  },
  {
   "cell_type": "code",
   "execution_count": 56,
   "metadata": {},
   "outputs": [],
   "source": [
    "for j, hip in enumerate(hips):\n",
    "    if int(hip) in hinkel['f_hip']:\n",
    "        print hip, sim['MAIN_ID'][j]"
   ]
  },
  {
   "cell_type": "code",
   "execution_count": 57,
   "metadata": {},
   "outputs": [
    {
     "data": {
      "text/html": [
       "&lt;Table masked=True length=102&gt;\n",
       "<table id=\"table4713268880\" class=\"table-striped table-bordered table-condensed\">\n",
       "<thead><tr><th>MAIN_ID</th><th>RA</th><th>DEC</th><th>RA_PREC</th><th>DEC_PREC</th><th>COO_ERR_MAJA</th><th>COO_ERR_MINA</th><th>COO_ERR_ANGLE</th><th>COO_QUAL</th><th>COO_WAVELENGTH</th><th>COO_BIBCODE</th><th>IDS</th></tr></thead>\n",
       "<thead><tr><th></th><th>&quot;h:m:s&quot;</th><th>&quot;d:m:s&quot;</th><th></th><th></th><th>mas</th><th>mas</th><th>deg</th><th></th><th></th><th></th><th></th></tr></thead>\n",
       "<thead><tr><th>object</th><th>unicode13</th><th>unicode13</th><th>int16</th><th>int16</th><th>float32</th><th>float32</th><th>int16</th><th>unicode1</th><th>unicode1</th><th>object</th><th>object</th></tr></thead>\n",
       "<tr><td>HD 185351</td><td>19 36 37.9763</td><td>+44 41 41.760</td><td>14</td><td>14</td><td>0.068</td><td>0.079</td><td>90</td><td>A</td><td>O</td><td>2018yCat.1345....0G</td><td>HD 185351|AG+44 1630|BD+44  3185|GC 27140|GCRV 12021|GEN# +1.00185351|GSC 03147-01921|HIC  96459|HIP  96459|HR  7468|IRAS 19350+4434|KIC 8566020|2MASS J19363801+4441418|PLX 4610|PLX 4610.00|PPM  58585|ROT  2826|1RXS J193637.6+444137|SAO  48649|SKY# 36595|SPOCS 3088|TD1 25124|TYC 3147-1921-1|UBV   16672|UBV M  23982|WEB 16922|Gaia DR2 2078403295235690112</td></tr>\n",
       "<tr><td>HD 186155</td><td>19 40 50.1834</td><td>+45 31 29.780</td><td>14</td><td>14</td><td>0.149</td><td>0.149</td><td>90</td><td>A</td><td>O</td><td>2018yCat.1345....0G</td><td>HD 186155|AG+45 1570|BD+45  2949|CCDM J19409+4531A|CSI+45  2949  1|FK5 3575|GC 27249|GCRV 12073|GEN# +1.00186155|GSC 03556-03772|HIC  96825|HIP  96825|HR  7495|IDS 19378+4517 A|IRAS 19392+4524|2MASS J19405016+4531295|NSV 12300|PLX 4627|PLX 4627.00|PPM  58681|ROT  2834|SAO  48718|SKY# 36771|TD1 25272|TYC 3556-3772-1|UBV   16750|UBV M  24056|uvby98 100186155|WDS J19408+4532A|WEB 16993|Gaia DR2 2079990268465009024|Gaia DR1 2079990264172082304</td></tr>\n",
       "<tr><td>HD 175740</td><td>18 54 52.1775</td><td>+41 36 09.793</td><td>14</td><td>14</td><td>0.075</td><td>0.082</td><td>90</td><td>A</td><td>O</td><td>2018yCat.1345....0G</td><td>HD 175740|ADS 11840 A|AG+41 1639|AKARI-IRC-V1 J1854521+413610|BD+41  3177|CCDM J18549+4136A|CSI+41  3177  1|GC 25972|GCRV 11379|GEN# +1.00175740|GSC 03127-02260|HIC  92831|HIP  92831|HR  7146|IDS 18517+4128 A|IRAS 18532+4132|IRC +40333|2MASS J18545217+4136098|PPM  57629|SAO  47909|SKY# 34837|TD1 23531|TYC 3127-2260-1|UBV M  23335|WDS J18549+4136A|WEB 16069|Gaia DR2 2104485016711846656</td></tr>\n",
       "<tr><td>HD 184875</td><td>19 34 41.2618</td><td>+42 24 45.039</td><td>14</td><td>14</td><td>0.088</td><td>0.102</td><td>90</td><td>A</td><td>O</td><td>2018yCat.1345....0G</td><td>HD 184875|AG+42 1724|BD+42  3386|CEL   4789|GC 27070|GCRV 11989|GEN# +1.00184875|GSC 03143-02179|HIC  96288|HIP  96288|HR  7444|IRAS 19330+4218|2MASS J19344127+4224448|PLX 4597|PLX 4597.00|PPM  58526|ROT  2819|SAO  48601|SKY# 36507|TD1 25018|TYC 3143-2179-1|UBV   16624|uvby98 100184875|WEB 16880|Gaia DR2 2077737571001053312|Gaia DR1 2077737571001053312</td></tr>\n",
       "<tr><td>*  14 Cyg</td><td>19 39 26.4883</td><td>+42 49 05.781</td><td>14</td><td>14</td><td>0.157</td><td>0.163</td><td>90</td><td>A</td><td>O</td><td>2018yCat.1345....0G</td><td>*  14 Cyg|AG+42 1737|AKARI-IRC-V1 J1939264+424906|ALS 16589|BD+42  3413|CEL   4812|FK5 3572|GC 27213|GCRV 12052|GEN# +1.00185872|GSC 03143-02178|HD 185872|HIC  96693|HIP  96693|HR  7483|IRAS 19378+4242|2MASS J19392648+4249057|N30 4351|PLX 4622.1|PLX 4622.10|PPM  58649|Renson 51260|ROT  2831|SAO  48691|SKY# 36703|TD1 25222|TYC 3143-2178-1|UBV   16723|UBV M  24029|uvby98 100185872|WEB 16963|Gaia DR2 2077959092540451456|Gaia DR1 2077959088236964736</td></tr>\n",
       "<tr><td>HD 189178</td><td>19 57 13.8676</td><td>+40 22 04.171</td><td>14</td><td>14</td><td>0.079</td><td>0.112</td><td>90</td><td>A</td><td>O</td><td>2018yCat.1345....0G</td><td>HD 189178|AG+40 1935|BD+39  3968|CCDM J19572+4022A|FK5 3593|GC 27649|GCRV 12312|GEN# +1.00189178|GSC 03141-03693|HGAM    813|HIC  98194|HIP  98194|HR  7628|IDS 19538+4006 A|2MASS J19571387+4022041|N30 4414|PPM  59089|Renson 52400|ROT  2890|SAO  49011|SBC9 1191|SKY# 37388|TD1 25781|TYC 3141-3693-1|UBV   17030|UBV M  24342|uvby98 100189178|WDS J19572+4022A|WEB 17314|Gaia DR2 2073537612700605696</td></tr>\n",
       "<tr><td>...</td><td>...</td><td>...</td><td>...</td><td>...</td><td>...</td><td>...</td><td>...</td><td>...</td><td>...</td><td>...</td><td>...</td></tr>\n",
       "<tr><td>BD+43  3068</td><td>18 46 17.7487</td><td>+43 48 56.392</td><td>14</td><td>14</td><td>0.035</td><td>0.038</td><td>90</td><td>A</td><td>O</td><td>2018yCat.1345....0G</td><td>BD+43  3068|AG+43 1566|GSC 03130-02191|2MASS J18461773+4348564|PPM  57477|SAO  47785|TYC 3130-2191-1|Gaia DR2 2117267079903573504|Gaia DR1 2117267075604798080</td></tr>\n",
       "<tr><td>BD+43  3213</td><td>19 19 34.2116</td><td>+43 28 48.611</td><td>14</td><td>14</td><td>0.023</td><td>0.029</td><td>90</td><td>A</td><td>O</td><td>2018yCat.1345....0G</td><td>BD+43  3213|AG+43 1643|GSC 03133-00123|IRAS 19179+4323|2MASS J19193421+4328488|PPM  58164|SAO  48334|TYC 3133-123-1|Gaia DR2 2102821524341578496|Gaia DR1 2102821520040742272</td></tr>\n",
       "<tr><td>BD+42  3150</td><td>18 45 00.6327</td><td>+42 38 37.373</td><td>14</td><td>14</td><td>0.083</td><td>0.103</td><td>90</td><td>A</td><td>O</td><td>2018yCat.1345....0G</td><td>CCDM J18450+4239AB|** HDS 2657|AG+42 1622|BD+42  3150|GSC 03126-00537|HIC  91994|HIP  91994|2MASS J18450062+4238375|PPM  57453|SAO  47763|TYC 3126-537-1|WDS J18450+4239AB|Gaia DR2 2116742544137540608|Gaia DR1 2116742539837981568</td></tr>\n",
       "<tr><td>BD+43  3171</td><td>19 09 49.6775</td><td>+43 33 08.363</td><td>14</td><td>14</td><td>0.025</td><td>0.029</td><td>90</td><td>A</td><td>O</td><td>2018yCat.1345....0G</td><td>BD+43  3171|AG+43 1625|GSC 03132-00837|IRAS 19082+4328|2MASS J19094967+4333081|PPM  57929|SAO  48139|TYC 3132-837-1|Gaia DR2 2105998150870718080|Gaia DR1 2105998146573851136</td></tr>\n",
       "<tr><td>BD+48  2904</td><td>19 30 17.3396</td><td>+48 39 23.558</td><td>14</td><td>14</td><td>0.026</td><td>0.037</td><td>90</td><td>A</td><td>O</td><td>2018yCat.1345....0G</td><td>BD+48  2904|AG+48 1512|AGKR 17419|GSC 03560-02162|HIC  95907|HIP  95907|2MASS J19301733+4839235|PPM  58416|SAO  48524|TYC 3560-2162-1|Gaia DR2 2129676443013218304|Gaia DR1 2129676438715223296</td></tr>\n",
       "<tr><td>BD+47  2891</td><td>19 39 29.4875</td><td>+47 26 48.834</td><td>14</td><td>14</td><td>0.020</td><td>0.024</td><td>90</td><td>A</td><td>O</td><td>2018yCat.1345....0G</td><td>BD+47  2891|AG+47 1460|AGKR 17558|GSC 03560-02976|HIC  96696|HIP  96696|2MASS J19392948+4726490|PPM  58652|SAO  48696|TYC 3560-2976-1|Gaia DR2 2128576003674178688|Gaia DR1 2128575999372245632</td></tr>\n",
       "</table>"
      ],
      "text/plain": [
       "<Table masked=True length=102>\n",
       "  MAIN_ID   ...\n",
       "            ...\n",
       "   object   ...\n",
       "----------- ...\n",
       "  HD 185351 ...\n",
       "  HD 186155 ...\n",
       "  HD 175740 ...\n",
       "  HD 184875 ...\n",
       "  *  14 Cyg ...\n",
       "  HD 189178 ...\n",
       "        ... ...\n",
       "BD+43  3068 ...\n",
       "BD+43  3213 ...\n",
       "BD+42  3150 ...\n",
       "BD+43  3171 ...\n",
       "BD+48  2904 ...\n",
       "BD+47  2891 ..."
      ]
     },
     "execution_count": 57,
     "metadata": {},
     "output_type": "execute_result"
    }
   ],
   "source": [
    "sim"
   ]
  },
  {
   "cell_type": "code",
   "execution_count": 94,
   "metadata": {},
   "outputs": [],
   "source": [
    "# import altair as alt\n",
    "import pandas as pd"
   ]
  },
  {
   "cell_type": "code",
   "execution_count": 145,
   "metadata": {},
   "outputs": [],
   "source": [
    "pdg = gaia.to_pandas()\n",
    "pdg.assign(bprp=pdg.bp - pdg.rp);\n",
    "pdg.insert(len(pdg.columns), 'bprp', pd.Series(pdg.bp-pdg.rp, index=pdg.index))\n",
    "pdg.insert(len(pdg.columns), 'name', pd.Series(sim['MAIN_ID'], index=pdg.index))\n",
    "spec = ['TRES' if sp==1 else 'None' for sp in newtab['Spectroscopy']!='--']\n",
    "pdg.insert(len(pdg.columns), 'Spectroscopy', pd.Series(spec, index=pdg.index))\n",
    "pdg.insert(len(pdg.columns), 'SpType', pd.Series(newcat['SpType'], index=pdg.index))\n",
    "\n",
    "# pdkep = kep_data.to_pandas()"
   ]
  },
  {
   "cell_type": "code",
   "execution_count": 60,
   "metadata": {},
   "outputs": [],
   "source": [
    "# # background = alt.Chart(pdkep).mark_point().encode(\n",
    "# #     x='bp_rp',\n",
    "# #     y='abs_gmag').properties(alpha=0.2)\n",
    "# xrange = (-0.5,4.1)\n",
    "# yrange = (13,-6)\n",
    "\n",
    "# smear_chart = alt.Chart(pdg).mark_circle().encode(\n",
    "#     alt.X('bprp',scale=alt.Scale(domain=xrange,clamp=True)),\n",
    "#     alt.Y('abs_gg',scale=alt.Scale(domain=yrange,clamp=True)),\n",
    "#     tooltip='name',\n",
    "#     color='Spectroscopy',\n",
    "#     size=alt.value(42)\n",
    "# )\n"
   ]
  },
  {
   "cell_type": "code",
   "execution_count": 61,
   "metadata": {},
   "outputs": [],
   "source": [
    "# smear_chart"
   ]
  },
  {
   "cell_type": "code",
   "execution_count": 62,
   "metadata": {},
   "outputs": [],
   "source": [
    "# background = alt.Chart(pdkep).mark_rect().encode(\n",
    "#     alt.X('bp_rp',scale=alt.Scale(domain=xrange,clamp=True),bins=alt.Bin(maxbins=50)),\n",
    "#     alt.Y('abs_gmag',scale=alt.Scale(domain=yrange,clamp=True),bins=alt.Bin(maxbins=50))\n",
    "# )\n"
   ]
  },
  {
   "cell_type": "code",
   "execution_count": null,
   "metadata": {},
   "outputs": [],
   "source": []
  },
  {
   "cell_type": "markdown",
   "metadata": {},
   "source": [
    "### The *Kepler* dataset is too big for Altair. But not for Bokeh - let's copy from at demo.ipynb from github.com/megbedell/gaia-kepler.fun"
   ]
  },
  {
   "cell_type": "code",
   "execution_count": 174,
   "metadata": {},
   "outputs": [],
   "source": [
    "from bokeh.plotting import *\n",
    "from bokeh.io import output_notebook\n",
    "from bokeh.models import OpenURL, Circle, HoverTool, PanTool, BoxZoomTool, ResetTool, SaveTool, TapTool, WheelZoomTool\n",
    "from bokeh.util.hex import hexbin\n",
    "from bokeh.transform import linear_cmap, factor_cmap\n",
    "from bokeh.palettes import Spectral6\n",
    "output_file(\"cmd_smear.html\")\n",
    "# output_notebook()"
   ]
  },
  {
   "cell_type": "code",
   "execution_count": 172,
   "metadata": {},
   "outputs": [],
   "source": [
    "filter1 = (kep_data['phot_g_mean_mag'] <= 18.) & (kep_data['parallax_over_error'] > 25)\n",
    "filter2 = (kep_data['planet?'] == 'conf') & filter1\n",
    "\n",
    "filter2 = filter1 \n",
    "\n",
    "thin = 4\n",
    "\n",
    "source = ColumnDataSource(\n",
    "    data=dict(\n",
    "        kepid=kep_data[filter2]['kepid'].data.data[::thin],\n",
    "        kepmag=kep_data[filter2]['kepmag'].data.data[::thin],\n",
    "        bp_rp=kep_data[filter2]['bp_rp'].data.data[::thin],\n",
    "        abs_gmag=kep_data[filter2]['abs_gmag'].data.data[::thin],\n",
    "        mass=kep_data[filter2]['mass'].data.data[::thin],\n",
    "        radius=kep_data[filter2]['radius'].data.data[::thin]\n",
    "        )\n",
    "    )\n",
    "\n",
    "source_smear = ColumnDataSource(\n",
    "    data=dict(\n",
    "        name=pdg.name.values,\n",
    "        abs_gmag=pdg.abs_gg.values,\n",
    "        bp_rp=pdg.bprp.values,\n",
    "        spec=pdg.Spectroscopy.values,\n",
    "        sptype=pdg.SpType.values\n",
    "        )\n",
    "    )\n"
   ]
  },
  {
   "cell_type": "code",
   "execution_count": 173,
   "metadata": {},
   "outputs": [],
   "source": [
    "reset_output()\n"
   ]
  },
  {
   "cell_type": "code",
   "execution_count": 175,
   "metadata": {},
   "outputs": [],
   "source": [
    "%%time\n",
    "xrange = (-0.5,4.1)\n",
    "yrange = (13,-6)\n",
    "\n",
    "fig = figure(tools=\"wheel_zoom,pan,reset\",x_range=xrange,\n",
    "        y_range=yrange,title=\"Smear Stars in the Gaia Colour-Magnitude Diagram\")   \n",
    "kep_render = fig.circle('bp_rp','abs_gmag', source=source, size=4, name='KICs',color='black',alpha=0.2)\n",
    "\n",
    "smear_render = fig.circle('bp_rp','abs_gmag', source=source_smear, size=10, name='Smear',\n",
    "                          color=factor_cmap('spec',palette=Spectral6,factors=pdg.Spectroscopy.values),legend='spec')\n",
    "hover = HoverTool(renderers=[smear_render],\n",
    "                    tooltips=[\n",
    "        (\"Name\", \"@name\"),\n",
    "        (\"Sp. Type\",\"@sptype\")\n",
    "                            ]\n",
    "    )\n",
    "fig.add_tools(hover)\n",
    "fig.legend.orientation = \"vertical\"\n",
    "fig.legend.location = \"bottom_left\"\n",
    "\n",
    "fig.xaxis.axis_label = 'Gaia Bp-Rp (mag)'\n",
    "fig.yaxis.axis_label = 'Gaia Abs. G Mag'\n",
    "fig.xaxis.axis_label_text_font_size = '14pt'\n",
    "fig.xaxis.major_label_text_font_size = '12pt'\n",
    "fig.yaxis.axis_label_text_font_size = '14pt'   \n",
    "fig.yaxis.major_label_text_font_size = '12pt' \n",
    "# save(fig)\n",
    "show(fig)\n"
   ]
  },
  {
   "cell_type": "code",
   "execution_count": null,
   "metadata": {},
   "outputs": [],
   "source": []
  },
  {
   "cell_type": "code",
   "execution_count": null,
   "metadata": {},
   "outputs": [],
   "source": []
  },
  {
   "cell_type": "code",
   "execution_count": null,
   "metadata": {},
   "outputs": [],
   "source": []
  },
  {
   "cell_type": "code",
   "execution_count": null,
   "metadata": {},
   "outputs": [],
   "source": []
  }
 ],
 "metadata": {
  "kernelspec": {
   "display_name": "Python 2",
   "language": "python",
   "name": "python2"
  },
  "language_info": {
   "codemirror_mode": {
    "name": "ipython",
    "version": 2
   },
   "file_extension": ".py",
   "mimetype": "text/x-python",
   "name": "python",
   "nbconvert_exporter": "python",
   "pygments_lexer": "ipython2",
   "version": "2.7.15"
  }
 },
 "nbformat": 4,
 "nbformat_minor": 2
}
