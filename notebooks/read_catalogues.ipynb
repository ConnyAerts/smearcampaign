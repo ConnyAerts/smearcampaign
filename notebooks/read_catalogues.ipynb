{
 "cells": [
  {
   "cell_type": "code",
   "execution_count": 2,
   "metadata": {},
   "outputs": [],
   "source": [
    "import numpy as np\n",
    "import matplotlib.pyplot as plt\n",
    "\n",
    "from astropy.table import Table, join, Column\n",
    "\n",
    "from astropy.io import ascii\n",
    "import glob, re\n",
    "\n",
    "% matplotlib inline\n",
    "\n",
    "import matplotlib as mpl\n",
    "mpl.style.use('seaborn-colorblind')\n",
    "\n",
    "#To make sure we have always the same matplotlib settings\n",
    "#(the ones in comments are the ipython notebook settings)\n",
    "\n",
    "mpl.rcParams['figure.figsize']=(12.0,9.0)    #(6.0,4.0)\n",
    "mpl.rcParams['font.size']=18               #10 \n",
    "mpl.rcParams['savefig.dpi']= 200             #72 \n",
    "mpl.rcParams['axes.labelsize'] = 16\n",
    "mpl.rcParams['axes.labelsize'] = 16\n",
    "mpl.rcParams['xtick.labelsize'] = 12\n",
    "mpl.rcParams['ytick.labelsize'] = 12\n",
    "from matplotlib import rc\n",
    "\n",
    "colours = mpl.rcParams['axes.prop_cycle'].by_key()['color']\n"
   ]
  },
  {
   "cell_type": "markdown",
   "metadata": {},
   "source": [
    "## This notebook reads in Keith's abundances and Guy's asteroseismology to produce the tables for the paper."
   ]
  },
  {
   "cell_type": "code",
   "execution_count": 81,
   "metadata": {},
   "outputs": [],
   "source": [
    "fname_diff = \"../data/abundances/Pope_abundances_diff_arcturus.fits\"\n",
    "fname_nodiff = \"../data/abundances/Pope_abundances_nodiff.fits\""
   ]
  },
  {
   "cell_type": "code",
   "execution_count": 82,
   "metadata": {},
   "outputs": [],
   "source": [
    "diff = Table.read(fname_diff)\n",
    "diff.sort('Object')\n",
    "nodiff = Table.read(fname_nodiff)\n",
    "nodiff.sort('Object')"
   ]
  },
  {
   "cell_type": "markdown",
   "metadata": {},
   "source": [
    "How do abundances compare between the differential and non-differential methods? Not too badly. Many more elements lack differential abundances than absolute abundances so it looks like in the paper we shouldn't use the differential. Good to include in online data though."
   ]
  },
  {
   "cell_type": "code",
   "execution_count": 83,
   "metadata": {},
   "outputs": [],
   "source": [
    "# for j, key in enumerate(diff.keys()[1:]):\n",
    "#     if key[0]=='e':\n",
    "#         continue\n",
    "#     plt.figure(j)\n",
    "#     plt.plot(diff[key],nodiff[key],'.')\n",
    "#     plt.title(key)"
   ]
  },
  {
   "cell_type": "code",
   "execution_count": 84,
   "metadata": {},
   "outputs": [
    {
     "data": {
      "text/html": [
       "&lt;Table length=35&gt;\n",
       "<table id=\"table4699453648\" class=\"table-striped table-bordered table-condensed\">\n",
       "<thead><tr><th>Object</th><th>Ca_Fe</th><th>eCa_Fe</th><th>Mg_Fe</th><th>eMg_Fe</th><th>Si_Fe</th><th>eSi_Fe</th><th>Ti_Fe</th><th>eTi_Fe</th><th>O_Fe</th><th>eO_Fe</th><th>Al_Fe</th><th>eAl_Fe</th><th>Ba_Fe</th><th>eBa_Fe</th><th>Na_Fe</th><th>eNa_Fe</th><th>Ni_Fe</th><th>eNi_Fe</th><th>Mn_Fe</th><th>eMn_Fe</th><th>Co_Fe</th><th>eCo_Fe</th><th>Eu_Fe</th><th>eEu_Fe</th><th>La_Fe</th><th>eLa_Fe</th><th>Zr_Fe</th><th>eZr_Fe</th><th>Sr_Fe</th><th>eSr_Fe</th><th>Zn_Fe</th><th>eZn_Fe</th><th>Y_Fe</th><th>eY_Fe</th><th>Cr_Fe</th><th>eCr_Fe</th><th>V_Fe</th><th>eV_Fe</th><th>Cu_Fe</th><th>eCu_Fe</th><th>Sc_Fe</th><th>eSc_Fe</th></tr></thead>\n",
       "<thead><tr><th>str10</th><th>float64</th><th>float64</th><th>float64</th><th>float64</th><th>float64</th><th>float64</th><th>float64</th><th>float64</th><th>float64</th><th>float64</th><th>float64</th><th>float64</th><th>float64</th><th>float64</th><th>float64</th><th>float64</th><th>float64</th><th>float64</th><th>float64</th><th>float64</th><th>float64</th><th>float64</th><th>float64</th><th>float64</th><th>float64</th><th>float64</th><th>float64</th><th>float64</th><th>float64</th><th>float64</th><th>float64</th><th>float64</th><th>float64</th><th>float64</th><th>float64</th><th>float64</th><th>float64</th><th>float64</th><th>float64</th><th>float64</th><th>float64</th><th>float64</th></tr></thead>\n",
       "<tr><td>BD+36_3564</td><td>0.20550000000000068</td><td>0.021811959427664313</td><td>0.32699999999999996</td><td>0.029981933288751386</td><td>0.1030000000000002</td><td>0.03033791174238739</td><td>0.3414999999999999</td><td>0.039563195412588896</td><td>nan</td><td>nan</td><td>0.39749999999999996</td><td>0.008838834764831969</td><td>nan</td><td>nan</td><td>0.2600000000000007</td><td>0.07726769244837267</td><td>0.006000000000000227</td><td>0.04284999081677555</td><td>0.07750000000000057</td><td>0.0045961940777125235</td><td>0.1299999999999999</td><td>0.023192941522005114</td><td>0.24799999999999933</td><td>0.02768573639981425</td><td>-0.016499999999999737</td><td>0.0659359300760974</td><td>0.10200000000000031</td><td>0.021922773547158676</td><td>0.3440000000000003</td><td>0.11825713509129157</td><td>-0.28699999999999903</td><td>0.19772933239377738</td><td>-0.2739999999999996</td><td>0.015773296262988193</td><td>0.23000000000000043</td><td>0.003797614382740828</td><td>0.1535000000000002</td><td>0.03049898435435564</td><td>-0.04499999999999971</td><td>0.06190150947270998</td><td>0.17300000000000093</td><td>0.017790381816734174</td></tr>\n",
       "<tr><td>BD+39_3577</td><td>0.1330000000000009</td><td>0.024249415323230328</td><td>0.2150000000000003</td><td>0.03658925303282372</td><td>-0.10549999999999926</td><td>0.02174089847882709</td><td>0.08499999999999996</td><td>0.03879026485998592</td><td>nan</td><td>nan</td><td>0.20550000000000024</td><td>0.00954594154601844</td><td>0.3520000000000003</td><td>0.1010273157048059</td><td>0.41600000000000037</td><td>0.0</td><td>-0.051000000000000156</td><td>0.03328029088036782</td><td>-0.028999999999999027</td><td>0.05782989102787844</td><td>-0.015999999999999126</td><td>0.02072659732649556</td><td>-0.22100000000000009</td><td>0.04160228359116841</td><td>-0.254999999999999</td><td>0.015035759843588615</td><td>0.128000000000001</td><td>0.08221016968721083</td><td>nan</td><td>nan</td><td>-0.24099999999999877</td><td>0.7076482176901175</td><td>-0.4039999999999999</td><td>0.037289656991162025</td><td>0.1640000000000006</td><td>0.0952853444922145</td><td>0.010500000000000398</td><td>0.020276010901452025</td><td>-0.20599999999999952</td><td>0.012727922061357708</td><td>-0.12499999999999956</td><td>0.053405093390050375</td></tr>\n",
       "<tr><td>BD+43_3064</td><td>0.18600000000000083</td><td>0.042992624259758146</td><td>0.2110000000000003</td><td>0.03401960219246152</td><td>-0.013999999999999346</td><td>0.030231207814540438</td><td>0.28249999999999975</td><td>0.044954827587674044</td><td>nan</td><td>nan</td><td>0.3550000000000004</td><td>0.010606601717797986</td><td>nan</td><td>nan</td><td>0.4790000000000001</td><td>0.06424951361683594</td><td>0.052999999999999936</td><td>0.044591812612475384</td><td>0.21400000000000086</td><td>0.024748737341528947</td><td>0.1330000000000009</td><td>0.02184520148655853</td><td>0.28000000000000025</td><td>0.05847007781763251</td><td>0.14950000000000063</td><td>0.017140503930748237</td><td>0.3230000000000004</td><td>0.03883977342879325</td><td>0.24800000000000022</td><td>0.12460813576970005</td><td>nan</td><td>nan</td><td>-0.13999999999999968</td><td>0.051714601419715026</td><td>0.32200000000000095</td><td>0.013075280607427315</td><td>0.24100000000000055</td><td>0.034289644203321076</td><td>-0.15899999999999936</td><td>0.09666551723454563</td><td>0.13700000000000045</td><td>0.024837935349126893</td></tr>\n",
       "<tr><td>BD+43_3171</td><td>0.28550000000000075</td><td>0.027774123216385355</td><td>0.2570000000000001</td><td>0.06383866383313486</td><td>-0.0004999999999997229</td><td>0.06954906181969671</td><td>0.20650000000000013</td><td>0.05828622108614094</td><td>nan</td><td>nan</td><td>0.4225000000000003</td><td>0.012968712349342808</td><td>0.32650000000000023</td><td>0.17867480936046912</td><td>0.18350000000000044</td><td>0.24711535767734086</td><td>0.04100000000000037</td><td>0.05452977168483287</td><td>0.1095000000000006</td><td>0.0947523086789976</td><td>0.1385000000000005</td><td>0.05128187695268264</td><td>0.2134999999999998</td><td>0.04800520805079382</td><td>-0.057999999999999385</td><td>0.11110636795431662</td><td>0.3585000000000007</td><td>0.06505382386916242</td><td>nan</td><td>nan</td><td>-0.40499999999999936</td><td>0.05055813485483807</td><td>-0.3059999999999996</td><td>0.030052038200428254</td><td>0.2940000000000005</td><td>0.03995153313703977</td><td>0.12350000000000039</td><td>0.056319659089877294</td><td>0.017000000000000348</td><td>0.10812319362652953</td><td>0.1435000000000004</td><td>0.032129667788764645</td></tr>\n",
       "<tr><td>BD+43_3213</td><td>0.1880000000000006</td><td>0.02661522816679147</td><td>0.22599999999999998</td><td>0.07206097859790929</td><td>-0.1779999999999995</td><td>0.11026558846711877</td><td>0.2709999999999999</td><td>0.06893329102190833</td><td>nan</td><td>nan</td><td>0.37200000000000033</td><td>0.038890872965260226</td><td>nan</td><td>nan</td><td>0.6230000000000002</td><td>0.367428479435114</td><td>0.06199999999999983</td><td>0.10016957843798903</td><td>0.3340000000000005</td><td>0.06717514421272183</td><td>0.03300000000000036</td><td>0.05482902127837066</td><td>0.06299999999999972</td><td>0.04313930922024598</td><td>-0.11499999999999932</td><td>0.05232165474787235</td><td>0.487000000000001</td><td>0.10996476708473496</td><td>0.6430000000000002</td><td>0.4744625248636609</td><td>nan</td><td>nan</td><td>-0.06449999999999978</td><td>0.08874190103891151</td><td>0.3925000000000005</td><td>0.005303300858898993</td><td>0.07500000000000018</td><td>0.08904416992443058</td><td>-0.27899999999999947</td><td>0.11398026144907729</td><td>0.18450000000000033</td><td>0.04329651213392325</td></tr>\n",
       "<tr><td>BD+48_2955</td><td>0.22000000000000064</td><td>0.04557301915751775</td><td>0.20000000000000018</td><td>0.033181671440961395</td><td>0.0820000000000003</td><td>0.0363137689425762</td><td>0.29600000000000026</td><td>0.03848392521560137</td><td>nan</td><td>nan</td><td>0.30400000000000027</td><td>0.06945682111931137</td><td>nan</td><td>nan</td><td>0.23400000000000087</td><td>0.1416604655505548</td><td>0.054999999999999716</td><td>0.03847729042288454</td><td>0.0965000000000007</td><td>0.015909902576697294</td><td>0.11900000000000066</td><td>0.03888166993018395</td><td>0.2789999999999999</td><td>0.03877740966078058</td><td>0.24400000000000066</td><td>0.04978500652807026</td><td>0.3440000000000003</td><td>0.054751511394663874</td><td>nan</td><td>nan</td><td>nan</td><td>nan</td><td>-0.14699999999999935</td><td>0.04632891105994191</td><td>0.23200000000000065</td><td>0.0377011273041006</td><td>0.19800000000000018</td><td>0.03326683356953951</td><td>-0.04999999999999982</td><td>0.03704203018194335</td><td>0.15300000000000047</td><td>0.030223708855958882</td></tr>\n",
       "<tr><td>HD_174020</td><td>0.32800000000000074</td><td>0.029608850028327676</td><td>0.2270000000000003</td><td>0.04272507576079221</td><td>-0.06749999999999945</td><td>0.059702348114377995</td><td>0.29300000000000015</td><td>0.06687163207638183</td><td>nan</td><td>nan</td><td>0.39000000000000057</td><td>0.03252691193458137</td><td>nan</td><td>nan</td><td>0.2550000000000008</td><td>0.33131970964613644</td><td>0.05400000000000027</td><td>0.045502024789617006</td><td>0.2265000000000006</td><td>0.0236880771697494</td><td>0.09500000000000064</td><td>0.03875240987521974</td><td>0.1070000000000002</td><td>0.04197246120970274</td><td>0.02250000000000041</td><td>0.06817841942286433</td><td>nan</td><td>nan</td><td>0.37100000000000044</td><td>0.8856658512102631</td><td>-0.4779999999999993</td><td>1.1132325397238443</td><td>-0.1874999999999991</td><td>0.05965879545381374</td><td>0.4130000000000007</td><td>0.06363961030678948</td><td>0.25600000000000067</td><td>0.026113895666388026</td><td>-0.20099999999999962</td><td>0.1075487830741973</td><td>0.18100000000000094</td><td>0.02827077402835456</td></tr>\n",
       "<tr><td>HD_174829</td><td>0.15549999999999997</td><td>0.04290487092289863</td><td>0.19949999999999957</td><td>0.0637841653789279</td><td>0.04850000000000021</td><td>0.04647365840910227</td><td>0.19049999999999923</td><td>0.032254930172954235</td><td>nan</td><td>nan</td><td>0.28649999999999975</td><td>0.0106066017177983</td><td>nan</td><td>nan</td><td>0.3055000000000003</td><td>0.037393800238760114</td><td>-0.05750000000000011</td><td>0.0359089339885681</td><td>-0.020499999999999297</td><td>0.07008301955273916</td><td>0.05349999999999966</td><td>0.02032060810366223</td><td>0.14649999999999963</td><td>0.009148087231766001</td><td>0.12449999999999983</td><td>0.051649661179914694</td><td>0.0754999999999999</td><td>0.03085371938680971</td><td>nan</td><td>nan</td><td>-0.11649999999999983</td><td>0.13010764773832453</td><td>-0.24549999999999983</td><td>0.06052517554703989</td><td>0.16400000000000015</td><td>0.015076368097124744</td><td>0.012499999999999956</td><td>0.02309854191250964</td><td>-0.22949999999999982</td><td>0.03377814327287633</td><td>0.11749999999999972</td><td>0.02919511295724036</td></tr>\n",
       "<tr><td>HD_175740</td><td>0.12400000000000011</td><td>0.022052691004853683</td><td>0.07049999999999956</td><td>0.047968067991894354</td><td>-0.04800000000000004</td><td>0.022380547108792635</td><td>0.1444999999999994</td><td>0.030614571693884596</td><td>nan</td><td>nan</td><td>0.20899999999999963</td><td>0.007071067811865324</td><td>0.3039999999999994</td><td>0.0654562336108528</td><td>0.33999999999999986</td><td>0.028104303084258268</td><td>0.026999999999999247</td><td>0.04387794696544418</td><td>0.05799999999999983</td><td>0.01465403496449851</td><td>0.08499999999999996</td><td>0.023045651234372307</td><td>0.08699999999999974</td><td>0.07103300289302152</td><td>0.11699999999999999</td><td>0.011703117659964093</td><td>0.1819999999999995</td><td>0.024900763040517436</td><td>nan</td><td>nan</td><td>-0.16449999999999987</td><td>0.15662415203282046</td><td>-0.09350000000000058</td><td>0.07354962185490829</td><td>0.13450000000000006</td><td>0.03921495250539003</td><td>0.09149999999999991</td><td>0.017085074812277168</td><td>-0.15500000000000025</td><td>0.04305293898859337</td><td>0.08250000000000002</td><td>0.02889131934220613</td></tr>\n",
       "<tr><td>HD_175884</td><td>0.22850000000000037</td><td>0.02203816134698075</td><td>0.20249999999999968</td><td>0.0282155625466102</td><td>-0.00949999999999962</td><td>0.02911185325601929</td><td>0.3239999999999994</td><td>0.03485854747520531</td><td>nan</td><td>nan</td><td>0.3420000000000001</td><td>0.005303300858898993</td><td>nan</td><td>nan</td><td>0.45750000000000046</td><td>0.057854863107479365</td><td>0.03849999999999998</td><td>0.04810481918530084</td><td>0.13800000000000034</td><td>0.016617009357883763</td><td>0.09750000000000014</td><td>0.018643814972657657</td><td>0.18849999999999945</td><td>0.017541023345289765</td><td>0.13850000000000007</td><td>0.029869246307866616</td><td>0.2555000000000005</td><td>0.024894979413528334</td><td>nan</td><td>nan</td><td>-0.15299999999999958</td><td>0.1735947147812973</td><td>-0.2134999999999998</td><td>0.06802670064026332</td><td>0.2585000000000006</td><td>0.0398952331692601</td><td>0.20800000000000018</td><td>0.021881605624885767</td><td>-0.09750000000000014</td><td>0.052639233361523104</td><td>0.12950000000000017</td><td>0.02353279507925373</td></tr>\n",
       "<tr><td>...</td><td>...</td><td>...</td><td>...</td><td>...</td><td>...</td><td>...</td><td>...</td><td>...</td><td>...</td><td>...</td><td>...</td><td>...</td><td>...</td><td>...</td><td>...</td><td>...</td><td>...</td><td>...</td><td>...</td><td>...</td><td>...</td><td>...</td><td>...</td><td>...</td><td>...</td><td>...</td><td>...</td><td>...</td><td>...</td><td>...</td><td>...</td><td>...</td><td>...</td><td>...</td><td>...</td><td>...</td><td>...</td><td>...</td><td>...</td><td>...</td><td>...</td><td>...</td></tr>\n",
       "<tr><td>HD_182692</td><td>0.18700000000000072</td><td>0.027103710283116443</td><td>0.17950000000000044</td><td>0.0422072407517359</td><td>-0.1234999999999995</td><td>0.02770178494048512</td><td>0.2240000000000002</td><td>0.03836520836419356</td><td>nan</td><td>nan</td><td>0.35000000000000053</td><td>0.03252691193458137</td><td>0.13200000000000056</td><td>0.04775167245471313</td><td>0.38400000000000034</td><td>0.12367573529193183</td><td>0.025000000000000355</td><td>0.047303583373778366</td><td>0.22300000000000075</td><td>0.019026297590440302</td><td>0.1460000000000008</td><td>0.01592822823827227</td><td>0.01100000000000012</td><td>0.054467306707785726</td><td>0.056000000000000494</td><td>0.038140365755980905</td><td>0.20800000000000107</td><td>0.029173960992638606</td><td>nan</td><td>nan</td><td>-0.23999999999999932</td><td>1.3380378124328176</td><td>-0.20649999999999924</td><td>0.10146982310026985</td><td>0.14950000000000108</td><td>0.07151518632430458</td><td>0.24050000000000082</td><td>0.017221725464898644</td><td>-0.11499999999999932</td><td>0.057931632758572126</td><td>0.1800000000000006</td><td>0.032771550324883957</td></tr>\n",
       "<tr><td>HD_182694</td><td>0.10400000000000009</td><td>0.017270050076060292</td><td>0.10999999999999943</td><td>0.04086627125393599</td><td>-0.03699999999999992</td><td>0.02184541650374792</td><td>0.04899999999999949</td><td>0.0243730101505482</td><td>nan</td><td>nan</td><td>0.13899999999999935</td><td>0.0056568542494923844</td><td>nan</td><td>nan</td><td>0.31899999999999995</td><td>0.012581585603424395</td><td>-0.07100000000000062</td><td>0.0372716387666093</td><td>-0.08000000000000007</td><td>0.022395436042987705</td><td>0.0259999999999998</td><td>0.02873006978099756</td><td>0.16499999999999915</td><td>0.024903564001965684</td><td>0.1615000000000002</td><td>0.01978951742716329</td><td>0.16299999999999937</td><td>0.03980211049680662</td><td>nan</td><td>nan</td><td>-0.24149999999999983</td><td>0.07318555185280762</td><td>-0.11899999999999977</td><td>0.05031850554219598</td><td>0.04400000000000004</td><td>0.0348308412186671</td><td>-0.04700000000000015</td><td>0.01648113085018888</td><td>-0.26400000000000023</td><td>0.04415377170248943</td><td>0.09100000000000019</td><td>0.04662682014305659</td></tr>\n",
       "<tr><td>HD_183124</td><td>0.17250000000000076</td><td>0.02097467332990663</td><td>0.20650000000000013</td><td>0.035349790406108965</td><td>-0.020999999999999464</td><td>0.041388180456278595</td><td>0.1875</td><td>0.03211392999930095</td><td>nan</td><td>nan</td><td>0.2865000000000002</td><td>0.0021213203435597227</td><td>0.24600000000000044</td><td>0.05055813485483776</td><td>0.34750000000000014</td><td>0.021752820166249427</td><td>-0.0004999999999997229</td><td>0.04633838236214009</td><td>0.013500000000000512</td><td>0.037131398313835884</td><td>0.11150000000000038</td><td>0.01975609290819124</td><td>0.17249999999999943</td><td>0.050825682484350355</td><td>0.03550000000000031</td><td>0.06465920274794604</td><td>0.13750000000000018</td><td>0.03946948188157523</td><td>nan</td><td>nan</td><td>-0.18449999999999944</td><td>0.1682914139223983</td><td>-0.24350000000000005</td><td>0.03264845899885616</td><td>0.11650000000000027</td><td>0.039630125851427764</td><td>0.0950000000000002</td><td>0.018566875423015064</td><td>-0.22399999999999953</td><td>0.017324116139070388</td><td>0.10200000000000031</td><td>0.033977831825405765</td></tr>\n",
       "<tr><td>HD_185286</td><td>0.33500000000000085</td><td>0.020040080050107743</td><td>0.22299999999999986</td><td>0.03556635638418961</td><td>-0.036499999999999755</td><td>0.04121538952058244</td><td>0.3959999999999999</td><td>0.06424839758774213</td><td>nan</td><td>nan</td><td>0.4249999999999998</td><td>0.022627416997969538</td><td>nan</td><td>nan</td><td>0.5499999999999998</td><td>0.5326121360802812</td><td>0.11599999999999966</td><td>0.042892733960387085</td><td>0.2535000000000007</td><td>0.014495689014324353</td><td>0.13100000000000023</td><td>0.02865538684672179</td><td>0.17600000000000016</td><td>0.029676379496158246</td><td>0.1160000000000001</td><td>0.05044597977044357</td><td>0.5230000000000006</td><td>0.04562000860571131</td><td>0.3014999999999999</td><td>0.04843681451127866</td><td>nan</td><td>nan</td><td>-0.19299999999999962</td><td>0.08267555866155367</td><td>0.4590000000000005</td><td>0.010136567466356515</td><td>0.34299999999999997</td><td>0.02358270197621262</td><td>-0.10899999999999976</td><td>0.10143247445961277</td><td>0.2685000000000004</td><td>0.030553109119234503</td></tr>\n",
       "<tr><td>HD_185351</td><td>0.13300000000000045</td><td>0.025185274118170897</td><td>0.0804999999999998</td><td>0.05160823723875521</td><td>-0.0829999999999993</td><td>0.021006282129136692</td><td>0.19599999999999973</td><td>0.0344948184514718</td><td>nan</td><td>nan</td><td>0.2200000000000002</td><td>0.0024748737341531144</td><td>0.21150000000000002</td><td>0.08507425950091853</td><td>0.3775000000000004</td><td>0.013218953844413676</td><td>0.011499999999999844</td><td>0.03610482276506931</td><td>0.10550000000000104</td><td>0.018864035937514873</td><td>0.1535000000000002</td><td>0.02559723928262824</td><td>-0.05550000000000033</td><td>0.0600374882885685</td><td>0.12850000000000072</td><td>0.032124756808418135</td><td>0.28549999999999986</td><td>0.03922611375091847</td><td>nan</td><td>nan</td><td>-0.30949999999999944</td><td>0.10111626970967645</td><td>-0.16349999999999998</td><td>0.04634702660365604</td><td>0.15950000000000042</td><td>0.03768019207753594</td><td>0.17900000000000027</td><td>0.015426315500226745</td><td>-0.1744999999999992</td><td>0.030609850750419536</td><td>0.11950000000000038</td><td>0.04029159306636677</td></tr>\n",
       "<tr><td>HD_187217</td><td>0.16100000000000048</td><td>0.039780379434627866</td><td>0.2789999999999999</td><td>0.023498526720147597</td><td>-0.08699999999999974</td><td>0.029139272849922373</td><td>0.13900000000000023</td><td>0.04346477038915752</td><td>nan</td><td>nan</td><td>0.3195000000000001</td><td>0.02793071785686853</td><td>0.2110000000000003</td><td>0.13902585191251304</td><td>nan</td><td>nan</td><td>-0.030999999999999694</td><td>0.05805552897394394</td><td>-0.10499999999999954</td><td>0.09663831001710949</td><td>-0.026999999999999247</td><td>0.020327350200671918</td><td>nan</td><td>nan</td><td>-0.0739999999999994</td><td>0.0288300515955141</td><td>0.22300000000000075</td><td>0.04181769960196288</td><td>nan</td><td>nan</td><td>nan</td><td>nan</td><td>-0.37399999999999967</td><td>0.047287144913539275</td><td>0.27950000000000097</td><td>0.02831601799335492</td><td>0.10600000000000032</td><td>0.03426550328714239</td><td>-0.23399999999999954</td><td>0.024595994856133792</td><td>0.038000000000000256</td><td>0.05054567974358185</td></tr>\n",
       "<tr><td>HD_188537</td><td>0.11150000000000038</td><td>0.03855989809038324</td><td>0.27099999999999946</td><td>0.037582721262569584</td><td>0.01949999999999985</td><td>0.03328735495649971</td><td>0.10749999999999948</td><td>0.03903967693257719</td><td>nan</td><td>nan</td><td>0.2474999999999996</td><td>0.04944441323344857</td><td>0.2444999999999995</td><td>0.07457336991178563</td><td>nan</td><td>nan</td><td>0.04949999999999921</td><td>0.07340329621854591</td><td>0.10050000000000026</td><td>0.025860022056076123</td><td>0.11549999999999994</td><td>0.03721797741099853</td><td>0.19549999999999912</td><td>0.041894957930519505</td><td>0.14749999999999996</td><td>0.10139056600591602</td><td>0.2990000000000004</td><td>0.036097740580263396</td><td>nan</td><td>nan</td><td>0.31650000000000045</td><td>0.7810164450893463</td><td>-0.27449999999999974</td><td>0.09222837998183683</td><td>0.17149999999999999</td><td>0.0056568542494923844</td><td>0.10949999999999971</td><td>0.021068067072213998</td><td>-0.17499999999999982</td><td>0.04142368736604698</td><td>0.06400000000000006</td><td>0.04643512678996363</td></tr>\n",
       "<tr><td>HD_188629</td><td>0.3025000000000011</td><td>0.028373276598652707</td><td>0.2084999999999999</td><td>0.03199489842736227</td><td>-0.03899999999999926</td><td>0.06502965847581772</td><td>0.36850000000000005</td><td>0.06709853215795022</td><td>nan</td><td>nan</td><td>0.41100000000000003</td><td>0.039951533137040085</td><td>nan</td><td>nan</td><td>0.45750000000000046</td><td>0.32183798330837216</td><td>0.10449999999999982</td><td>0.056414439640928786</td><td>0.22100000000000097</td><td>0.006717514421272246</td><td>0.10350000000000037</td><td>0.024782670518277355</td><td>0.15050000000000008</td><td>0.029115073415672488</td><td>0.06100000000000039</td><td>0.07470222135251403</td><td>0.42850000000000055</td><td>0.011313708498984769</td><td>0.34250000000000025</td><td>0.22059167595355916</td><td>nan</td><td>nan</td><td>-0.040499999999999314</td><td>0.09687362902255701</td><td>0.3020000000000005</td><td>0.05904341622907665</td><td>0.31400000000000006</td><td>0.03776585759651169</td><td>-0.14849999999999985</td><td>0.08573533037785537</td><td>0.21550000000000047</td><td>0.04011491017712139</td></tr>\n",
       "<tr><td>HD_188875</td><td>0.18200000000000083</td><td>0.038652386012307756</td><td>0.2184999999999997</td><td>0.03428557547819572</td><td>-0.07249999999999934</td><td>0.03230274899435941</td><td>0.2945000000000002</td><td>0.038581390611849536</td><td>nan</td><td>nan</td><td>0.3285</td><td>0.018384776310850094</td><td>nan</td><td>nan</td><td>0.6145000000000005</td><td>1.0900865504628523</td><td>-0.02149999999999963</td><td>0.050014618449035014</td><td>0.23150000000000048</td><td>0.018384776310850094</td><td>0.08950000000000014</td><td>0.025576387616286674</td><td>0.19449999999999967</td><td>0.0679462103431825</td><td>0.19650000000000079</td><td>0.04572933276355557</td><td>0.2975000000000003</td><td>0.02961405071921094</td><td>nan</td><td>nan</td><td>0.3095000000000008</td><td>1.7105965881820295</td><td>-0.04049999999999976</td><td>0.07295589421013217</td><td>0.3260000000000005</td><td>0.07398426775335419</td><td>0.17550000000000043</td><td>0.018934835428842306</td><td>-0.2544999999999997</td><td>0.069307687564624</td><td>0.12700000000000022</td><td>0.03146312509495424</td></tr>\n",
       "<tr><td>HD_226754</td><td>0.3030000000000008</td><td>0.02383981101080299</td><td>0.3050000000000006</td><td>0.04196543093654571</td><td>0.03200000000000092</td><td>0.0420342122562086</td><td>0.39600000000000035</td><td>0.06409572196390392</td><td>nan</td><td>nan</td><td>0.47500000000000053</td><td>0.0652279656282488</td><td>0.4300000000000006</td><td>0.004242640687119445</td><td>0.4740000000000002</td><td>0.18465423769846157</td><td>0.18599999999999994</td><td>0.05382950863606319</td><td>0.3295000000000008</td><td>0.026516504294495594</td><td>0.2270000000000003</td><td>0.03217227678586037</td><td>0.2809999999999997</td><td>0.06845801633117923</td><td>-0.04849999999999932</td><td>0.06984849676263603</td><td>0.3440000000000003</td><td>0.040408513954363644</td><td>0.2610000000000001</td><td>0.13337259838512555</td><td>-0.22199999999999953</td><td>1.0691414780093418</td><td>-0.33049999999999935</td><td>0.039244426355853304</td><td>0.3840000000000008</td><td>0.06858935777509509</td><td>0.44950000000000045</td><td>0.035637863174812656</td><td>-0.02099999999999902</td><td>0.07374279625834644</td><td>0.3040000000000007</td><td>0.03823498858181933</td></tr>\n",
       "</table>"
      ],
      "text/plain": [
       "<Table length=35>\n",
       "  Object          Ca_Fe        ...        Sc_Fe                eSc_Fe       \n",
       "  str10          float64       ...       float64              float64       \n",
       "---------- ------------------- ... -------------------- --------------------\n",
       "BD+36_3564 0.20550000000000068 ...  0.17300000000000093 0.017790381816734174\n",
       "BD+39_3577  0.1330000000000009 ... -0.12499999999999956 0.053405093390050375\n",
       "BD+43_3064 0.18600000000000083 ...  0.13700000000000045 0.024837935349126893\n",
       "BD+43_3171 0.28550000000000075 ...   0.1435000000000004 0.032129667788764645\n",
       "BD+43_3213  0.1880000000000006 ...  0.18450000000000033  0.04329651213392325\n",
       "BD+48_2955 0.22000000000000064 ...  0.15300000000000047 0.030223708855958882\n",
       " HD_174020 0.32800000000000074 ...  0.18100000000000094  0.02827077402835456\n",
       " HD_174829 0.15549999999999997 ...  0.11749999999999972  0.02919511295724036\n",
       " HD_175740 0.12400000000000011 ...  0.08250000000000002  0.02889131934220613\n",
       " HD_175884 0.22850000000000037 ...  0.12950000000000017  0.02353279507925373\n",
       "       ...                 ... ...                  ...                  ...\n",
       " HD_182692 0.18700000000000072 ...   0.1800000000000006 0.032771550324883957\n",
       " HD_182694 0.10400000000000009 ...  0.09100000000000019  0.04662682014305659\n",
       " HD_183124 0.17250000000000076 ...  0.10200000000000031 0.033977831825405765\n",
       " HD_185286 0.33500000000000085 ...   0.2685000000000004 0.030553109119234503\n",
       " HD_185351 0.13300000000000045 ...  0.11950000000000038  0.04029159306636677\n",
       " HD_187217 0.16100000000000048 ... 0.038000000000000256  0.05054567974358185\n",
       " HD_188537 0.11150000000000038 ...  0.06400000000000006  0.04643512678996363\n",
       " HD_188629  0.3025000000000011 ...  0.21550000000000047  0.04011491017712139\n",
       " HD_188875 0.18200000000000083 ...  0.12700000000000022  0.03146312509495424\n",
       " HD_226754  0.3030000000000008 ...   0.3040000000000007  0.03823498858181933"
      ]
     },
     "execution_count": 84,
     "metadata": {},
     "output_type": "execute_result"
    }
   ],
   "source": [
    "nodiff"
   ]
  },
  {
   "cell_type": "code",
   "execution_count": 85,
   "metadata": {},
   "outputs": [
    {
     "name": "stdout",
     "output_type": "stream",
     "text": [
      "['Ca_Fe', 'Mg_Fe', 'Si_Fe', 'Ti_Fe', 'O_Fe', 'Al_Fe', 'Ba_Fe', 'Na_Fe', 'Ni_Fe', 'Mn_Fe', 'Co_Fe', 'Eu_Fe', 'La_Fe', 'Zr_Fe', 'Sr_Fe', 'Zn_Fe', 'Y_Fe', 'Cr_Fe', 'V_Fe', 'Cu_Fe', 'Sc_Fe']\n"
     ]
    }
   ],
   "source": [
    "elements = filter(lambda x: x[0]!='e', nodiff.keys()[1:])\n",
    "print elements"
   ]
  },
  {
   "cell_type": "markdown",
   "metadata": {},
   "source": [
    "### Create a string-formatted table merging abundances with their uncertainties appropriately."
   ]
  },
  {
   "cell_type": "code",
   "execution_count": 86,
   "metadata": {},
   "outputs": [],
   "source": [
    "newtab = Table([Column([str(obj).replace('_',' ') for obj in nodiff['Object']],name='Object')])\n",
    "\n",
    "for el in elements[:8]:\n",
    "    if el == 'O_Fe':\n",
    "        continue\n",
    "    col = nodiff[el]\n",
    "    ecol = nodiff['e%s' % el]\n",
    "    test = Column(['--' if 'nan' in str(col[j]) else '$%.2f \\pm %.2f$' % (col[j],ecol[j]) for j, x in enumerate(col)],name='[%s/Fe]' % el.replace('_Fe',''))\n",
    "#     test = Column(['$%.2f \\pm %.2f$' % (col[j],ecol[j]) for j, x in enumerate(col)],name=el.replace('_Fe',''))\n",
    "\n",
    "    newtab.add_column(test)\n",
    "    \n",
    "#     print el\n",
    "\n",
    "\n",
    "newtab2 = Table([Column([str(obj).replace('_',' ') for obj in nodiff['Object']],name='Object')])\n",
    "\n",
    "for el in elements[8:15]:\n",
    "    col = nodiff[el]\n",
    "    ecol = nodiff['e%s' % el]\n",
    "    test = Column(['--' if 'nan' in str(col[j]) else '$%.2f \\pm %.2f$' % (col[j],ecol[j]) for j, x in enumerate(col)],name='[%s/Fe]' % el.replace('_Fe',''))\n",
    "#     test = Column(['$%.2f \\pm %.2f$' % (col[j],ecol[j]) for j, x in enumerate(col)],name=el.replace('_Fe',''))\n",
    "\n",
    "    newtab2.add_column(test)\n",
    "    \n",
    "newtab3 = Table([Column([str(obj).replace('_',' ') for obj in nodiff['Object']],name='Object')])\n",
    "\n",
    "for el in elements[15:]:\n",
    "    col = nodiff[el]\n",
    "    ecol = nodiff['e%s' % el]\n",
    "    test = Column(['--' if 'nan' in str(col[j]) else '$%.2f \\pm %.2f$' % (col[j],ecol[j]) for j, x in enumerate(col)],name='[%s/Fe]' % el.replace('_Fe',''))\n",
    "#     test = Column(['$%.2f \\pm %.2f$' % (col[j],ecol[j]) for j, x in enumerate(col)],name=el.replace('_Fe',''))\n",
    "\n",
    "    newtab3.add_column(test)\n",
    "\n",
    "    \n",
    "# newtab_diff = Table([diff['Object']])\n",
    "\n",
    "# for el in elements:\n",
    "#     col = diff[el]\n",
    "#     ecol = diff['e%s' % el]\n",
    "#     test = Column(['--' if 'nan' in str(col[j]) else '%.2f $\\pm$ %.2f' % (col[j],ecol[j]) for j, x in enumerate(col)],name=el.replace('_Fe',''))\n",
    "# #     test = Column(['$%.2f \\pm %.2f$' % (col[j],ecol[j]) for j, x in enumerate(col)],name=el.replace('_Fe',''))\n",
    "\n",
    "#     newtab_diff.add_column(test)\n"
   ]
  },
  {
   "cell_type": "code",
   "execution_count": 87,
   "metadata": {},
   "outputs": [],
   "source": [
    "def oxford_join(string_list):\n",
    "    '''From https://stackoverflow.com/questions/19838976/grammatical-list-join-in-python'''\n",
    "    if len(string_list) < 1:\n",
    "        text = ''\n",
    "    elif len(string_list) == 1:\n",
    "        text = string_list[0]\n",
    "    elif len(string_list) == 2:\n",
    "        text = ' and '.join(string_list)\n",
    "    else:\n",
    "        text = ', '.join(string_list)\n",
    "        text = '{parts[0]}, and {parts[2]}'.format(parts=text.rpartition(', '))  # oxford comma\n",
    "    return text"
   ]
  },
  {
   "cell_type": "markdown",
   "metadata": {},
   "source": [
    "## Now produce three LaTeX tables to go into the paper directory."
   ]
  },
  {
   "cell_type": "code",
   "execution_count": 88,
   "metadata": {},
   "outputs": [],
   "source": [
    "latexdict = ascii.latex.latexdicts['AA'].copy()\n",
    "latexdict['tabletype']= 'table*'\n",
    "\n",
    "caption1 = r'Chemical abundances relative to iron for stars in the red giant sample as determined by BACCHUS, without differential line-by-line comparison to Arcturus, as described in Section~\\ref{spectroscopy}, for the elements %s. Dashes indicate elements for which abundances could not be reliably computed.' % oxford_join([el.replace('_Fe','') for el in filter(lambda x: x !='O_Fe',elements[0:8])])\n",
    "caption2 = r'Chemical abundances relative to iron for stars in the red giant sample as determined by BACCHUS, without differential line-by-line comparison to Arcturus, as described in Section~\\ref{spectroscopy}, for the elements %s. Dashes indicate elements for which abundances could not be reliably computed.' % oxford_join([el.replace('_Fe','') for el in elements[8:15]])\n",
    "caption3 = r'Chemical abundances relative to iron for stars in the red giant sample as determined by BACCHUS, without differential line-by-line comparison to Arcturus, as described in Section~\\ref{spectroscopy}, for the elements %s. Dashes indicate elements for which abundances could not be reliably computed.' % oxford_join([el.replace('_Fe','') for el in elements[15:]])\n",
    "\n",
    "caption1 = caption1+r'The catalogue of abundances for more elements continues in Tables~\\ref{elems2} and~\\ref{elems3}.'\n",
    "caption2 = caption2+r'The catalogue of abundances for more elements continues in Table~\\ref{elems3}.'\n",
    "\n",
    "\n",
    "newtab.write('../paper/abundances_1.tex',format='latex',latexdict=latexdict,caption=caption1+'\\label{elems1}',overwrite=True)\n",
    "newtab2.write('../paper/abundances_2.tex',format='latex',latexdict=latexdict,caption=caption2+'\\label{elems2}',overwrite=True)\n",
    "newtab3.write('../paper/abundances_3.tex',format='latex',latexdict=latexdict,caption=caption3+'\\label{elems3}',overwrite=True)"
   ]
  },
  {
   "cell_type": "markdown",
   "metadata": {},
   "source": [
    "### Now let's also do the stellar properties"
   ]
  },
  {
   "cell_type": "code",
   "execution_count": 89,
   "metadata": {},
   "outputs": [],
   "source": [
    "fname_merged =\"../data/abundances/final_pope_merged.fits\"\n",
    "merged = Table.read(fname_merged)\n",
    "merged.rename_column('RVerr','RV_err')\n",
    "merged.keys()\n",
    "merged.sort('Object')"
   ]
  },
  {
   "cell_type": "code",
   "execution_count": 90,
   "metadata": {},
   "outputs": [],
   "source": [
    "newtab = Table([Column([str(obj).replace('_',' ') for obj in merged['Object']],name='Object')])\n",
    "\n",
    "newkeys = ['RV', 'Teff', 'logg', 'monh','vsini','SNRe']\n",
    "names = [r'RV',r'\\teff', r'\\logg',r'[M/H]',r'$V\\sin{i}$',r'SNR']\n",
    "units = [r'(km/s)', r'(K)', '','','(km/s)','']\n",
    "\n",
    "for k, key in enumerate(newkeys):\n",
    "    col = merged[key]\n",
    "    if key+'_err' in merged.keys():\n",
    "        ecol = merged['%s_err' % key]\n",
    "        if 'Teff' in key:\n",
    "            test = Column(['--' if 'nan' in str(col[j]) else '$%.0f \\pm %.0f$' % (col[j],ecol[j]) for j, x in enumerate(col)],name=names[k])\n",
    "        else:\n",
    "            test = Column(['--' if 'nan' in str(col[j]) else '$%.2f \\pm %.2f$' % (col[j],ecol[j]) for j, x in enumerate(col)],name=names[k])\n",
    "    else:\n",
    "        test = Column(['%.1f' % (col[j]) for j, x in enumerate(col)],name=names[k])\n",
    "    \n",
    "    newtab.add_column(test)\n"
   ]
  },
  {
   "cell_type": "code",
   "execution_count": 91,
   "metadata": {},
   "outputs": [
    {
     "data": {
      "text/html": [
       "&lt;Table length=35&gt;\n",
       "<table id=\"table4703161808\" class=\"table-striped table-bordered table-condensed\">\n",
       "<thead><tr><th>Object</th><th>RV</th><th>\\teff</th><th>\\logg</th><th>[M/H]</th><th>$V\\sin{i}$</th><th>SNR</th></tr></thead>\n",
       "<thead><tr><th>str10</th><th>str17</th><th>str13</th><th>str15</th><th>str16</th><th>str16</th><th>str5</th></tr></thead>\n",
       "<tr><td>BD+36 3564</td><td>$-77.84 \\pm 0.05$</td><td>$4301 \\pm 50$</td><td>$2.06 \\pm 0.10$</td><td>$-0.34 \\pm 0.08$</td><td>$5.14 \\pm 0.50$</td><td>71.8</td></tr>\n",
       "<tr><td>BD+39 3577</td><td>$-14.81 \\pm 0.07$</td><td>$5079 \\pm 50$</td><td>$3.00 \\pm 0.10$</td><td>$-0.11 \\pm 0.08$</td><td>$3.98 \\pm 0.50$</td><td>92.8</td></tr>\n",
       "<tr><td>BD+43 3064</td><td>$-13.65 \\pm 0.06$</td><td>$4266 \\pm 50$</td><td>$2.03 \\pm 0.10$</td><td>$-0.21 \\pm 0.08$</td><td>$5.17 \\pm 0.50$</td><td>69.2</td></tr>\n",
       "<tr><td>BD+43 3171</td><td>$-16.32 \\pm 0.11$</td><td>$4072 \\pm 50$</td><td>$2.02 \\pm 0.10$</td><td>$-0.17 \\pm 0.08$</td><td>$5.68 \\pm 0.50$</td><td>68.6</td></tr>\n",
       "<tr><td>BD+43 3213</td><td>$-14.16 \\pm 0.16$</td><td>$4131 \\pm 50$</td><td>$2.07 \\pm 0.10$</td><td>$0.07 \\pm 0.08$</td><td>$6.24 \\pm 0.50$</td><td>57.3</td></tr>\n",
       "<tr><td>BD+48 2955</td><td>$1.66 \\pm 0.04$</td><td>$4344 \\pm 50$</td><td>$2.11 \\pm 0.10$</td><td>$-0.32 \\pm 0.08$</td><td>$4.78 \\pm 0.50$</td><td>31.7</td></tr>\n",
       "<tr><td>HD 174020</td><td>$-14.84 \\pm 0.08$</td><td>$4162 \\pm 50$</td><td>$1.97 \\pm 0.10$</td><td>$-0.10 \\pm 0.08$</td><td>$5.81 \\pm 0.50$</td><td>120.1</td></tr>\n",
       "<tr><td>HD 174829</td><td>$10.15 \\pm 0.03$</td><td>$4482 \\pm 50$</td><td>$2.06 \\pm 0.10$</td><td>$-0.40 \\pm 0.08$</td><td>$4.41 \\pm 0.50$</td><td>112.2</td></tr>\n",
       "<tr><td>HD 175740</td><td>$-8.82 \\pm 0.05$</td><td>$4973 \\pm 50$</td><td>$2.97 \\pm 0.10$</td><td>$-0.05 \\pm 0.08$</td><td>$3.66 \\pm 0.50$</td><td>264.0</td></tr>\n",
       "<tr><td>HD 175884</td><td>$-34.39 \\pm 0.07$</td><td>$4466 \\pm 50$</td><td>$2.22 \\pm 0.10$</td><td>$-0.27 \\pm 0.08$</td><td>$4.46 \\pm 0.50$</td><td>144.4</td></tr>\n",
       "<tr><td>...</td><td>...</td><td>...</td><td>...</td><td>...</td><td>...</td><td>...</td></tr>\n",
       "<tr><td>HD 182692</td><td>$-8.01 \\pm 0.05$</td><td>$4965 \\pm 50$</td><td>$3.06 \\pm 0.10$</td><td>$0.09 \\pm 0.08$</td><td>$3.40 \\pm 0.50$</td><td>72.8</td></tr>\n",
       "<tr><td>HD 182694</td><td>$-0.87 \\pm 0.06$</td><td>$5178 \\pm 50$</td><td>$2.98 \\pm 0.10$</td><td>$-0.12 \\pm 0.08$</td><td>$5.12 \\pm 0.50$</td><td>187.2</td></tr>\n",
       "<tr><td>HD 183124</td><td>$14.96 \\pm 0.01$</td><td>$4911 \\pm 50$</td><td>$2.85 \\pm 0.10$</td><td>$-0.15 \\pm 0.08$</td><td>$5.19 \\pm 0.50$</td><td>114.3</td></tr>\n",
       "<tr><td>HD 185286</td><td>$-13.70 \\pm 0.08$</td><td>$4301 \\pm 50$</td><td>$2.08 \\pm 0.10$</td><td>$-0.14 \\pm 0.08$</td><td>$5.16 \\pm 0.50$</td><td>135.6</td></tr>\n",
       "<tr><td>HD 185351</td><td>$-5.18 \\pm 0.04$</td><td>$5244 \\pm 50$</td><td>$3.66 \\pm 0.10$</td><td>$0.03 \\pm 0.08$</td><td>$2.02 \\pm 0.50$</td><td>202.3</td></tr>\n",
       "<tr><td>HD 187217</td><td>$1.64 \\pm 0.05$</td><td>$4718 \\pm 50$</td><td>$2.41 \\pm 0.10$</td><td>$-0.17 \\pm 0.08$</td><td>$8.25 \\pm 0.50$</td><td>59.9</td></tr>\n",
       "<tr><td>HD 188537</td><td>$-18.03 \\pm 0.15$</td><td>$4961 \\pm 50$</td><td>$2.41 \\pm 0.10$</td><td>$-0.08 \\pm 0.08$</td><td>$10.68 \\pm 0.50$</td><td>67.0</td></tr>\n",
       "<tr><td>HD 188629</td><td>$10.97 \\pm 0.08$</td><td>$4227 \\pm 50$</td><td>$2.01 \\pm 0.10$</td><td>$-0.10 \\pm 0.08$</td><td>$5.53 \\pm 0.50$</td><td>51.3</td></tr>\n",
       "<tr><td>HD 188875</td><td>$-13.71 \\pm 0.08$</td><td>$4473 \\pm 50$</td><td>$1.95 \\pm 0.10$</td><td>$-0.17 \\pm 0.08$</td><td>$7.07 \\pm 0.50$</td><td>143.2</td></tr>\n",
       "<tr><td>HD 226754</td><td>$18.66 \\pm 0.10$</td><td>$4370 \\pm 50$</td><td>$2.36 \\pm 0.10$</td><td>$0.08 \\pm 0.08$</td><td>$4.78 \\pm 0.50$</td><td>62.5</td></tr>\n",
       "</table>"
      ],
      "text/plain": [
       "<Table length=35>\n",
       "  Object           RV            \\teff     ...    $V\\sin{i}$     SNR \n",
       "  str10          str17           str13     ...      str16        str5\n",
       "---------- ----------------- ------------- ... ---------------- -----\n",
       "BD+36 3564 $-77.84 \\pm 0.05$ $4301 \\pm 50$ ...  $5.14 \\pm 0.50$  71.8\n",
       "BD+39 3577 $-14.81 \\pm 0.07$ $5079 \\pm 50$ ...  $3.98 \\pm 0.50$  92.8\n",
       "BD+43 3064 $-13.65 \\pm 0.06$ $4266 \\pm 50$ ...  $5.17 \\pm 0.50$  69.2\n",
       "BD+43 3171 $-16.32 \\pm 0.11$ $4072 \\pm 50$ ...  $5.68 \\pm 0.50$  68.6\n",
       "BD+43 3213 $-14.16 \\pm 0.16$ $4131 \\pm 50$ ...  $6.24 \\pm 0.50$  57.3\n",
       "BD+48 2955   $1.66 \\pm 0.04$ $4344 \\pm 50$ ...  $4.78 \\pm 0.50$  31.7\n",
       " HD 174020 $-14.84 \\pm 0.08$ $4162 \\pm 50$ ...  $5.81 \\pm 0.50$ 120.1\n",
       " HD 174829  $10.15 \\pm 0.03$ $4482 \\pm 50$ ...  $4.41 \\pm 0.50$ 112.2\n",
       " HD 175740  $-8.82 \\pm 0.05$ $4973 \\pm 50$ ...  $3.66 \\pm 0.50$ 264.0\n",
       " HD 175884 $-34.39 \\pm 0.07$ $4466 \\pm 50$ ...  $4.46 \\pm 0.50$ 144.4\n",
       "       ...               ...           ... ...              ...   ...\n",
       " HD 182692  $-8.01 \\pm 0.05$ $4965 \\pm 50$ ...  $3.40 \\pm 0.50$  72.8\n",
       " HD 182694  $-0.87 \\pm 0.06$ $5178 \\pm 50$ ...  $5.12 \\pm 0.50$ 187.2\n",
       " HD 183124  $14.96 \\pm 0.01$ $4911 \\pm 50$ ...  $5.19 \\pm 0.50$ 114.3\n",
       " HD 185286 $-13.70 \\pm 0.08$ $4301 \\pm 50$ ...  $5.16 \\pm 0.50$ 135.6\n",
       " HD 185351  $-5.18 \\pm 0.04$ $5244 \\pm 50$ ...  $2.02 \\pm 0.50$ 202.3\n",
       " HD 187217   $1.64 \\pm 0.05$ $4718 \\pm 50$ ...  $8.25 \\pm 0.50$  59.9\n",
       " HD 188537 $-18.03 \\pm 0.15$ $4961 \\pm 50$ ... $10.68 \\pm 0.50$  67.0\n",
       " HD 188629  $10.97 \\pm 0.08$ $4227 \\pm 50$ ...  $5.53 \\pm 0.50$  51.3\n",
       " HD 188875 $-13.71 \\pm 0.08$ $4473 \\pm 50$ ...  $7.07 \\pm 0.50$ 143.2\n",
       " HD 226754  $18.66 \\pm 0.10$ $4370 \\pm 50$ ...  $4.78 \\pm 0.50$  62.5"
      ]
     },
     "execution_count": 91,
     "metadata": {},
     "output_type": "execute_result"
    }
   ],
   "source": [
    "newtab"
   ]
  },
  {
   "cell_type": "code",
   "execution_count": 92,
   "metadata": {},
   "outputs": [],
   "source": [
    "latexdict = ascii.latex.latexdicts['AA'].copy()\n",
    "latexdict['tabletype']= 'table*'\n",
    "latexdict['units'] = dict(zip(names,units))\n",
    "\n",
    "caption = r'Fundamental stellar parameters for the red giant sample as determined jointly by asteroseismology (asteroseismic \\logg; Section~\\ref{asteroseismology}) and spectroscopy (%s; Section~\\ref{spectroscopy}.)' % oxford_join(names)  \n",
    "caption = caption+r'\\label{stellar_props}'\n",
    "newtab.write('../paper/stellar_props.tex',format='latex',latexdict=latexdict,caption=caption+'\\label{stellar_props}',overwrite=True)\n"
   ]
  },
  {
   "cell_type": "markdown",
   "metadata": {},
   "source": [
    "### Now let's look at the proper spectroscopy with Dnu measurements"
   ]
  },
  {
   "cell_type": "code",
   "execution_count": 93,
   "metadata": {},
   "outputs": [],
   "source": [
    "fname_seismic = \"../data/smear_Dnu.csv\"\n",
    "seismic = Table.read(fname_seismic)\n",
    "seismic.sort('Star_ID')"
   ]
  },
  {
   "cell_type": "code",
   "execution_count": 94,
   "metadata": {},
   "outputs": [
    {
     "data": {
      "text/html": [
       "&lt;Table length=35&gt;\n",
       "<table id=\"table4699449552\" class=\"table-striped table-bordered table-condensed\">\n",
       "<thead><tr><th>Star_ID</th><th>Dnu</th><th>Dnu_err</th><th>Numax</th><th>Numax_err</th><th>eps</th><th>eps_err</th></tr></thead>\n",
       "<thead><tr><th>str10</th><th>float64</th><th>float64</th><th>float64</th><th>float64</th><th>float64</th><th>float64</th></tr></thead>\n",
       "<tr><td>BD+36_3564</td><td>0.9490949804411055</td><td>0.030097283743239316</td><td>5.079062736733746</td><td>0.09882652247868091</td><td>0.8305746287171062</td><td>0.20003026391376488</td></tr>\n",
       "<tr><td>BD+39_3577</td><td>1.6836250688792482</td><td>0.01363988821142889</td><td>13.266855807051439</td><td>0.31633186319569034</td><td>0.7409609522947077</td><td>0.06299253167276896</td></tr>\n",
       "<tr><td>BD+42_3150</td><td>4.221788591943251</td><td>0.028504804862306103</td><td>38.315943379269186</td><td>0.9588694546996247</td><td>0.7013731801198373</td><td>0.07075600621249865</td></tr>\n",
       "<tr><td>BD+43_3171</td><td>0.41728859981040545</td><td>0.05318387492844148</td><td>1.984298734336489</td><td>0.05145104900196677</td><td>0.8040170562496404</td><td>0.17159665699501567</td></tr>\n",
       "<tr><td>BD+43_3213</td><td>0.48750734592283734</td><td>0.006958633078022336</td><td>2.5632797174106847</td><td>0.06325084146747773</td><td>1.0124195735754942</td><td>0.07326685394355063</td></tr>\n",
       "<tr><td>BD+48_2904</td><td>2.8511597676805804</td><td>0.010318892608438912</td><td>23.13453453354469</td><td>0.7225398099392429</td><td>0.8563054208127122</td><td>0.08052669688943252</td></tr>\n",
       "<tr><td>BD+48_2955</td><td>0.8953098233940573</td><td>0.0068208356847463585</td><td>5.440132725276065</td><td>0.08331498484403516</td><td>0.8105480979445374</td><td>0.052471147709803705</td></tr>\n",
       "<tr><td>HD_174020</td><td>0.5639183284003043</td><td>0.01603666749035637</td><td>2.47548965209216</td><td>0.09744999575175439</td><td>0.8926590744791576</td><td>0.08467569516842773</td></tr>\n",
       "<tr><td>HD_174829</td><td>1.2833572675283929</td><td>0.011357043983480081</td><td>7.9497984768617815</td><td>0.1571667547811646</td><td>0.7755393571480604</td><td>0.05755641850899791</td></tr>\n",
       "<tr><td>HD_175740</td><td>5.930230004063379</td><td>0.010423967130974505</td><td>64.33345016648104</td><td>0.781397165223729</td><td>1.0017574684895851</td><td>0.019432829648297706</td></tr>\n",
       "<tr><td>...</td><td>...</td><td>...</td><td>...</td><td>...</td><td>...</td><td>...</td></tr>\n",
       "<tr><td>HD_182354</td><td>2.6567259425373924</td><td>0.0116743978566671</td><td>24.73075125143719</td><td>0.3707943073028773</td><td>0.7424211095150425</td><td>0.041177248862450624</td></tr>\n",
       "<tr><td>HD_182531</td><td>1.0303790538910182</td><td>0.004200581130585748</td><td>6.465080945267556</td><td>0.08931624177636578</td><td>0.8644896897235024</td><td>0.027293960706728466</td></tr>\n",
       "<tr><td>HD_182692</td><td>4.656371955263934</td><td>0.010792609608257217</td><td>44.38373487371614</td><td>0.469132553990273</td><td>0.8736919472802216</td><td>0.022597153253640357</td></tr>\n",
       "<tr><td>HD_182694</td><td>5.71435782334927</td><td>0.014267235676153614</td><td>69.7756254063585</td><td>1.017847172490138</td><td>0.9395935999968813</td><td>0.2516523703726711</td></tr>\n",
       "<tr><td>HD_183124</td><td>4.3919882085523305</td><td>0.013079012313137814</td><td>39.585673622735754</td><td>0.2876104937870424</td><td>0.9451337192882556</td><td>0.027794156928306737</td></tr>\n",
       "<tr><td>HD_185286</td><td>0.7202161705442813</td><td>0.007066328212678815</td><td>4.226733266919384</td><td>0.10176701279630138</td><td>0.7275758136813686</td><td>0.08183138701360353</td></tr>\n",
       "<tr><td>HD_188537</td><td>1.5481552727523136</td><td>0.01087246922323641</td><td>13.402868450842114</td><td>0.3426745085090518</td><td>0.7178796532748889</td><td>0.06718021726784126</td></tr>\n",
       "<tr><td>HD_189636</td><td>2.9103268982809842</td><td>0.013248235493462875</td><td>25.970144308219286</td><td>0.7419635016983703</td><td>0.9683943365400706</td><td>0.03773314934951546</td></tr>\n",
       "<tr><td>HD_189750</td><td>4.156962281052604</td><td>0.03829971628489321</td><td>36.14219592398721</td><td>0.5754661116683394</td><td>0.9436460960784349</td><td>0.07974840612479843</td></tr>\n",
       "<tr><td>HD_226754</td><td>1.187709408421745</td><td>0.012942784192061485</td><td>7.40678483572143</td><td>0.18595980259156958</td><td>0.7353868227670696</td><td>0.07705968190684095</td></tr>\n",
       "</table>"
      ],
      "text/plain": [
       "<Table length=35>\n",
       " Star_ID           Dnu         ...        eps               eps_err       \n",
       "  str10          float64       ...      float64             float64       \n",
       "---------- ------------------- ... ------------------ --------------------\n",
       "BD+36_3564  0.9490949804411055 ... 0.8305746287171062  0.20003026391376488\n",
       "BD+39_3577  1.6836250688792482 ... 0.7409609522947077  0.06299253167276896\n",
       "BD+42_3150   4.221788591943251 ... 0.7013731801198373  0.07075600621249865\n",
       "BD+43_3171 0.41728859981040545 ... 0.8040170562496404  0.17159665699501567\n",
       "BD+43_3213 0.48750734592283734 ... 1.0124195735754942  0.07326685394355063\n",
       "BD+48_2904  2.8511597676805804 ... 0.8563054208127122  0.08052669688943252\n",
       "BD+48_2955  0.8953098233940573 ... 0.8105480979445374 0.052471147709803705\n",
       " HD_174020  0.5639183284003043 ... 0.8926590744791576  0.08467569516842773\n",
       " HD_174829  1.2833572675283929 ... 0.7755393571480604  0.05755641850899791\n",
       " HD_175740   5.930230004063379 ... 1.0017574684895851 0.019432829648297706\n",
       "       ...                 ... ...                ...                  ...\n",
       " HD_182354  2.6567259425373924 ... 0.7424211095150425 0.041177248862450624\n",
       " HD_182531  1.0303790538910182 ... 0.8644896897235024 0.027293960706728466\n",
       " HD_182692   4.656371955263934 ... 0.8736919472802216 0.022597153253640357\n",
       " HD_182694    5.71435782334927 ... 0.9395935999968813   0.2516523703726711\n",
       " HD_183124  4.3919882085523305 ... 0.9451337192882556 0.027794156928306737\n",
       " HD_185286  0.7202161705442813 ... 0.7275758136813686  0.08183138701360353\n",
       " HD_188537  1.5481552727523136 ... 0.7178796532748889  0.06718021726784126\n",
       " HD_189636  2.9103268982809842 ... 0.9683943365400706  0.03773314934951546\n",
       " HD_189750   4.156962281052604 ... 0.9436460960784349  0.07974840612479843\n",
       " HD_226754   1.187709408421745 ... 0.7353868227670696  0.07705968190684095"
      ]
     },
     "execution_count": 94,
     "metadata": {},
     "output_type": "execute_result"
    }
   ],
   "source": [
    "seismic"
   ]
  },
  {
   "cell_type": "code",
   "execution_count": 95,
   "metadata": {},
   "outputs": [],
   "source": [
    "newtab = Table([Column([str(obj).replace('_',' ') for obj in seismic['Star_ID']],name='Object')])\n",
    "\n",
    "newkeys = ['Dnu', 'Numax', 'eps']\n",
    "names = [r'\\Dnu',r'\\numax', r'$\\epsilon$']\n",
    "units = [r'(\\muHz)', r'(\\muHz)','']\n",
    "\n",
    "for k, key in enumerate(newkeys):\n",
    "    col = seismic[key]\n",
    "    if key+'_err' in seismic.keys():\n",
    "        ecol = seismic['%s_err' % key]\n",
    "        if 'Teff' in key:\n",
    "            test = Column(['--' if 'nan' in str(col[j]) else '$%.0f \\pm %.0f$' % (col[j],ecol[j]) for j, x in enumerate(col)],name=names[k])\n",
    "        else:\n",
    "            test = Column(['--' if 'nan' in str(col[j]) else '$%.2f \\pm %.2f$' % (col[j],ecol[j]) for j, x in enumerate(col)],name=names[k])\n",
    "    else:\n",
    "        test = Column(['%.1f' % (col[j]) for j, x in enumerate(col)],name=names[k])\n",
    "    \n",
    "    newtab.add_column(test)\n",
    "\n",
    "latexdict = ascii.latex.latexdicts['AA'].copy()\n",
    "latexdict['tabletype']= 'table'\n",
    "latexdict['units'] = dict(zip(names,units))\n",
    "\n",
    "caption = r'Bulk asteroseismic parameters %s for the red giant sample as discussed in Section~\\ref{asteroseismology}.' % oxford_join(names)  \n",
    "caption = caption+r'\\label{astero_table}'\n",
    "newtab.write('../paper/astero_table.tex',format='latex',latexdict=latexdict,caption=caption+'\\label{stellar_props}',overwrite=True)\n"
   ]
  },
  {
   "cell_type": "markdown",
   "metadata": {},
   "source": [
    "### Notes on individual stars from Guy Davies\n",
    "\n",
    "BD+39_388 - No secure detection.\n",
    "\n",
    "BD+43_306 - Big peaks but not consistent enough with RG pattern.\n",
    "\n",
    "HD_179959 - Pattern is too complicated - is this two stars??  Literature says no.\n",
    "\n",
    "HD_185351 - Odd mode envelope - No explanation.\n",
    "\n",
    "HD_187217 - No info on this star - maybe a double but very difficult to tell.\n",
    "\n",
    "HD_188639 - Too difficult to get a robust Dnu.\n",
    "\n",
    "HD_188875 -  Too difficult to get a robust Dnu.\n",
    "\n",
    "HD_188629 - Too difficult to get a robust Dnu.\n",
    "\n"
   ]
  },
  {
   "cell_type": "code",
   "execution_count": 96,
   "metadata": {},
   "outputs": [
    {
     "data": {
      "image/png": "[encoded data removed]",
      "text/plain": [
       "<Figure size 432x288 with 1 Axes>"
      ]
     },
     "metadata": {},
     "output_type": "display_data"
    }
   ],
   "source": [
    "# the stars follow the expected numax-Dnu relation\n",
    "plt.errorbar(seismic['Numax'],seismic['Dnu'],xerr=seismic['Numax_err'],yerr=seismic['Dnu_err'],linestyle='none')\n",
    "plt.xlabel(r'$\\nu_{max}$ ($\\mu$Hz)')\n",
    "plt.ylabel(r'$\\Delta\\nu$ ($\\mu$Hz)')\n",
    "plt.title('Asteroseismic Parameters')\n",
    "plt.xscale('log')\n",
    "plt.yscale('log')"
   ]
  },
  {
   "cell_type": "markdown",
   "metadata": {},
   "source": [
    "### Which ones are missing?"
   ]
  },
  {
   "cell_type": "code",
   "execution_count": 97,
   "metadata": {},
   "outputs": [],
   "source": [
    "badstars = ['BD+39_388','BD+43_306','HD_179959','HD_185351','HD_187217','HD_188639','HD_188875','HD_188629']\n",
    "notes = ['No secure detection','Not consistent with RG pattern','Possible contamination',r'\\citep{2017MNRAS.464.3713H}',\n",
    "         'Possible contamination or binary',r'Too difficult to get a robust \\Dnu',r'Too difficult to get a robust \\Dnu',\n",
    "         r'Too difficult to get a robust \\Dnu']\n",
    "\n",
    "notecol = [notes[j] if star in badstars else '' for j, star in enumerate(seismic['Star_ID'])]"
   ]
  },
  {
   "cell_type": "code",
   "execution_count": 98,
   "metadata": {},
   "outputs": [
    {
     "data": {
      "text/plain": [
       "array(['BD+39_388', 'BD+43_306', 'HD_179959', 'HD_185351', 'HD_187217',\n",
       "       'HD_188629', 'HD_188639', 'HD_188875'], dtype='|S9')"
      ]
     },
     "execution_count": 98,
     "metadata": {},
     "output_type": "execute_result"
    }
   ],
   "source": [
    "np.sort(badstars)"
   ]
  },
  {
   "cell_type": "code",
   "execution_count": 99,
   "metadata": {},
   "outputs": [
    {
     "name": "stdout",
     "output_type": "stream",
     "text": [
      "BD+36_356\n",
      "BD+39_357\n",
      "BD+43_306\n",
      "BD+43_317\n",
      "BD+43_321\n",
      "BD+48_295\n",
      "HD_179959\n",
      "HD_185351\n",
      "HD_187217\n",
      "HD_188629\n",
      "HD_188875\n"
     ]
    }
   ],
   "source": [
    "for star in merged['Object']:\n",
    "    if star[:9] not in seismic['Star_ID']:\n",
    "        print star[:9]"
   ]
  },
  {
   "cell_type": "code",
   "execution_count": 100,
   "metadata": {},
   "outputs": [
    {
     "name": "stdout",
     "output_type": "stream",
     "text": [
      "BD+36_3564\n",
      "BD+39_3577\n",
      "BD+42_3150\n",
      "BD+43_3171\n",
      "BD+43_3213\n",
      "BD+48_2904\n",
      "BD+48_2955\n",
      "HD_176209\n",
      "HD_182354\n",
      "HD_189636\n",
      "HD_189750\n"
     ]
    }
   ],
   "source": [
    "for star in seismic['Star_ID']:\n",
    "    if star not in merged['Object'].astype('S9'):\n",
    "        print star"
   ]
  },
  {
   "cell_type": "markdown",
   "metadata": {},
   "source": [
    "## Read the main catalogue"
   ]
  },
  {
   "cell_type": "code",
   "execution_count": 101,
   "metadata": {},
   "outputs": [],
   "source": [
    "fname_cat = '../data/catalogue.csv'\n",
    "cat = Table.read(fname_cat,format='ascii')\n",
    "cat.sort('kepmag')"
   ]
  },
  {
   "cell_type": "code",
   "execution_count": 102,
   "metadata": {},
   "outputs": [
    {
     "data": {
      "text/html": [
       "&lt;Table masked=True length=102&gt;\n",
       "<table id=\"table4705343440\" class=\"table-striped table-bordered table-condensed\">\n",
       "<thead><tr><th>Name</th><th>SpType</th><th>[Fe/H]</th><th>theta</th><th>Observed</th><th>Seasons</th><th>Teff</th><th>Log_G</th><th>E(B-V)</th><th>g</th><th>r</th><th>J</th><th>kepmag</th><th>Edge_Dist</th><th>Notes</th><th>Collaborators</th><th>Interferometry?</th><th>TRES?</th></tr></thead>\n",
       "<thead><tr><th>str10</th><th>str15</th><th>float64</th><th>float64</th><th>str29</th><th>int64</th><th>int64</th><th>float64</th><th>float64</th><th>float64</th><th>float64</th><th>float64</th><th>float64</th><th>int64</th><th>str84</th><th>str16</th><th>str3</th><th>str3</th></tr></thead>\n",
       "<tr><td>HD_185351</td><td>G9IIIbCN</td><td>0.16</td><td>1.156</td><td>LC:Q1-3 SC:Q16 under</td><td>4</td><td>--</td><td>--</td><td>--</td><td>6.091</td><td>5.176</td><td>3.654</td><td>5.034</td><td>59</td><td>RG: Retired A star</td><td>Hjorringgaard</td><td>--</td><td>Yes</td></tr>\n",
       "<tr><td>HD_186155</td><td>F5II-III</td><td>0.3</td><td>0.57</td><td>LC:Q1 under</td><td>4</td><td>--</td><td>--</td><td>--</td><td>5.44</td><td>5.065</td><td>4.419</td><td>5.055</td><td>66</td><td>three sharp peaks</td><td>--</td><td>--</td><td>--</td></tr>\n",
       "<tr><td>HD_175740</td><td>G8III</td><td>-0.1</td><td>1.035</td><td>unobserved</td><td>4</td><td>--</td><td>--</td><td>--</td><td>6.486</td><td>5.462</td><td>4.08</td><td>5.212</td><td>0</td><td>RG: suppressed l=1</td><td>Tim W, Guy, Cleo</td><td>Yes</td><td>Yes</td></tr>\n",
       "<tr><td>HD_184875</td><td>A2V</td><td>--</td><td>0.349</td><td>unobserved</td><td>4</td><td>--</td><td>--</td><td>--</td><td>5.399</td><td>5.337</td><td>5.128</td><td>5.403</td><td>0</td><td>Classical Pulsator</td><td>--</td><td>--</td><td>--</td></tr>\n",
       "<tr><td>14_Cyg</td><td>B9III</td><td>0.08</td><td>0.267</td><td>unobserved</td><td>4</td><td>--</td><td>--</td><td>--</td><td>5.334</td><td>5.394</td><td>5.365</td><td>5.49</td><td>0</td><td>contact binary, interesting ramp at low freq</td><td>--</td><td>--</td><td>--</td></tr>\n",
       "<tr><td>HD_189178</td><td>B5V</td><td>--</td><td>0.236</td><td>unobserved</td><td>4</td><td>--</td><td>--</td><td>--</td><td>5.356</td><td>5.448</td><td>5.595</td><td>5.552</td><td>0</td><td>Classical Pulsator</td><td>--</td><td>--</td><td>--</td></tr>\n",
       "<tr><td>HD_187372</td><td>M1III</td><td>--</td><td>2.693</td><td>unobserved</td><td>4</td><td>--</td><td>--</td><td>--</td><td>7.805</td><td>6.141</td><td>2.979</td><td>5.672</td><td>110</td><td>RG: low freq</td><td>--</td><td>--</td><td>--</td></tr>\n",
       "<tr><td>HD_182694</td><td>G7IIIa</td><td>-0.01</td><td>0.771</td><td>LC:Q2 under</td><td>4</td><td>--</td><td>--</td><td>--</td><td>6.76</td><td>5.86</td><td>4.437</td><td>5.722</td><td>137</td><td>RG</td><td>Tim W</td><td>Yes</td><td>--</td></tr>\n",
       "<tr><td>V380_Cyg</td><td>B1.1III+B2.5/3V</td><td>1.25</td><td>0.226</td><td>LC:Q11 SC:Q7 9 10 12-17 under</td><td>4</td><td>--</td><td>--</td><td>--</td><td>5.615</td><td>5.675</td><td>5.712</td><td>5.771</td><td>122</td><td>Eclipsing_binary</td><td>--</td><td>--</td><td>--</td></tr>\n",
       "<tr><td>HD_186121</td><td>M2III</td><td>--</td><td>3.429</td><td>unobserved</td><td>4</td><td>--</td><td>--</td><td>--</td><td>7.735</td><td>6.198</td><td>2.561</td><td>5.773</td><td>44</td><td>RG: low freq</td><td>--</td><td>--</td><td>--</td></tr>\n",
       "<tr><td>...</td><td>...</td><td>...</td><td>...</td><td>...</td><td>...</td><td>...</td><td>...</td><td>...</td><td>...</td><td>...</td><td>...</td><td>...</td><td>...</td><td>...</td><td>...</td><td>...</td><td>...</td></tr>\n",
       "<tr><td>V554_Lyr</td><td>0</td><td>--</td><td>--</td><td>unobserved</td><td>2</td><td>9887</td><td>4.309</td><td>0.051</td><td>7.97</td><td>8.248</td><td>8.266</td><td>8.179</td><td>0</td><td>Missing - alpha2 Cvn</td><td>--</td><td>--</td><td>--</td></tr>\n",
       "<tr><td>BD+47_2825</td><td>K0</td><td>--</td><td>--</td><td>unobserved</td><td>4</td><td>--</td><td>--</td><td>--</td><td>9.75</td><td>8.558</td><td>6.503</td><td>8.251</td><td>162</td><td>Not sure - classical?</td><td>--</td><td>--</td><td>--</td></tr>\n",
       "<tr><td>BD+39_3882</td><td>F5</td><td>--</td><td>--</td><td>unobserved</td><td>4</td><td>6241</td><td>4.186</td><td>0.02</td><td>8.463</td><td>8.192</td><td>7.36</td><td>8.259</td><td>0</td><td>bad light curve</td><td>--</td><td>--</td><td>--</td></tr>\n",
       "<tr><td>BD+43_3064</td><td>K5</td><td>--</td><td>--</td><td>unobserved</td><td>3</td><td>--</td><td>--</td><td>--</td><td>10.18</td><td>8.692</td><td>6.205</td><td>8.284</td><td>0</td><td>RG</td><td>--</td><td>--</td><td>--</td></tr>\n",
       "<tr><td>BD+43_3068</td><td>G0</td><td>--</td><td>--</td><td>unobserved</td><td>4</td><td>5506</td><td>4.394</td><td>0.011</td><td>8.754</td><td>8.254</td><td>7.181</td><td>8.308</td><td>0</td><td>not good</td><td>--</td><td>--</td><td>--</td></tr>\n",
       "<tr><td>BD+43_3213</td><td>K5</td><td>--</td><td>--</td><td>unobserved</td><td>4</td><td>--</td><td>--</td><td>--</td><td>10.425</td><td>8.775</td><td>5.821</td><td>8.311</td><td>127</td><td>RG: low freq</td><td>--</td><td>--</td><td>--</td></tr>\n",
       "<tr><td>BD+42_3150</td><td>K0</td><td>--</td><td>--</td><td>unobserved</td><td>4</td><td>4716</td><td>2.329</td><td>0.063</td><td>9.111</td><td>8.257</td><td>6.743</td><td>8.35</td><td>261</td><td>not sure</td><td>--</td><td>--</td><td>--</td></tr>\n",
       "<tr><td>BD+43_3171</td><td>M0</td><td>--</td><td>--</td><td>unobserved</td><td>4</td><td>--</td><td>--</td><td>--</td><td>10.412</td><td>8.818</td><td>5.904</td><td>8.373</td><td>332</td><td>RG: very low freq?</td><td>--</td><td>--</td><td>--</td></tr>\n",
       "<tr><td>BD+48_2904</td><td>K0</td><td>--</td><td>--</td><td>unobserved</td><td>4</td><td>4529</td><td>2.014</td><td>0.083</td><td>9.364</td><td>8.42</td><td>6.692</td><td>8.487</td><td>0</td><td>nothing</td><td>--</td><td>--</td><td>--</td></tr>\n",
       "<tr><td>BD+47_2891</td><td>K0</td><td>--</td><td>--</td><td>unobserved</td><td>2</td><td>--</td><td>--</td><td>--</td><td>10.081</td><td>8.962</td><td>6.99</td><td>8.68</td><td>--</td><td>nothing</td><td>--</td><td>--</td><td>--</td></tr>\n",
       "</table>"
      ],
      "text/plain": [
       "<Table masked=True length=102>\n",
       "   Name         SpType      [Fe/H] ...  Collaborators   Interferometry? TRES?\n",
       "  str10         str15      float64 ...      str16             str3       str3\n",
       "---------- --------------- ------- ... ---------------- --------------- -----\n",
       " HD_185351        G9IIIbCN    0.16 ...    Hjorringgaard              --   Yes\n",
       " HD_186155        F5II-III     0.3 ...               --              --    --\n",
       " HD_175740           G8III    -0.1 ... Tim W, Guy, Cleo             Yes   Yes\n",
       " HD_184875             A2V      -- ...               --              --    --\n",
       "    14_Cyg           B9III    0.08 ...               --              --    --\n",
       " HD_189178             B5V      -- ...               --              --    --\n",
       " HD_187372           M1III      -- ...               --              --    --\n",
       " HD_182694          G7IIIa   -0.01 ...            Tim W             Yes    --\n",
       "  V380_Cyg B1.1III+B2.5/3V    1.25 ...               --              --    --\n",
       " HD_186121           M2III      -- ...               --              --    --\n",
       "       ...             ...     ... ...              ...             ...   ...\n",
       "  V554_Lyr               0      -- ...               --              --    --\n",
       "BD+47_2825              K0      -- ...               --              --    --\n",
       "BD+39_3882              F5      -- ...               --              --    --\n",
       "BD+43_3064              K5      -- ...               --              --    --\n",
       "BD+43_3068              G0      -- ...               --              --    --\n",
       "BD+43_3213              K5      -- ...               --              --    --\n",
       "BD+42_3150              K0      -- ...               --              --    --\n",
       "BD+43_3171              M0      -- ...               --              --    --\n",
       "BD+48_2904              K0      -- ...               --              --    --\n",
       "BD+47_2891              K0      -- ...               --              --    --"
      ]
     },
     "execution_count": 102,
     "metadata": {},
     "output_type": "execute_result"
    }
   ],
   "source": [
    "cat"
   ]
  },
  {
   "cell_type": "code",
   "execution_count": 103,
   "metadata": {},
   "outputs": [
    {
     "name": "stdout",
     "output_type": "stream",
     "text": [
      "Clump Candidates: HD 181069, HD 182354, HD 183124, HD 182692, and HD 180658\n"
     ]
    }
   ],
   "source": [
    "print 'Clump Candidates:',oxford_join([name.replace('_',' ') for name in cat[np.array(['clump' in thing for thing in list(cat['Notes'].data.data[:])])]['Name']])"
   ]
  },
  {
   "cell_type": "markdown",
   "metadata": {},
   "source": [
    "### Now to get SIMBAD queries"
   ]
  },
  {
   "cell_type": "code",
   "execution_count": 104,
   "metadata": {},
   "outputs": [],
   "source": [
    "from astroquery.simbad import Simbad\n",
    "from astropy import coordinates as coord\n",
    "from astropy import units as u\n"
   ]
  },
  {
   "cell_type": "code",
   "execution_count": 105,
   "metadata": {},
   "outputs": [],
   "source": [
    "Simbad.reset_votable_fields()\n",
    "Simbad.add_votable_fields('sptype')\n",
    "sim = Simbad.query_objects(cat['Name'])\n",
    "sim.write('smear_intermediate.csv',overwrite=True)\n",
    "sim = Table.read('smear_intermediate.csv')\n",
    "c = coord.SkyCoord(ra=sim['RA'], dec=sim['DEC'],unit=(u.hourangle, u.deg), frame='icrs')\n"
   ]
  },
  {
   "cell_type": "code",
   "execution_count": 106,
   "metadata": {},
   "outputs": [],
   "source": [
    "new = Table([Column([cc.ra.deg for cc in c],name='RA',unit='deg',description='RA'),Column([cc.dec.deg for cc in c],name='Dec',unit='deg',description='Dec')],masked=False)\n",
    "new.write('smear_simbad.csv')"
   ]
  },
  {
   "cell_type": "markdown",
   "metadata": {},
   "source": [
    "We then use the gaia tap service at http://gaia.ari.uni-heidelberg.de/tap.html for crossmatch \n",
    "using the command\n",
    "\n",
    "SELECT bj.source_id, sm.ra, sm.dec, sm.phot_g_mean_mag, bj.r_est, bj.r_lo, bj.r_hi\n",
    "FROM gaiadr2_complements.geometric_distance as bj \n",
    "JOIN TAP_UPLOAD.smear AS sm ON sm.source_id = bj.source_id"
   ]
  },
  {
   "cell_type": "code",
   "execution_count": 107,
   "metadata": {},
   "outputs": [],
   "source": [
    "dists = Table.read('../data/gaia_dists.csv')\n",
    "# V2083_Cyg doesn't have a parallax\n",
    "dists.insert_row(38,\n",
    "                 vals={'source_id':2128480311802353536,'ra':292.818076238,'dec':47.481042633,\n",
    "                       'phot_g_mean_mag':6.81,'r_est':np.nan,'r_lo':np.nan,'r_hi':np.nan})"
   ]
  },
  {
   "cell_type": "code",
   "execution_count": 108,
   "metadata": {},
   "outputs": [
    {
     "data": {
      "text/plain": [
       "[<matplotlib.lines.Line2D at 0x11875dc10>]"
      ]
     },
     "execution_count": 108,
     "metadata": {},
     "output_type": "execute_result"
    },
    {
     "data": {
      "image/png": "[encoded data removed]",
      "text/plain": [
       "<Figure size 432x288 with 1 Axes>"
      ]
     },
     "metadata": {},
     "output_type": "display_data"
    }
   ],
   "source": [
    "plt.plot(new['RA'])\n",
    "plt.plot(dists['ra'])\n",
    "# plt.xlim(35,45)"
   ]
  },
  {
   "cell_type": "code",
   "execution_count": 109,
   "metadata": {},
   "outputs": [
    {
     "data": {
      "text/plain": [
       "[<matplotlib.lines.Line2D at 0x1188f1210>]"
      ]
     },
     "execution_count": 109,
     "metadata": {},
     "output_type": "execute_result"
    },
    {
     "data": {
      "image/png": "[encoded data removed]",
      "text/plain": [
       "<Figure size 432x288 with 1 Axes>"
      ]
     },
     "metadata": {},
     "output_type": "display_data"
    }
   ],
   "source": [
    "plt.plot(cat['kepmag'],dists['phot_g_mean_mag'])"
   ]
  },
  {
   "cell_type": "code",
   "execution_count": 110,
   "metadata": {},
   "outputs": [
    {
     "data": {
      "text/html": [
       "&lt;Table masked=True length=2&gt;\n",
       "<table id=\"table4707531600\" class=\"table-striped table-bordered table-condensed\">\n",
       "<thead><tr><th>Name</th><th>SpType</th><th>[Fe/H]</th><th>theta</th><th>Observed</th><th>Seasons</th><th>Teff</th><th>Log_G</th><th>E(B-V)</th><th>g</th><th>r</th><th>J</th><th>kepmag</th><th>Edge_Dist</th><th>Notes</th><th>Collaborators</th><th>Interferometry?</th><th>TRES?</th></tr></thead>\n",
       "<thead><tr><th>str10</th><th>str15</th><th>float64</th><th>float64</th><th>str29</th><th>int64</th><th>int64</th><th>float64</th><th>float64</th><th>float64</th><th>float64</th><th>float64</th><th>float64</th><th>int64</th><th>str84</th><th>str16</th><th>str3</th><th>str3</th></tr></thead>\n",
       "<tr><td>V547_Lyr</td><td>M4IIIa</td><td>--</td><td>--</td><td>unobserved</td><td>4</td><td>--</td><td>--</td><td>--</td><td>8.109</td><td>6.611</td><td>2.258</td><td>6.199</td><td>48</td><td>RG: low freq</td><td>--</td><td>--</td><td>--</td></tr>\n",
       "<tr><td>V398_Lyr</td><td>M3</td><td>--</td><td>--</td><td>unobserved</td><td>4</td><td>--</td><td>--</td><td>--</td><td>8.877</td><td>7.421</td><td>1.869</td><td>7.024</td><td>49</td><td>RG</td><td>--</td><td>--</td><td>--</td></tr>\n",
       "</table>"
      ],
      "text/plain": [
       "<Table masked=True length=2>\n",
       "  Name   SpType  [Fe/H]  theta  ... Collaborators Interferometry? TRES?\n",
       " str10   str15  float64 float64 ...     str16           str3       str3\n",
       "-------- ------ ------- ------- ... ------------- --------------- -----\n",
       "V547_Lyr M4IIIa      --      -- ...            --              --    --\n",
       "V398_Lyr     M3      --      -- ...            --              --    --"
      ]
     },
     "execution_count": 110,
     "metadata": {},
     "output_type": "execute_result"
    }
   ],
   "source": [
    "cat[np.abs(dists['phot_g_mean_mag']-cat['kepmag'])>0.75]#.sort(np.abs(dists['phot_g_mean_mag']-cat['kepmag']))"
   ]
  },
  {
   "cell_type": "code",
   "execution_count": 111,
   "metadata": {},
   "outputs": [
    {
     "data": {
      "text/html": [
       "&lt;Table length=2&gt;\n",
       "<table id=\"table4700387216\" class=\"table-striped table-bordered table-condensed\">\n",
       "<thead><tr><th>source_id</th><th>ra</th><th>dec</th><th>phot_g_mean_mag</th><th>r_est</th><th>r_lo</th><th>r_hi</th></tr></thead>\n",
       "<thead><tr><th>int64</th><th>float64</th><th>float64</th><th>float64</th><th>float64</th><th>float64</th><th>float64</th></tr></thead>\n",
       "<tr><td>2103815448491466496</td><td>285.0794350340927</td><td>40.683934166877044</td><td>5.227579</td><td>288.920092314708</td><td>276.921626546759</td><td>301.985143696241</td></tr>\n",
       "<tr><td>2100382189073830528</td><td>287.05494859817054</td><td>39.154894446731085</td><td>5.4027195</td><td>494.665556977779</td><td>464.050015806101</td><td>529.522722362535</td></tr>\n",
       "</table>"
      ],
      "text/plain": [
       "<Table length=2>\n",
       "     source_id              ra         ...       r_lo             r_hi      \n",
       "       int64             float64       ...     float64          float64     \n",
       "------------------- ------------------ ... ---------------- ----------------\n",
       "2103815448491466496  285.0794350340927 ... 276.921626546759 301.985143696241\n",
       "2100382189073830528 287.05494859817054 ... 464.050015806101 529.522722362535"
      ]
     },
     "execution_count": 111,
     "metadata": {},
     "output_type": "execute_result"
    }
   ],
   "source": [
    "dists[np.abs(dists['phot_g_mean_mag']-cat['kepmag'])>0.75]#.sort(np.abs(dists['phot_g_mean_mag']-cat['kepmag']))"
   ]
  },
  {
   "cell_type": "code",
   "execution_count": 112,
   "metadata": {},
   "outputs": [],
   "source": [
    "# sim"
   ]
  },
  {
   "cell_type": "code",
   "execution_count": 113,
   "metadata": {},
   "outputs": [],
   "source": [
    "# newcat = cat.copy()\n",
    "brightkep = Table.read('../data/Bright_Kep_new.csv')\n",
    "newcat = join(cat,brightkep,keys='Name')\n",
    "newcat['SpType']=sim['SP_TYPE']\n",
    "for col in dists.columns:\n",
    "    newcat.add_column(dists[col])"
   ]
  },
  {
   "cell_type": "code",
   "execution_count": 114,
   "metadata": {},
   "outputs": [],
   "source": [
    "# for l, ccat in enumerate([cat[:52],cat[52:]]):\n",
    "\n",
    "#     newtab = Table([Column([str(obj).replace('_',' ') for obj in ccat['Name']],name='Object')])\n",
    "\n",
    "#     newkeys = ['SpType','kepmag', 'Observed', 'Seasons','TRES?']\n",
    "#     names = [r'Spectral Type',r'$Kp$', r'Observed',r'Seasons','Spectroscopy']\n",
    "#     units = [r'(SIMBAD)', r'(mag)','','','']\n",
    "\n",
    "#     for k, key in enumerate(newkeys):\n",
    "#         col = ccat[key]\n",
    "#         if 'bs' in key:\n",
    "#             test = Column([entry.replace('under','') if 'under' in entry else 'unobserved' for entry in col],name=names[k])\n",
    "#         elif key != 'TRES?':\n",
    "#             test = Column(col.data,name=names[k])\n",
    "#         if key == 'TRES?':\n",
    "#             test = Column(['TRES' if newtab['Object'][j].replace(' ','_') in merged['Object'] else '--' for j,entry in enumerate(col)], name=names[k])\n",
    "#         newtab.add_column(test)\n",
    "    \n",
    "#     latexdict = ascii.latex.latexdicts['AA'].copy()\n",
    "#     latexdict['tabletype']= 'table*'\n",
    "#     latexdict['units'] = dict(zip(names,units))\n",
    "#     if l == 0:\n",
    "#         caption = r'The full set of underobserved and unobserved stars for which new light curves have been produced in this smear catalogue. Some objects, such as HD 185351, were observed in long cadence in some quarters and short cadence in others, and this is noted accordingly.' \n",
    "#         caption = caption+r'\\label{all_stars}'\n",
    "#         newtab.write('../paper/all_stars.tex',format='latex',latexdict=latexdict,caption=caption+'\\label{all_stars}',overwrite=True)\n",
    "#         print 'Written %s' % '../paper/all_stars.tex'\n",
    "#     else:\n",
    "#         latexdict['preamble'] = '\\contcaption{The full set of underobserved and unobserved stars for which new light curves have been produced in this smear catalogue.  \\label{all_stars_cont}}'\n",
    "#         newtab.write('../paper/all_stars2.tex',format='latex',latexdict=latexdict,overwrite=True)\n",
    "#         print 'Written %s' % '../paper/all_stars2.tex'\n"
   ]
  },
  {
   "cell_type": "code",
   "execution_count": 116,
   "metadata": {},
   "outputs": [
    {
     "data": {
      "text/plain": [
       "['Name',\n",
       " 'SpType',\n",
       " '[Fe/H]',\n",
       " 'theta',\n",
       " 'Observed',\n",
       " 'Seasons',\n",
       " 'Teff',\n",
       " 'Log_G',\n",
       " 'E(B-V)',\n",
       " 'g',\n",
       " 'r',\n",
       " 'J',\n",
       " 'kepmag',\n",
       " 'Edge_Dist',\n",
       " 'Notes',\n",
       " 'Collaborators',\n",
       " 'Interferometry?',\n",
       " 'TRES?',\n",
       " 'Kepler_ID',\n",
       " 'source_id',\n",
       " 'ra',\n",
       " 'dec',\n",
       " 'phot_g_mean_mag',\n",
       " 'r_est',\n",
       " 'r_lo',\n",
       " 'r_hi']"
      ]
     },
     "execution_count": 116,
     "metadata": {},
     "output_type": "execute_result"
    }
   ],
   "source": [
    "newcat.keys()"
   ]
  },
  {
   "cell_type": "code",
   "execution_count": 117,
   "metadata": {},
   "outputs": [
    {
     "name": "stdout",
     "output_type": "stream",
     "text": [
      "Written ../paper/all_stars.tex\n",
      "Written ../paper/all_stars2.tex\n"
     ]
    }
   ],
   "source": [
    "for l, ccat in enumerate([newcat[:52],newcat[52:]]):\n",
    "\n",
    "    newtab = Table([Column([str(obj).replace('_',' ') for obj in ccat['Name']],name='Object')])\n",
    "\n",
    "    newkeys = ['Kepler_ID','SpType','kepmag', 'phot_g_mean_mag','r_est','source_id','Observed', 'TRES?',]\n",
    "    names = [r'KIC',r'Spectral Type',r'$Kp$',r'$G$',r'\\gaia Distance',r'\\gaia ID', r'Observed','Spectroscopy']\n",
    "    units = ['',r'(SIMBAD)', r'(mag)','(mag)','(pc)','','','']\n",
    "\n",
    "    for k, key in enumerate(newkeys):\n",
    "        col = ccat[key]\n",
    "        if 'bs' in key:\n",
    "            test = Column([entry.replace('under','') if 'under' in entry else 'unobserved' for entry in col],name=names[k])\n",
    "        elif 'ype' in key:\n",
    "            test = Column(['--' if np.ma.is_masked(entry) else entry for entry in col],name=names[k])\n",
    "        elif 'est' in key:\n",
    "            upcol = ccat['r_hi']\n",
    "            downcol = ccat['r_lo']\n",
    "            test = Column(['--' if 'nan' in str(col[j]) else '$%.1f^{+%.1f}_{-%.1f}$' % (col[j],upcol[j]-col[j],col[j]-downcol[j]) for j, x in enumerate(col)],name=names[k])\n",
    "        elif key != 'TRES?':\n",
    "            test = Column(col.data,name=names[k])\n",
    "        if key == 'TRES?':\n",
    "            test = Column(['TRES' if newtab['Object'][j].replace(' ','_') in merged['Object'] else '--' for j,entry in enumerate(col)], name=names[k])\n",
    "        newtab.add_column(test)\n",
    "    \n",
    "    latexdict = ascii.latex.latexdicts['AA'].copy()\n",
    "    latexdict['tabletype']= 'table*'\n",
    "    latexdict['units'] = dict(zip(names,units))\n",
    "    if l == 0:\n",
    "        caption = r'The full set of underobserved and unobserved stars for which new light curves have been produced in this smear catalogue. Calibrated \\gaia distances are from \\citep{gaiadists}. Some objects, such as HD~185351, were observed in long cadence in some quarters and short cadence in others, and this is noted accordingly. The eclipsing binary V2083~Cyg was detected by \\gaia, but a parallax could not be obtained in DR2, possibly due to binary motion.' \n",
    "        caption = caption+r'\\label{all_stars}'\n",
    "        newtab.write('../paper/all_stars.tex',format='latex',latexdict=latexdict,caption=caption+'\\label{all_stars}',overwrite=True)\n",
    "        print 'Written %s' % '../paper/all_stars.tex'\n",
    "    else:\n",
    "        latexdict['preamble'] = '\\contcaption{The full set of underobserved and unobserved stars for which new light curves have been produced in this smear catalogue. Calibrated \\gaia distances are from \\citep{gaiadists}. \\label{all_stars_cont}}'\n",
    "        newtab.write('../paper/all_stars2.tex',format='latex',latexdict=latexdict,overwrite=True)\n",
    "        print 'Written %s' % '../paper/all_stars2.tex'\n",
    "        \n",
    "\n",
    "newtab = Table([Column([str(obj).replace('_',' ') for obj in newcat['Name']],name='Object')])\n",
    "\n",
    "newkeys = ['SpType','kepmag', 'phot_g_mean_mag','r_est','source_id','Observed','TRES?',]\n",
    "names = [r'Spectral Type',r'$Kp$',r'$G$',r'\\gaia Distance',r'\\gaia ID', r'Observed','Spectroscopy']\n",
    "units = [r'(SIMBAD)', r'(mag)','(mag)','(pc)','','','']\n",
    "\n",
    "for k, key in enumerate(newkeys):\n",
    "    col = newcat[key]\n",
    "    if 'bs' in key:\n",
    "        test = Column([entry.replace('under','') if 'under' in entry else 'unobserved' for entry in col],name=names[k])\n",
    "    elif 'ype' in key:\n",
    "        test = Column(['--' if np.ma.is_masked(entry) else entry for entry in col],name=names[k])\n",
    "    elif 'est' in key:\n",
    "        upcol = newcat['r_hi']\n",
    "        downcol = newcat['r_lo']\n",
    "        test = Column(['--' if 'nan' in str(col[j]) else '$%.1f^{+%.1f}_{-%.1f}$' % (col[j],upcol[j]-col[j],col[j]-downcol[j]) for j, x in enumerate(col)],name=names[k])\n",
    "    elif key != 'TRES?':\n",
    "        test = Column(col.data,name=names[k])\n",
    "    if key == 'TRES?':\n",
    "        test = Column(['TRES' if newtab['Object'][j].replace(' ','_') in merged['Object'] else '--' for j,entry in enumerate(col)], name=names[k])\n",
    "    newtab.add_column(test)\n",
    "\n",
    "latexdict = ascii.latex.latexdicts['AA'].copy()\n",
    "latexdict['tabletype']= 'table*'\n",
    "latexdict['units'] = dict(zip(names,units))\n"
   ]
  },
  {
   "cell_type": "code",
   "execution_count": 55,
   "metadata": {},
   "outputs": [
    {
     "data": {
      "text/plain": [
       "True"
      ]
     },
     "execution_count": 55,
     "metadata": {},
     "output_type": "execute_result"
    }
   ],
   "source": [
    "np.ma.is_masked(newcat['SpType'][62])"
   ]
  },
  {
   "cell_type": "code",
   "execution_count": 77,
   "metadata": {},
   "outputs": [],
   "source": [
    "col = ccat['r_est']\n",
    "upcol = ccat['r_hi']\n",
    "downcol = ccat['r_lo']\n",
    "test = Column(['--' if 'nan' in str(col[j]) else '$%.2f^{+%.2f}_{-%.2f}$' % (col[j],upcol[j]-col[j],col[j]-downcol[j]) for j, x in enumerate(col)])\n"
   ]
  },
  {
   "cell_type": "code",
   "execution_count": 78,
   "metadata": {},
   "outputs": [
    {
     "data": {
      "text/html": [
       "&lt;Column dtype=&apos;str29&apos; length=50&gt;\n",
       "<table>\n",
       "<tr><td>$226.46^{+2.38}_{-2.33}$</td></tr>\n",
       "<tr><td>$175.45^{+2.60}_{-2.52}$</td></tr>\n",
       "<tr><td>$761.98^{+15.77}_{-15.15}$</td></tr>\n",
       "<tr><td>$472.04^{+5.38}_{-5.26}$</td></tr>\n",
       "<tr><td>$226.57^{+1.26}_{-1.25}$</td></tr>\n",
       "<tr><td>$406.09^{+4.85}_{-4.74}$</td></tr>\n",
       "<tr><td>$361.15^{+6.35}_{-6.14}$</td></tr>\n",
       "<tr><td>$629.92^{+11.39}_{-11.00}$</td></tr>\n",
       "<tr><td>$587.77^{+13.11}_{-12.56}$</td></tr>\n",
       "<tr><td>...</td></tr>\n",
       "<tr><td>$143.27^{+0.68}_{-0.68}$</td></tr>\n",
       "<tr><td>$641.03^{+20.30}_{-19.11}$</td></tr>\n",
       "<tr><td>$53.77^{+0.12}_{-0.12}$</td></tr>\n",
       "<tr><td>$948.77^{+25.78}_{-24.48}$</td></tr>\n",
       "<tr><td>$545.95^{+32.55}_{-29.13}$</td></tr>\n",
       "<tr><td>$751.48^{+17.22}_{-16.48}$</td></tr>\n",
       "<tr><td>$400.93^{+5.45}_{-5.31}$</td></tr>\n",
       "<tr><td>$262.76^{+1.66}_{-1.64}$</td></tr>\n",
       "</table>"
      ],
      "text/plain": [
       "<Column dtype='str29' length=50>\n",
       "  $226.46^{+2.38}_{-2.33}$\n",
       "  $175.45^{+2.60}_{-2.52}$\n",
       "$761.98^{+15.77}_{-15.15}$\n",
       "  $472.04^{+5.38}_{-5.26}$\n",
       "  $226.57^{+1.26}_{-1.25}$\n",
       "  $406.09^{+4.85}_{-4.74}$\n",
       "  $361.15^{+6.35}_{-6.14}$\n",
       "$629.92^{+11.39}_{-11.00}$\n",
       "$587.77^{+13.11}_{-12.56}$\n",
       "                       ...\n",
       "  $143.27^{+0.68}_{-0.68}$\n",
       "$641.03^{+20.30}_{-19.11}$\n",
       "   $53.77^{+0.12}_{-0.12}$\n",
       "$948.77^{+25.78}_{-24.48}$\n",
       "$545.95^{+32.55}_{-29.13}$\n",
       "$751.48^{+17.22}_{-16.48}$\n",
       "  $400.93^{+5.45}_{-5.31}$\n",
       "  $262.76^{+1.66}_{-1.64}$"
      ]
     },
     "execution_count": 78,
     "metadata": {},
     "output_type": "execute_result"
    }
   ],
   "source": [
    "test"
   ]
  },
  {
   "cell_type": "code",
   "execution_count": 79,
   "metadata": {},
   "outputs": [
    {
     "data": {
      "text/html": [
       "&lt;Table masked=True length=102&gt;\n",
       "<table id=\"table4851122384\" class=\"table-striped table-bordered table-condensed\">\n",
       "<thead><tr><th>Name</th><th>SpType</th><th>[Fe/H]</th><th>theta</th><th>Observed</th><th>Seasons</th><th>Teff</th><th>Log_G</th><th>E(B-V)</th><th>g</th><th>r</th><th>J</th><th>kepmag</th><th>Edge_Dist</th><th>Notes</th><th>Collaborators</th><th>Interferometry?</th><th>TRES?</th><th>source_id</th><th>ra</th><th>dec</th><th>phot_g_mean_mag</th><th>r_est</th><th>r_lo</th><th>r_hi</th></tr></thead>\n",
       "<thead><tr><th>str10</th><th>str16</th><th>float64</th><th>float64</th><th>str29</th><th>int64</th><th>int64</th><th>float64</th><th>float64</th><th>float64</th><th>float64</th><th>float64</th><th>float64</th><th>int64</th><th>str84</th><th>str16</th><th>str3</th><th>str3</th><th>int64</th><th>float64</th><th>float64</th><th>float64</th><th>float64</th><th>float64</th><th>float64</th></tr></thead>\n",
       "<tr><td>HD_185351</td><td>G8.5IIIbFe-0.5</td><td>0.16</td><td>1.156</td><td>LC:Q1-3 SC:Q16 under</td><td>4</td><td>--</td><td>--</td><td>--</td><td>6.091</td><td>5.176</td><td>3.654</td><td>5.034</td><td>59</td><td>RG: Retired A star</td><td>Hjorringgaard</td><td>--</td><td>Yes</td><td>2078403295235690112</td><td>294.1576613499853</td><td>44.69448231480843</td><td>4.881522</td><td>41.2315213779136</td><td>41.0921558133897</td><td>41.3718185719601</td></tr>\n",
       "<tr><td>HD_186155</td><td>F5II-III</td><td>0.3</td><td>0.57</td><td>LC:Q1 under</td><td>4</td><td>--</td><td>--</td><td>--</td><td>5.44</td><td>5.065</td><td>4.419</td><td>5.055</td><td>66</td><td>three sharp peaks</td><td>--</td><td>--</td><td>--</td><td>2079990268465009024</td><td>295.2096161867121</td><td>45.525456779018434</td><td>4.923168</td><td>50.6145097045851</td><td>50.1993792798511</td><td>51.0364389381494</td></tr>\n",
       "<tr><td>HD_175740</td><td>G8III</td><td>-0.1</td><td>1.035</td><td>unobserved</td><td>4</td><td>--</td><td>--</td><td>--</td><td>6.486</td><td>5.462</td><td>4.08</td><td>5.212</td><td>0</td><td>RG: suppressed l=1</td><td>Tim W, Guy, Cleo</td><td>Yes</td><td>Yes</td><td>2104485016711846656</td><td>283.71739473102826</td><td>41.602710757624294</td><td>5.152375</td><td>81.4820221791748</td><td>80.9011996865216</td><td>82.0710941761192</td></tr>\n",
       "<tr><td>HD_184875</td><td>A2V</td><td>--</td><td>0.349</td><td>unobserved</td><td>4</td><td>--</td><td>--</td><td>--</td><td>5.399</td><td>5.337</td><td>5.128</td><td>5.403</td><td>0</td><td>Classical Pulsator</td><td>--</td><td>--</td><td>--</td><td>2077737571001053312</td><td>293.6719373022101</td><td>42.41237709026624</td><td>5.2788925</td><td>172.612235076612</td><td>169.44660100199</td><td>175.896210554269</td></tr>\n",
       "<tr><td>14_Cyg</td><td>B9III</td><td>0.08</td><td>0.267</td><td>unobserved</td><td>4</td><td>--</td><td>--</td><td>--</td><td>5.334</td><td>5.394</td><td>5.365</td><td>5.49</td><td>0</td><td>contact binary, interesting ramp at low freq</td><td>--</td><td>--</td><td>--</td><td>2077959092540451456</td><td>294.86048629287325</td><td>42.818403728771564</td><td>5.3699827</td><td>194.251074278231</td><td>187.684456735487</td><td>201.285145272043</td></tr>\n",
       "<tr><td>HD_189178</td><td>B5V</td><td>--</td><td>0.236</td><td>unobserved</td><td>4</td><td>--</td><td>--</td><td>--</td><td>5.356</td><td>5.448</td><td>5.595</td><td>5.552</td><td>0</td><td>Classical Pulsator</td><td>--</td><td>--</td><td>--</td><td>2073537612700605696</td><td>299.3078202055931</td><td>40.36782658479405</td><td>5.41016</td><td>347.305675377642</td><td>335.171242466141</td><td>360.335028693868</td></tr>\n",
       "<tr><td>...</td><td>...</td><td>...</td><td>...</td><td>...</td><td>...</td><td>...</td><td>...</td><td>...</td><td>...</td><td>...</td><td>...</td><td>...</td><td>...</td><td>...</td><td>...</td><td>...</td><td>...</td><td>...</td><td>...</td><td>...</td><td>...</td><td>...</td><td>...</td><td>...</td></tr>\n",
       "<tr><td>BD+43_3064</td><td>K5</td><td>--</td><td>--</td><td>unobserved</td><td>3</td><td>--</td><td>--</td><td>--</td><td>10.18</td><td>8.692</td><td>6.205</td><td>8.284</td><td>0</td><td>RG</td><td>--</td><td>--</td><td>--</td><td>2117284053614333312</td><td>281.3657024307495</td><td>43.995236683395596</td><td>8.20331</td><td>641.029617229135</td><td>621.919910626924</td><td>661.328015894773</td></tr>\n",
       "<tr><td>BD+43_3068</td><td>G0</td><td>--</td><td>--</td><td>unobserved</td><td>4</td><td>5506</td><td>4.394</td><td>0.011</td><td>8.754</td><td>8.254</td><td>7.181</td><td>8.308</td><td>0</td><td>not good</td><td>--</td><td>--</td><td>--</td><td>2117267079903573504</td><td>281.57417508745425</td><td>43.81556598527454</td><td>8.267944</td><td>53.7738365747513</td><td>53.6508736699958</td><td>53.8973543593231</td></tr>\n",
       "<tr><td>BD+43_3213</td><td>K5</td><td>--</td><td>--</td><td>unobserved</td><td>4</td><td>--</td><td>--</td><td>--</td><td>10.425</td><td>8.775</td><td>5.821</td><td>8.311</td><td>127</td><td>RG: low freq</td><td>--</td><td>--</td><td>--</td><td>2102821524341578496</td><td>289.8924896223989</td><td>43.48010721400488</td><td>8.13925</td><td>948.76650655514</td><td>924.29038468176</td><td>974.549008379324</td></tr>\n",
       "<tr><td>BD+42_3150</td><td>K0</td><td>--</td><td>--</td><td>unobserved</td><td>4</td><td>4716</td><td>2.329</td><td>0.063</td><td>9.111</td><td>8.257</td><td>6.743</td><td>8.35</td><td>261</td><td>not sure</td><td>--</td><td>--</td><td>--</td><td>2116742544137540608</td><td>281.25257984212334</td><td>42.6436414279837</td><td>8.31532</td><td>545.954282342101</td><td>516.819773786676</td><td>578.502581535217</td></tr>\n",
       "<tr><td>BD+43_3171</td><td>M0</td><td>--</td><td>--</td><td>unobserved</td><td>4</td><td>--</td><td>--</td><td>--</td><td>10.412</td><td>8.818</td><td>5.904</td><td>8.373</td><td>332</td><td>RG: very low freq?</td><td>--</td><td>--</td><td>--</td><td>2105998150870718080</td><td>287.45698914447445</td><td>43.552258072724186</td><td>8.178079</td><td>751.476917005421</td><td>735.000815376891</td><td>768.694554141662</td></tr>\n",
       "<tr><td>BD+48_2904</td><td>K0</td><td>--</td><td>--</td><td>unobserved</td><td>4</td><td>4529</td><td>2.014</td><td>0.083</td><td>9.364</td><td>8.42</td><td>6.692</td><td>8.487</td><td>0</td><td>nothing</td><td>--</td><td>--</td><td>--</td><td>2129676443013218304</td><td>292.57235027073966</td><td>48.65657535394386</td><td>8.439092</td><td>400.926312809394</td><td>395.619176599306</td><td>406.375153211787</td></tr>\n",
       "<tr><td>BD+47_2891</td><td>K0</td><td>--</td><td>--</td><td>unobserved</td><td>2</td><td>--</td><td>--</td><td>--</td><td>10.081</td><td>8.962</td><td>6.99</td><td>8.68</td><td>--</td><td>nothing</td><td>--</td><td>--</td><td>--</td><td>2128576003674178688</td><td>294.87270940492334</td><td>47.44682890349002</td><td>8.6254015</td><td>262.761110578283</td><td>261.121186033665</td><td>264.421392272191</td></tr>\n",
       "</table>"
      ],
      "text/plain": [
       "<Table masked=True length=102>\n",
       "   Name        SpType      [Fe/H] ...       r_lo             r_hi      \n",
       "  str10        str16      float64 ...     float64          float64     \n",
       "---------- -------------- ------- ... ---------------- ----------------\n",
       " HD_185351 G8.5IIIbFe-0.5    0.16 ... 41.0921558133897 41.3718185719601\n",
       " HD_186155       F5II-III     0.3 ... 50.1993792798511 51.0364389381494\n",
       " HD_175740          G8III    -0.1 ... 80.9011996865216 82.0710941761192\n",
       " HD_184875            A2V      -- ...  169.44660100199 175.896210554269\n",
       "    14_Cyg          B9III    0.08 ... 187.684456735487 201.285145272043\n",
       " HD_189178            B5V      -- ... 335.171242466141 360.335028693868\n",
       "       ...            ...     ... ...              ...              ...\n",
       "BD+43_3064             K5      -- ... 621.919910626924 661.328015894773\n",
       "BD+43_3068             G0      -- ... 53.6508736699958 53.8973543593231\n",
       "BD+43_3213             K5      -- ...  924.29038468176 974.549008379324\n",
       "BD+42_3150             K0      -- ... 516.819773786676 578.502581535217\n",
       "BD+43_3171             M0      -- ... 735.000815376891 768.694554141662\n",
       "BD+48_2904             K0      -- ... 395.619176599306 406.375153211787\n",
       "BD+47_2891             K0      -- ... 261.121186033665 264.421392272191"
      ]
     },
     "execution_count": 79,
     "metadata": {},
     "output_type": "execute_result"
    }
   ],
   "source": [
    "newcat"
   ]
  },
  {
   "cell_type": "markdown",
   "metadata": {},
   "source": [
    "## Now make an HR diagram"
   ]
  },
  {
   "cell_type": "code",
   "execution_count": 119,
   "metadata": {},
   "outputs": [],
   "source": [
    "import sys\n",
    "reload(sys)\n",
    "sys.setdefaultencoding('utf8')\n",
    "\n",
    "gaia = Table.read('SingleSource[FILE=smear_simbad.csv].vot',format='votable')\n",
    "reload(sys)"
   ]
  },
  {
   "cell_type": "code",
   "execution_count": 120,
   "metadata": {},
   "outputs": [],
   "source": [
    "bp, rp, gg = gaia['phot_bp_mean_mag'], gaia['phot_rp_mean_mag'], gaia['phot_g_mean_mag']\n",
    "gaia['bp'], gaia['rp'],gaia['gg'] = bp, rp, gg"
   ]
  },
  {
   "cell_type": "code",
   "execution_count": 121,
   "metadata": {},
   "outputs": [],
   "source": [
    "def abs_mag(app_mag,dist):\n",
    "    return app_mag - 5.*(np.log10(dist) - 1.)"
   ]
  },
  {
   "cell_type": "code",
   "execution_count": 122,
   "metadata": {},
   "outputs": [
    {
     "data": {
      "text/plain": [
       "71.39072222295582"
      ]
     },
     "execution_count": 122,
     "metadata": {},
     "output_type": "execute_result"
    }
   ],
   "source": [
    "snrs = dists['r_est']/((dists['r_hi']-dists['r_lo'])/2.)\n",
    "np.nanmedian(snrs)"
   ]
  },
  {
   "cell_type": "code",
   "execution_count": 123,
   "metadata": {},
   "outputs": [],
   "source": [
    "abs_gg = abs_mag(gg,dists['r_est'])\n",
    "gaia['abs_gg'] = abs_gg\n",
    "abs_gg_hi = abs_mag(gg,dists['r_hi'])\n",
    "abs_gg_lo = abs_mag(gg,dists['r_lo'])"
   ]
  },
  {
   "cell_type": "code",
   "execution_count": 124,
   "metadata": {},
   "outputs": [],
   "source": [
    "errorbars = np.zeros((2,np.size(abs_gg)))\n",
    "errorbars[0,:] = abs_gg_hi-abs_gg\n",
    "errorbars[1,:] = abs_gg-abs_gg_lo"
   ]
  },
  {
   "cell_type": "code",
   "execution_count": 125,
   "metadata": {},
   "outputs": [
    {
     "data": {
      "text/plain": [
       "<matplotlib.legend.Legend at 0x118bbb990>"
      ]
     },
     "execution_count": 125,
     "metadata": {},
     "output_type": "execute_result"
    },
    {
     "data": {
      "image/png": "[encoded data removed]",
      "text/plain": [
       "<Figure size 432x288 with 1 Axes>"
      ]
     },
     "metadata": {},
     "output_type": "display_data"
    }
   ],
   "source": [
    "rc('text', usetex=False)\n",
    "m = newtab['Spectroscopy']!='--'\n",
    "plt.errorbar(bp[m]-rp[m],abs_gg[m],yerr=errorbars[:,m],fmt='.',color=colours[1],label=r'Smear Campaign (with spectra)',markersize=10)\n",
    "plt.errorbar(bp[~m]-rp[~m],abs_gg[~m],yerr=errorbars[:,~m],fmt='.',color=colours[2],label=r'Smear Campaign (no spectra)',markersize=10)\n",
    "plt.gca().invert_yaxis()\n",
    "plt.xlabel(r'$Bp-Rp$')\n",
    "plt.ylabel(r'Absolute $G$')\n",
    "plt.legend()"
   ]
  },
  {
   "cell_type": "markdown",
   "metadata": {},
   "source": [
    "Now we want to use Megan Bedell's Gaia-Kepler crossmatch to situate these in the broader colour-magnitude diagram"
   ]
  },
  {
   "cell_type": "code",
   "execution_count": 126,
   "metadata": {},
   "outputs": [],
   "source": [
    "kep_data = Table.read('../data/kepler_dr2_4arcsec.fits', format='fits')\n"
   ]
  },
  {
   "cell_type": "code",
   "execution_count": 127,
   "metadata": {},
   "outputs": [],
   "source": [
    "kep_data['abs_gmag'] = kep_data['phot_g_mean_mag'] - \\\n",
    "                            5.*(np.log10(kep_data['r_est']) - 1.)\n",
    "kep_data['abs_gmag'].unit = u.mag"
   ]
  },
  {
   "cell_type": "code",
   "execution_count": 131,
   "metadata": {},
   "outputs": [
    {
     "data": {
      "image/png": "[encoded data removed]",
      "text/plain": [
       "<Figure size 432x288 with 1 Axes>"
      ]
     },
     "metadata": {},
     "output_type": "display_data"
    }
   ],
   "source": [
    "filter = (kep_data['phot_g_mean_mag'] <= 18.) & (kep_data['parallax'] > 0.1)\n",
    "filter = (kep_data['phot_g_mean_mag'] <= 18.) & (kep_data['parallax_over_error'] > 25)\n",
    "\n",
    "plt.scatter(kep_data['bp_rp'][filter], kep_data['abs_gmag'][filter], alpha=0.15, color='k', s=1,label='All Kepler')\n",
    "m = newtab['Spectroscopy']!='--'\n",
    "plt.errorbar(bp[m]-rp[m],abs_gg[m],yerr=errorbars[:,m],fmt='.',color=colours[1],label=r'Smear + spectra',markersize=10)\n",
    "plt.errorbar(bp[~m]-rp[~m],abs_gg[~m],yerr=errorbars[:,~m],fmt='.',color=colours[2],label=r'Smear (no spectra)',markersize=10)\n",
    "\n",
    "plt.xlabel('Gaia $Bp-Rp$', fontsize=14)\n",
    "plt.ylabel(r'Absolute $G$ mag', fontsize=14)\n",
    "plt.ylim([13,-6])\n",
    "plt.xlim([-0.5,4.1])\n",
    "plt.legend()\n",
    "plt.title(r'Smear Stars in the Gaia Colour-Magnitude Diagram',y=1.01,fontsize=14)\n",
    "# plt.axvline(0.95) # separate giants and dwarfs \n",
    "plt.savefig('../paper/gaia_kepler_hr.png',bbox_inches='tight')"
   ]
  },
  {
   "cell_type": "code",
   "execution_count": 142,
   "metadata": {},
   "outputs": [
    {
     "data": {
      "text/plain": [
       "64"
      ]
     },
     "execution_count": 142,
     "metadata": {},
     "output_type": "execute_result"
    }
   ],
   "source": [
    "sum(bp-rp>0.95)"
   ]
  },
  {
   "cell_type": "markdown",
   "metadata": {},
   "source": [
    "## Now compare to Hypatia"
   ]
  },
  {
   "cell_type": "code",
   "execution_count": 124,
   "metadata": {},
   "outputs": [],
   "source": [
    "Simbad.reset_votable_fields()\n",
    "Simbad.add_votable_fields('ids')\n",
    "sim = Simbad.query_objects(cat['Name'])\n",
    "ids = sim['IDS']"
   ]
  },
  {
   "cell_type": "code",
   "execution_count": 80,
   "metadata": {},
   "outputs": [
    {
     "name": "stdout",
     "output_type": "stream",
     "text": [
      "96459\n",
      "96825\n",
      "92831\n",
      "96288\n",
      "96693\n",
      "98194\n",
      "97372\n",
      "95352\n",
      "97634\n",
      "96805\n",
      "98383\n",
      "97774\n",
      "94890\n",
      "96449\n",
      "98058\n",
      "92713\n",
      "93309\n",
      "92891\n",
      "94799\n",
      "94351\n",
      "93177\n",
      "95245\n",
      "92599\n",
      "97845\n",
      "95673\n",
      "97304\n",
      "95534\n",
      "98610\n",
      "94781\n",
      "93210\n",
      "92156\n",
      "94659\n",
      "95056\n",
      "92116\n",
      "96252\n",
      "93749\n",
      "94977\n",
      "92869\n",
      "96011\n",
      "98071\n",
      "95524\n",
      "93204\n",
      "94923\n",
      "96517\n",
      "96887\n",
      "92455\n",
      "93989\n",
      "94880\n",
      "94192\n",
      "95543\n",
      "94814\n",
      "94814\n",
      "96256\n",
      "95980\n",
      "95943\n",
      "93631\n",
      "95314\n",
      "93946\n",
      "95989\n",
      "97906\n",
      "93222\n",
      "93022\n",
      "93022\n",
      "97078\n",
      "94998\n",
      "94182\n",
      "97366\n",
      "97225\n",
      "95653\n",
      "94518\n",
      "96390\n",
      "96357\n",
      "93327\n",
      "97936\n",
      "93665\n",
      "95409\n",
      "95409\n",
      "93977\n",
      "94808\n",
      "94644\n",
      "95254\n",
      "95254\n",
      "94536\n",
      "96179\n",
      "95064\n",
      "94211\n",
      "94211\n",
      "94211\n",
      "94211\n",
      "94211\n",
      "95666\n",
      "92861\n",
      "94619\n",
      "94619\n",
      "94619\n",
      "94619\n",
      "94619\n",
      "94619\n",
      "91994\n",
      "91994\n",
      "95907\n",
      "96696\n"
     ]
    }
   ],
   "source": [
    "import re\n",
    "hips = []\n",
    "for eyedee in ids:\n",
    "    m = re.search('\\|HIP  (.+?)\\|',str(eyedee))\n",
    "    if m:\n",
    "        found = m.group(1)\n",
    "    print found\n",
    "    hips.append(found)"
   ]
  },
  {
   "cell_type": "code",
   "execution_count": 125,
   "metadata": {},
   "outputs": [
    {
     "data": {
      "text/html": [
       "&lt;MaskedColumn name=&apos;IDS&apos; dtype=&apos;object&apos; description=u&apos;List of all identifiers concatenated with pipe&apos; length=102&gt;\n",
       "<table>\n",
       "<tr><td>HD 185351|AG+44 1630|BD+44  3185|GC 27140|GCRV 12021|GEN# +1.00185351|GSC 03147-01921|HIC  96459|HIP  96459|HR  7468|IRAS 19350+4434|KIC 8566020|2MASS J19363801+4441418|PLX 4610|PLX 4610.00|PPM  58585|ROT  2826|1RXS J193637.6+444137|SAO  48649|SKY# 36595|SPOCS 3088|TD1 25124|TYC 3147-1921-1|UBV   16672|UBV M  23982|WEB 16922|Gaia DR2 2078403295235690112</td></tr>\n",
       "<tr><td>HD 186155|AG+45 1570|BD+45  2949|CCDM J19409+4531A|CSI+45  2949  1|FK5 3575|GC 27249|GCRV 12073|GEN# +1.00186155|GSC 03556-03772|HIC  96825|HIP  96825|HR  7495|IDS 19378+4517 A|IRAS 19392+4524|2MASS J19405016+4531295|NSV 12300|PLX 4627|PLX 4627.00|PPM  58681|ROT  2834|SAO  48718|SKY# 36771|TD1 25272|TYC 3556-3772-1|UBV   16750|UBV M  24056|uvby98 100186155|WDS J19408+4532A|WEB 16993|Gaia DR2 2079990268465009024|Gaia DR1 2079990264172082304</td></tr>\n",
       "<tr><td>HD 175740|ADS 11840 A|AG+41 1639|AKARI-IRC-V1 J1854521+413610|BD+41  3177|CCDM J18549+4136A|CSI+41  3177  1|GC 25972|GCRV 11379|GEN# +1.00175740|GSC 03127-02260|HIC  92831|HIP  92831|HR  7146|IDS 18517+4128 A|IRAS 18532+4132|IRC +40333|2MASS J18545217+4136098|PPM  57629|SAO  47909|SKY# 34837|TD1 23531|TYC 3127-2260-1|UBV M  23335|WDS J18549+4136A|WEB 16069|Gaia DR2 2104485016711846656</td></tr>\n",
       "<tr><td>HD 184875|AG+42 1724|BD+42  3386|CEL   4789|GC 27070|GCRV 11989|GEN# +1.00184875|GSC 03143-02179|HIC  96288|HIP  96288|HR  7444|IRAS 19330+4218|2MASS J19344127+4224448|PLX 4597|PLX 4597.00|PPM  58526|ROT  2819|SAO  48601|SKY# 36507|TD1 25018|TYC 3143-2179-1|UBV   16624|uvby98 100184875|WEB 16880|Gaia DR2 2077737571001053312|Gaia DR1 2077737571001053312</td></tr>\n",
       "<tr><td>*  14 Cyg|AG+42 1737|AKARI-IRC-V1 J1939264+424906|ALS 16589|BD+42  3413|CEL   4812|FK5 3572|GC 27213|GCRV 12052|GEN# +1.00185872|GSC 03143-02178|HD 185872|HIC  96693|HIP  96693|HR  7483|IRAS 19378+4242|2MASS J19392648+4249057|N30 4351|PLX 4622.1|PLX 4622.10|PPM  58649|Renson 51260|ROT  2831|SAO  48691|SKY# 36703|TD1 25222|TYC 3143-2178-1|UBV   16723|UBV M  24029|uvby98 100185872|WEB 16963|Gaia DR2 2077959092540451456|Gaia DR1 2077959088236964736</td></tr>\n",
       "<tr><td>HD 189178|AG+40 1935|BD+39  3968|CCDM J19572+4022A|FK5 3593|GC 27649|GCRV 12312|GEN# +1.00189178|GSC 03141-03693|HGAM    813|HIC  98194|HIP  98194|HR  7628|IDS 19538+4006 A|2MASS J19571387+4022041|N30 4414|PPM  59089|Renson 52400|ROT  2890|SAO  49011|SBC9 1191|SKY# 37388|TD1 25781|TYC 3141-3693-1|UBV   17030|UBV M  24342|uvby98 100189178|WDS J19572+4022A|WEB 17314|Gaia DR2 2073537612700605696</td></tr>\n",
       "<tr><td>HD 187372|AG+47 1472|BD+47  2916|DO 37751|GC 27407|GCRV 12165|GEN# +1.00187372|GSC 03561-02129|HIC  97372|HIP  97372|HR  7547|IRAS 19459+4746|IRC +50309|2MASS J19472682+4754273|NSV 24891|PPM  58843|RAFGL 2459|SAO  48842|SBC9 2955|SKY# 36993|TYC 3561-2129-1|UBV M  24185|WEB 17112|Gaia DR2 2086614688589352320</td></tr>\n",
       "<tr><td>HD 182694|AG+43 1652|BD+43  3229|GC 26794|GCRV 11855|GEN# +1.00182694|GSC 03146-01835|HIC  95352|HIP  95352|HR  7382|IRAS 19223+4317|2MASS J19235651+4323175|PPM  58264|SAO  48401|SKY# 36083|TD1 24648|TYC 3146-1835-1|UBV M  23757|WEB 16666|Gaia DR2 2126062687590513408|Gaia DR1 2126062687590513408</td></tr>\n",
       "<tr><td>V* V380 Cyg|AG+40 1912|ALS 10571|BD+40  3902|CEL   4859|FK5 3584|GC 27492|GCRV 12207|GEN# +1.00187879|GSC 03141-03692|HD 187879|HGAM    802|HIC  97634|HIP  97634|HR  7567|KIC 5385723|LS III +40    2|2MASS J19503733+4035591|MCW  763|N30 4391|PPM  58921|ROT  2860|SAO  48892|SBC7   769|SBC9 1180|SKY# 37121|TD1 25579|TYC 3141-3692-1|UBV M  24223|uvby98 100187879|WEB 17167|[B10]  5070|[GS83]  72|AAVSO 1947+40|Gaia DR2 2073743839843579776|Gaia DR1 2073743835537822336</td></tr>\n",
       "<tr><td>...</td></tr>\n",
       "<tr><td>BD+39  3882|AG+39 1990|CCDM J19426+4001B|GSC 03140-02922|IDS 19391+3948 B|2MASS J19423656+3959528|PPM  83402|SAO  68733|SKY# 36831|TYC 3140-2922-1|uvby98 003903882|Gaia DR2 2076372669064227200|Gaia DR1 2076372664758050176</td></tr>\n",
       "<tr><td>BD+43  3064|AG+43 1564|GSC 03130-01083|IRAS 18439+4356|2MASS J18452778+4359432|PPM  57463|SAO  47774|TYC 3130-1083-1|Gaia DR2 2117284053614333312|Gaia DR1 2117284049315538432</td></tr>\n",
       "<tr><td>BD+43  3068|AG+43 1566|GSC 03130-02191|2MASS J18461773+4348564|PPM  57477|SAO  47785|TYC 3130-2191-1|Gaia DR2 2117267079903573504|Gaia DR1 2117267075604798080</td></tr>\n",
       "<tr><td>BD+43  3213|AG+43 1643|GSC 03133-00123|IRAS 19179+4323|2MASS J19193421+4328488|PPM  58164|SAO  48334|TYC 3133-123-1|Gaia DR2 2102821524341578496|Gaia DR1 2102821520040742272</td></tr>\n",
       "<tr><td>CCDM J18450+4239AB|** HDS 2657|AG+42 1622|BD+42  3150|GSC 03126-00537|HIC  91994|HIP  91994|2MASS J18450062+4238375|PPM  57453|SAO  47763|TYC 3126-537-1|WDS J18450+4239AB|Gaia DR2 2116742544137540608|Gaia DR1 2116742539837981568</td></tr>\n",
       "<tr><td>BD+43  3171|AG+43 1625|GSC 03132-00837|IRAS 19082+4328|2MASS J19094967+4333081|PPM  57929|SAO  48139|TYC 3132-837-1|Gaia DR2 2105998150870718080|Gaia DR1 2105998146573851136</td></tr>\n",
       "<tr><td>BD+48  2904|AG+48 1512|AGKR 17419|GSC 03560-02162|HIC  95907|HIP  95907|2MASS J19301733+4839235|PPM  58416|SAO  48524|TYC 3560-2162-1|Gaia DR2 2129676443013218304|Gaia DR1 2129676438715223296</td></tr>\n",
       "<tr><td>BD+47  2891|AG+47 1460|AGKR 17558|GSC 03560-02976|HIC  96696|HIP  96696|2MASS J19392948+4726490|PPM  58652|SAO  48696|TYC 3560-2976-1|Gaia DR2 2128576003674178688|Gaia DR1 2128575999372245632</td></tr>\n",
       "</table>"
      ],
      "text/plain": [
       "<MaskedColumn name='IDS' dtype='object' description=u'List of all identifiers concatenated with pipe' length=102>\n",
       "                                                                                                              HD 185351|AG+44 1630|BD+44  3185|GC 27140|GCRV 12021|GEN# +1.00185351|GSC 03147-01921|HIC  96459|HIP  96459|HR  7468|IRAS 19350+4434|KIC 8566020|2MASS J19363801+4441418|PLX 4610|PLX 4610.00|PPM  58585|ROT  2826|1RXS J193637.6+444137|SAO  48649|SKY# 36595|SPOCS 3088|TD1 25124|TYC 3147-1921-1|UBV   16672|UBV M  23982|WEB 16922|Gaia DR2 2078403295235690112\n",
       "                      HD 186155|AG+45 1570|BD+45  2949|CCDM J19409+4531A|CSI+45  2949  1|FK5 3575|GC 27249|GCRV 12073|GEN# +1.00186155|GSC 03556-03772|HIC  96825|HIP  96825|HR  7495|IDS 19378+4517 A|IRAS 19392+4524|2MASS J19405016+4531295|NSV 12300|PLX 4627|PLX 4627.00|PPM  58681|ROT  2834|SAO  48718|SKY# 36771|TD1 25272|TYC 3556-3772-1|UBV   16750|UBV M  24056|uvby98 100186155|WDS J19408+4532A|WEB 16993|Gaia DR2 2079990268465009024|Gaia DR1 2079990264172082304\n",
       "                                                                              HD 175740|ADS 11840 A|AG+41 1639|AKARI-IRC-V1 J1854521+413610|BD+41  3177|CCDM J18549+4136A|CSI+41  3177  1|GC 25972|GCRV 11379|GEN# +1.00175740|GSC 03127-02260|HIC  92831|HIP  92831|HR  7146|IDS 18517+4128 A|IRAS 18532+4132|IRC +40333|2MASS J18545217+4136098|PPM  57629|SAO  47909|SKY# 34837|TD1 23531|TYC 3127-2260-1|UBV M  23335|WDS J18549+4136A|WEB 16069|Gaia DR2 2104485016711846656\n",
       "                                                                                                               HD 184875|AG+42 1724|BD+42  3386|CEL   4789|GC 27070|GCRV 11989|GEN# +1.00184875|GSC 03143-02179|HIC  96288|HIP  96288|HR  7444|IRAS 19330+4218|2MASS J19344127+4224448|PLX 4597|PLX 4597.00|PPM  58526|ROT  2819|SAO  48601|SKY# 36507|TD1 25018|TYC 3143-2179-1|UBV   16624|uvby98 100184875|WEB 16880|Gaia DR2 2077737571001053312|Gaia DR1 2077737571001053312\n",
       "                *  14 Cyg|AG+42 1737|AKARI-IRC-V1 J1939264+424906|ALS 16589|BD+42  3413|CEL   4812|FK5 3572|GC 27213|GCRV 12052|GEN# +1.00185872|GSC 03143-02178|HD 185872|HIC  96693|HIP  96693|HR  7483|IRAS 19378+4242|2MASS J19392648+4249057|N30 4351|PLX 4622.1|PLX 4622.10|PPM  58649|Renson 51260|ROT  2831|SAO  48691|SKY# 36703|TD1 25222|TYC 3143-2178-1|UBV   16723|UBV M  24029|uvby98 100185872|WEB 16963|Gaia DR2 2077959092540451456|Gaia DR1 2077959088236964736\n",
       "                                                                      HD 189178|AG+40 1935|BD+39  3968|CCDM J19572+4022A|FK5 3593|GC 27649|GCRV 12312|GEN# +1.00189178|GSC 03141-03693|HGAM    813|HIC  98194|HIP  98194|HR  7628|IDS 19538+4006 A|2MASS J19571387+4022041|N30 4414|PPM  59089|Renson 52400|ROT  2890|SAO  49011|SBC9 1191|SKY# 37388|TD1 25781|TYC 3141-3693-1|UBV   17030|UBV M  24342|uvby98 100189178|WDS J19572+4022A|WEB 17314|Gaia DR2 2073537612700605696\n",
       "                                                                                                                                                             HD 187372|AG+47 1472|BD+47  2916|DO 37751|GC 27407|GCRV 12165|GEN# +1.00187372|GSC 03561-02129|HIC  97372|HIP  97372|HR  7547|IRAS 19459+4746|IRC +50309|2MASS J19472682+4754273|NSV 24891|PPM  58843|RAFGL 2459|SAO  48842|SBC9 2955|SKY# 36993|TYC 3561-2129-1|UBV M  24185|WEB 17112|Gaia DR2 2086614688589352320\n",
       "                                                                                                                                                                         HD 182694|AG+43 1652|BD+43  3229|GC 26794|GCRV 11855|GEN# +1.00182694|GSC 03146-01835|HIC  95352|HIP  95352|HR  7382|IRAS 19223+4317|2MASS J19235651+4323175|PPM  58264|SAO  48401|SKY# 36083|TD1 24648|TYC 3146-1835-1|UBV M  23757|WEB 16666|Gaia DR2 2126062687590513408|Gaia DR1 2126062687590513408\n",
       "V* V380 Cyg|AG+40 1912|ALS 10571|BD+40  3902|CEL   4859|FK5 3584|GC 27492|GCRV 12207|GEN# +1.00187879|GSC 03141-03692|HD 187879|HGAM    802|HIC  97634|HIP  97634|HR  7567|KIC 5385723|LS III +40    2|2MASS J19503733+4035591|MCW  763|N30 4391|PPM  58921|ROT  2860|SAO  48892|SBC7   769|SBC9 1180|SKY# 37121|TD1 25579|TYC 3141-3692-1|UBV M  24223|uvby98 100187879|WEB 17167|[B10]  5070|[GS83]  72|AAVSO 1947+40|Gaia DR2 2073743839843579776|Gaia DR1 2073743835537822336\n",
       "                                                                                                                                                                                                                                                                                                                                                                                                                                                                              ...\n",
       "                                                                                                                                                                                                                                                    BD+39  3882|AG+39 1990|CCDM J19426+4001B|GSC 03140-02922|IDS 19391+3948 B|2MASS J19423656+3959528|PPM  83402|SAO  68733|SKY# 36831|TYC 3140-2922-1|uvby98 003903882|Gaia DR2 2076372669064227200|Gaia DR1 2076372664758050176\n",
       "                                                                                                                                                                                                                                                                                                   BD+43  3064|AG+43 1564|GSC 03130-01083|IRAS 18439+4356|2MASS J18452778+4359432|PPM  57463|SAO  47774|TYC 3130-1083-1|Gaia DR2 2117284053614333312|Gaia DR1 2117284049315538432\n",
       "                                                                                                                                                                                                                                                                                                                   BD+43  3068|AG+43 1566|GSC 03130-02191|2MASS J18461773+4348564|PPM  57477|SAO  47785|TYC 3130-2191-1|Gaia DR2 2117267079903573504|Gaia DR1 2117267075604798080\n",
       "                                                                                                                                                                                                                                                                                                    BD+43  3213|AG+43 1643|GSC 03133-00123|IRAS 19179+4323|2MASS J19193421+4328488|PPM  58164|SAO  48334|TYC 3133-123-1|Gaia DR2 2102821524341578496|Gaia DR1 2102821520040742272\n",
       "                                                                                                                                                                                                                                             CCDM J18450+4239AB|** HDS 2657|AG+42 1622|BD+42  3150|GSC 03126-00537|HIC  91994|HIP  91994|2MASS J18450062+4238375|PPM  57453|SAO  47763|TYC 3126-537-1|WDS J18450+4239AB|Gaia DR2 2116742544137540608|Gaia DR1 2116742539837981568\n",
       "                                                                                                                                                                                                                                                                                                    BD+43  3171|AG+43 1625|GSC 03132-00837|IRAS 19082+4328|2MASS J19094967+4333081|PPM  57929|SAO  48139|TYC 3132-837-1|Gaia DR2 2105998150870718080|Gaia DR1 2105998146573851136\n",
       "                                                                                                                                                                                                                                                                                  BD+48  2904|AG+48 1512|AGKR 17419|GSC 03560-02162|HIC  95907|HIP  95907|2MASS J19301733+4839235|PPM  58416|SAO  48524|TYC 3560-2162-1|Gaia DR2 2129676443013218304|Gaia DR1 2129676438715223296\n",
       "                                                                                                                                                                                                                                                                                  BD+47  2891|AG+47 1460|AGKR 17558|GSC 03560-02976|HIC  96696|HIP  96696|2MASS J19392948+4726490|PPM  58652|SAO  48696|TYC 3560-2976-1|Gaia DR2 2128576003674178688|Gaia DR1 2128575999372245632"
      ]
     },
     "execution_count": 125,
     "metadata": {},
     "output_type": "execute_result"
    }
   ],
   "source": []
  },
  {
   "cell_type": "code",
   "execution_count": 92,
   "metadata": {},
   "outputs": [],
   "source": [
    "hinkel = Table.read('../data/hypatia-03082018.csv')"
   ]
  },
  {
   "cell_type": "code",
   "execution_count": 93,
   "metadata": {},
   "outputs": [],
   "source": [
    "in_hyp = []\n",
    "for j, hip in enumerate(hips):\n",
    "    if int(hip) in hinkel['f_hip']:\n",
    "        print hip, sim['MAIN_ID'][j]\n",
    "        in_hyp.append((hip,sim['MAIN_ID'][j]))"
   ]
  },
  {
   "cell_type": "code",
   "execution_count": 94,
   "metadata": {},
   "outputs": [
    {
     "data": {
      "text/plain": [
       "[('96459', 'HD 185351'), ('92831', 'HD 175740')]"
      ]
     },
     "execution_count": 94,
     "metadata": {},
     "output_type": "execute_result"
    }
   ],
   "source": [
    "in_hyp"
   ]
  },
  {
   "cell_type": "code",
   "execution_count": 95,
   "metadata": {},
   "outputs": [
    {
     "data": {
      "text/html": [
       "&lt;Table masked=True length=102&gt;\n",
       "<table id=\"table4687328336\" class=\"table-striped table-bordered table-condensed\">\n",
       "<thead><tr><th>MAIN_ID</th><th>RA</th><th>DEC</th><th>RA_PREC</th><th>DEC_PREC</th><th>COO_ERR_MAJA</th><th>COO_ERR_MINA</th><th>COO_ERR_ANGLE</th><th>COO_QUAL</th><th>COO_WAVELENGTH</th><th>COO_BIBCODE</th><th>IDS</th></tr></thead>\n",
       "<thead><tr><th></th><th>&quot;h:m:s&quot;</th><th>&quot;d:m:s&quot;</th><th></th><th></th><th>mas</th><th>mas</th><th>deg</th><th></th><th></th><th></th><th></th></tr></thead>\n",
       "<thead><tr><th>object</th><th>unicode13</th><th>unicode13</th><th>int16</th><th>int16</th><th>float32</th><th>float32</th><th>int16</th><th>unicode1</th><th>unicode1</th><th>object</th><th>object</th></tr></thead>\n",
       "<tr><td>HD 185351</td><td>19 36 37.9763</td><td>+44 41 41.760</td><td>14</td><td>14</td><td>0.068</td><td>0.079</td><td>90</td><td>A</td><td>O</td><td>2018yCat.1345....0G</td><td>HD 185351|AG+44 1630|BD+44  3185|GC 27140|GCRV 12021|GEN# +1.00185351|GSC 03147-01921|HIC  96459|HIP  96459|HR  7468|IRAS 19350+4434|KIC 8566020|2MASS J19363801+4441418|PLX 4610|PLX 4610.00|PPM  58585|ROT  2826|1RXS J193637.6+444137|SAO  48649|SKY# 36595|SPOCS 3088|TD1 25124|TYC 3147-1921-1|UBV   16672|UBV M  23982|WEB 16922|Gaia DR2 2078403295235690112</td></tr>\n",
       "<tr><td>HD 186155</td><td>19 40 50.1834</td><td>+45 31 29.780</td><td>14</td><td>14</td><td>0.149</td><td>0.149</td><td>90</td><td>A</td><td>O</td><td>2018yCat.1345....0G</td><td>HD 186155|AG+45 1570|BD+45  2949|CCDM J19409+4531A|CSI+45  2949  1|FK5 3575|GC 27249|GCRV 12073|GEN# +1.00186155|GSC 03556-03772|HIC  96825|HIP  96825|HR  7495|IDS 19378+4517 A|IRAS 19392+4524|2MASS J19405016+4531295|NSV 12300|PLX 4627|PLX 4627.00|PPM  58681|ROT  2834|SAO  48718|SKY# 36771|TD1 25272|TYC 3556-3772-1|UBV   16750|UBV M  24056|uvby98 100186155|WDS J19408+4532A|WEB 16993|Gaia DR2 2079990268465009024|Gaia DR1 2079990264172082304</td></tr>\n",
       "<tr><td>HD 175740</td><td>18 54 52.1775</td><td>+41 36 09.793</td><td>14</td><td>14</td><td>0.075</td><td>0.082</td><td>90</td><td>A</td><td>O</td><td>2018yCat.1345....0G</td><td>HD 175740|ADS 11840 A|AG+41 1639|AKARI-IRC-V1 J1854521+413610|BD+41  3177|CCDM J18549+4136A|CSI+41  3177  1|GC 25972|GCRV 11379|GEN# +1.00175740|GSC 03127-02260|HIC  92831|HIP  92831|HR  7146|IDS 18517+4128 A|IRAS 18532+4132|IRC +40333|2MASS J18545217+4136098|PPM  57629|SAO  47909|SKY# 34837|TD1 23531|TYC 3127-2260-1|UBV M  23335|WDS J18549+4136A|WEB 16069|Gaia DR2 2104485016711846656</td></tr>\n",
       "<tr><td>HD 184875</td><td>19 34 41.2618</td><td>+42 24 45.039</td><td>14</td><td>14</td><td>0.088</td><td>0.102</td><td>90</td><td>A</td><td>O</td><td>2018yCat.1345....0G</td><td>HD 184875|AG+42 1724|BD+42  3386|CEL   4789|GC 27070|GCRV 11989|GEN# +1.00184875|GSC 03143-02179|HIC  96288|HIP  96288|HR  7444|IRAS 19330+4218|2MASS J19344127+4224448|PLX 4597|PLX 4597.00|PPM  58526|ROT  2819|SAO  48601|SKY# 36507|TD1 25018|TYC 3143-2179-1|UBV   16624|uvby98 100184875|WEB 16880|Gaia DR2 2077737571001053312|Gaia DR1 2077737571001053312</td></tr>\n",
       "<tr><td>*  14 Cyg</td><td>19 39 26.4883</td><td>+42 49 05.781</td><td>14</td><td>14</td><td>0.157</td><td>0.163</td><td>90</td><td>A</td><td>O</td><td>2018yCat.1345....0G</td><td>*  14 Cyg|AG+42 1737|AKARI-IRC-V1 J1939264+424906|ALS 16589|BD+42  3413|CEL   4812|FK5 3572|GC 27213|GCRV 12052|GEN# +1.00185872|GSC 03143-02178|HD 185872|HIC  96693|HIP  96693|HR  7483|IRAS 19378+4242|2MASS J19392648+4249057|N30 4351|PLX 4622.1|PLX 4622.10|PPM  58649|Renson 51260|ROT  2831|SAO  48691|SKY# 36703|TD1 25222|TYC 3143-2178-1|UBV   16723|UBV M  24029|uvby98 100185872|WEB 16963|Gaia DR2 2077959092540451456|Gaia DR1 2077959088236964736</td></tr>\n",
       "<tr><td>HD 189178</td><td>19 57 13.8676</td><td>+40 22 04.171</td><td>14</td><td>14</td><td>0.079</td><td>0.112</td><td>90</td><td>A</td><td>O</td><td>2018yCat.1345....0G</td><td>HD 189178|AG+40 1935|BD+39  3968|CCDM J19572+4022A|FK5 3593|GC 27649|GCRV 12312|GEN# +1.00189178|GSC 03141-03693|HGAM    813|HIC  98194|HIP  98194|HR  7628|IDS 19538+4006 A|2MASS J19571387+4022041|N30 4414|PPM  59089|Renson 52400|ROT  2890|SAO  49011|SBC9 1191|SKY# 37388|TD1 25781|TYC 3141-3693-1|UBV   17030|UBV M  24342|uvby98 100189178|WDS J19572+4022A|WEB 17314|Gaia DR2 2073537612700605696</td></tr>\n",
       "<tr><td>...</td><td>...</td><td>...</td><td>...</td><td>...</td><td>...</td><td>...</td><td>...</td><td>...</td><td>...</td><td>...</td><td>...</td></tr>\n",
       "<tr><td>BD+43  3068</td><td>18 46 17.7487</td><td>+43 48 56.392</td><td>14</td><td>14</td><td>0.035</td><td>0.038</td><td>90</td><td>A</td><td>O</td><td>2018yCat.1345....0G</td><td>BD+43  3068|AG+43 1566|GSC 03130-02191|2MASS J18461773+4348564|PPM  57477|SAO  47785|TYC 3130-2191-1|Gaia DR2 2117267079903573504|Gaia DR1 2117267075604798080</td></tr>\n",
       "<tr><td>BD+43  3213</td><td>19 19 34.2116</td><td>+43 28 48.611</td><td>14</td><td>14</td><td>0.023</td><td>0.029</td><td>90</td><td>A</td><td>O</td><td>2018yCat.1345....0G</td><td>BD+43  3213|AG+43 1643|GSC 03133-00123|IRAS 19179+4323|2MASS J19193421+4328488|PPM  58164|SAO  48334|TYC 3133-123-1|Gaia DR2 2102821524341578496|Gaia DR1 2102821520040742272</td></tr>\n",
       "<tr><td>BD+42  3150</td><td>18 45 00.6327</td><td>+42 38 37.373</td><td>14</td><td>14</td><td>0.083</td><td>0.103</td><td>90</td><td>A</td><td>O</td><td>2018yCat.1345....0G</td><td>CCDM J18450+4239AB|** HDS 2657|AG+42 1622|BD+42  3150|GSC 03126-00537|HIC  91994|HIP  91994|2MASS J18450062+4238375|PPM  57453|SAO  47763|TYC 3126-537-1|WDS J18450+4239AB|Gaia DR2 2116742544137540608|Gaia DR1 2116742539837981568</td></tr>\n",
       "<tr><td>BD+43  3171</td><td>19 09 49.6775</td><td>+43 33 08.363</td><td>14</td><td>14</td><td>0.025</td><td>0.029</td><td>90</td><td>A</td><td>O</td><td>2018yCat.1345....0G</td><td>BD+43  3171|AG+43 1625|GSC 03132-00837|IRAS 19082+4328|2MASS J19094967+4333081|PPM  57929|SAO  48139|TYC 3132-837-1|Gaia DR2 2105998150870718080|Gaia DR1 2105998146573851136</td></tr>\n",
       "<tr><td>BD+48  2904</td><td>19 30 17.3396</td><td>+48 39 23.558</td><td>14</td><td>14</td><td>0.026</td><td>0.037</td><td>90</td><td>A</td><td>O</td><td>2018yCat.1345....0G</td><td>BD+48  2904|AG+48 1512|AGKR 17419|GSC 03560-02162|HIC  95907|HIP  95907|2MASS J19301733+4839235|PPM  58416|SAO  48524|TYC 3560-2162-1|Gaia DR2 2129676443013218304|Gaia DR1 2129676438715223296</td></tr>\n",
       "<tr><td>BD+47  2891</td><td>19 39 29.4875</td><td>+47 26 48.834</td><td>14</td><td>14</td><td>0.020</td><td>0.024</td><td>90</td><td>A</td><td>O</td><td>2018yCat.1345....0G</td><td>BD+47  2891|AG+47 1460|AGKR 17558|GSC 03560-02976|HIC  96696|HIP  96696|2MASS J19392948+4726490|PPM  58652|SAO  48696|TYC 3560-2976-1|Gaia DR2 2128576003674178688|Gaia DR1 2128575999372245632</td></tr>\n",
       "</table>"
      ],
      "text/plain": [
       "<Table masked=True length=102>\n",
       "  MAIN_ID   ...\n",
       "            ...\n",
       "   object   ...\n",
       "----------- ...\n",
       "  HD 185351 ...\n",
       "  HD 186155 ...\n",
       "  HD 175740 ...\n",
       "  HD 184875 ...\n",
       "  *  14 Cyg ...\n",
       "  HD 189178 ...\n",
       "        ... ...\n",
       "BD+43  3068 ...\n",
       "BD+43  3213 ...\n",
       "BD+42  3150 ...\n",
       "BD+43  3171 ...\n",
       "BD+48  2904 ...\n",
       "BD+47  2891 ..."
      ]
     },
     "execution_count": 95,
     "metadata": {},
     "output_type": "execute_result"
    }
   ],
   "source": [
    "sim"
   ]
  },
  {
   "cell_type": "code",
   "execution_count": 96,
   "metadata": {},
   "outputs": [],
   "source": [
    "# import altair as alt\n",
    "import pandas as pd"
   ]
  },
  {
   "cell_type": "code",
   "execution_count": 97,
   "metadata": {},
   "outputs": [],
   "source": [
    "pdg = gaia.to_pandas()\n",
    "pdg.assign(bprp=pdg.bp - pdg.rp);\n",
    "pdg.insert(len(pdg.columns), 'bprp', pd.Series(pdg.bp-pdg.rp, index=pdg.index))\n",
    "pdg.insert(len(pdg.columns), 'name', pd.Series(sim['MAIN_ID'], index=pdg.index))\n",
    "spec = ['TRES' if sp==1 else 'No  Spectra' for sp in newtab['Spectroscopy']!='--']\n",
    "pdg.insert(len(pdg.columns), 'Spectroscopy', pd.Series(spec, index=pdg.index))\n",
    "pdg.insert(len(pdg.columns), 'SpType', pd.Series(newcat['SpType'], index=pdg.index))\n",
    "\n",
    "# pdkep = kep_data.to_pandas()"
   ]
  },
  {
   "cell_type": "code",
   "execution_count": 98,
   "metadata": {},
   "outputs": [],
   "source": [
    "# # background = alt.Chart(pdkep).mark_point().encode(\n",
    "# #     x='bp_rp',\n",
    "# #     y='abs_gmag').properties(alpha=0.2)\n",
    "# xrange = (-0.5,4.1)\n",
    "# yrange = (13,-6)\n",
    "\n",
    "# smear_chart = alt.Chart(pdg).mark_circle().encode(\n",
    "#     alt.X('bprp',scale=alt.Scale(domain=xrange,clamp=True)),\n",
    "#     alt.Y('abs_gg',scale=alt.Scale(domain=yrange,clamp=True)),\n",
    "#     tooltip='name',\n",
    "#     color='Spectroscopy',\n",
    "#     size=alt.value(42)\n",
    "# )\n"
   ]
  },
  {
   "cell_type": "code",
   "execution_count": 99,
   "metadata": {},
   "outputs": [],
   "source": [
    "# smear_chart"
   ]
  },
  {
   "cell_type": "code",
   "execution_count": 100,
   "metadata": {},
   "outputs": [],
   "source": [
    "# background = alt.Chart(pdkep).mark_rect().encode(\n",
    "#     alt.X('bp_rp',scale=alt.Scale(domain=xrange,clamp=True),bins=alt.Bin(maxbins=50)),\n",
    "#     alt.Y('abs_gmag',scale=alt.Scale(domain=yrange,clamp=True),bins=alt.Bin(maxbins=50))\n",
    "# )\n"
   ]
  },
  {
   "cell_type": "code",
   "execution_count": null,
   "metadata": {},
   "outputs": [],
   "source": []
  },
  {
   "cell_type": "markdown",
   "metadata": {},
   "source": [
    "### The *Kepler* dataset is too big for Altair. But not for Bokeh - let's copy from at demo.ipynb from github.com/megbedell/gaia-kepler.fun"
   ]
  },
  {
   "cell_type": "code",
   "execution_count": 128,
   "metadata": {},
   "outputs": [],
   "source": [
    "from bokeh.plotting import *\n",
    "from bokeh.io import output_notebook\n",
    "from bokeh.models import OpenURL, Circle, HoverTool, PanTool, BoxZoomTool, ResetTool, SaveTool, TapTool, WheelZoomTool\n",
    "from bokeh.util.hex import hexbin\n",
    "from bokeh.transform import linear_cmap, factor_cmap\n",
    "from bokeh.palettes import Spectral6\n",
    "reset_output()\n",
    "output_file(\"cmd_smear.html\")\n",
    "# output_notebook()"
   ]
  },
  {
   "cell_type": "code",
   "execution_count": 127,
   "metadata": {},
   "outputs": [],
   "source": [
    "filter1 = (kep_data['phot_g_mean_mag'] <= 18.) & (kep_data['parallax_over_error'] > 25)\n",
    "filter2 = (kep_data['planet?'] == 'conf') & filter1\n",
    "\n",
    "filter2 = filter1 \n",
    "\n",
    "thin = 4\n",
    "\n",
    "source = ColumnDataSource(\n",
    "    data=dict(\n",
    "        kepid=kep_data[filter2]['kepid'].data.data[::thin],\n",
    "        kepmag=kep_data[filter2]['kepmag'].data.data[::thin],\n",
    "        bp_rp=kep_data[filter2]['bp_rp'].data.data[::thin],\n",
    "        abs_gmag=kep_data[filter2]['abs_gmag'].data.data[::thin],\n",
    "        mass=kep_data[filter2]['mass'].data.data[::thin],\n",
    "        radius=kep_data[filter2]['radius'].data.data[::thin]\n",
    "        )\n",
    "    )\n",
    "\n",
    "source_smear = ColumnDataSource(\n",
    "    data=dict(\n",
    "        name=pdg.name.values,\n",
    "        abs_gmag=pdg.abs_gg.values,\n",
    "        bp_rp=pdg.bprp.values,\n",
    "        spec=pdg.Spectroscopy.values,\n",
    "        sptype=pdg.SpType.values\n",
    "        )\n",
    "    )\n"
   ]
  },
  {
   "cell_type": "code",
   "execution_count": null,
   "metadata": {},
   "outputs": [],
   "source": []
  },
  {
   "cell_type": "code",
   "execution_count": 129,
   "metadata": {},
   "outputs": [],
   "source": [
    "%%time\n",
    "xrange = (-0.5,4.1)\n",
    "yrange = (13,-6)\n",
    "\n",
    "fig = figure(tools=\"wheel_zoom,pan,reset\",x_range=xrange,\n",
    "        y_range=yrange,title=\"Smear Stars in the Gaia Colour-Magnitude Diagram\")   \n",
    "kep_render = fig.circle('bp_rp','abs_gmag', source=source, size=4, name='KICs',color='black',alpha=0.2)\n",
    "\n",
    "smear_render = fig.circle('bp_rp','abs_gmag', source=source_smear, size=10, name='Smear',\n",
    "                          color=factor_cmap('spec',palette=Spectral6,factors=pdg.Spectroscopy.values),legend='spec')\n",
    "hover = HoverTool(renderers=[smear_render],\n",
    "                    tooltips=[\n",
    "        (\"Name\", \"@name\"),\n",
    "        (\"Sp. Type\",\"@sptype\"),\n",
    "        (\"Abs. G mag\",\"@abs_gmag\"),\n",
    "        (\"Bp-Rp\",\"@bp_rp\")\n",
    "                            ]\n",
    "    )\n",
    "fig.add_tools(hover)\n",
    "fig.legend.orientation = \"vertical\"\n",
    "fig.legend.location = \"bottom_left\"\n",
    "\n",
    "fig.xaxis.axis_label = 'Gaia Bp-Rp (mag)'\n",
    "fig.yaxis.axis_label = 'Gaia Abs. G Mag'\n",
    "fig.xaxis.axis_label_text_font_size = '14pt'\n",
    "fig.xaxis.major_label_text_font_size = '12pt'\n",
    "fig.yaxis.axis_label_text_font_size = '14pt'   \n",
    "fig.yaxis.major_label_text_font_size = '12pt' \n",
    "# save(fig)\n",
    "show(fig)\n"
   ]
  },
  {
   "cell_type": "code",
   "execution_count": 104,
   "metadata": {},
   "outputs": [],
   "source": [
    "for j, star in enumerate(pdg.name.values):\n",
    "    print j, star, pdg.abs_gg.values[j]"
   ]
  },
  {
   "cell_type": "markdown",
   "metadata": {},
   "source": [
    "### Let's see if Hipparcos parallaxes differ from Gaia"
   ]
  },
  {
   "cell_type": "code",
   "execution_count": 62,
   "metadata": {},
   "outputs": [
    {
     "ename": "KeyError",
     "evalue": "'parallax'",
     "output_type": "error",
     "traceback": [
      "\u001b[0;31m---------------------------------------------------------------------------\u001b[0m",
      "\u001b[0;31mKeyError\u001b[0m                                  Traceback (most recent call last)",
      "\u001b[0;32m<ipython-input-62-8a84f792797b>\u001b[0m in \u001b[0;36m<module>\u001b[0;34m()\u001b[0m\n\u001b[1;32m      2\u001b[0m \u001b[0mSimbad\u001b[0m\u001b[0;34m.\u001b[0m\u001b[0madd_votable_fields\u001b[0m\u001b[0;34m(\u001b[0m\u001b[0;34m'parallax'\u001b[0m\u001b[0;34m)\u001b[0m\u001b[0;34m\u001b[0m\u001b[0m\n\u001b[1;32m      3\u001b[0m \u001b[0msim\u001b[0m \u001b[0;34m=\u001b[0m \u001b[0mSimbad\u001b[0m\u001b[0;34m.\u001b[0m\u001b[0mquery_objects\u001b[0m\u001b[0;34m(\u001b[0m\u001b[0mcat\u001b[0m\u001b[0;34m[\u001b[0m\u001b[0;34m'Name'\u001b[0m\u001b[0;34m]\u001b[0m\u001b[0;34m)\u001b[0m\u001b[0;34m\u001b[0m\u001b[0m\n\u001b[0;32m----> 4\u001b[0;31m \u001b[0mparallaxes\u001b[0m \u001b[0;34m=\u001b[0m \u001b[0msim\u001b[0m\u001b[0;34m[\u001b[0m\u001b[0;34m'parallax'\u001b[0m\u001b[0;34m]\u001b[0m\u001b[0;34m\u001b[0m\u001b[0m\n\u001b[0m",
      "\u001b[0;32m/anaconda2/lib/python2.7/site-packages/astropy/table/table.pyc\u001b[0m in \u001b[0;36m__getitem__\u001b[0;34m(self, item)\u001b[0m\n\u001b[1;32m   1220\u001b[0m     \u001b[0;32mdef\u001b[0m \u001b[0m__getitem__\u001b[0m\u001b[0;34m(\u001b[0m\u001b[0mself\u001b[0m\u001b[0;34m,\u001b[0m \u001b[0mitem\u001b[0m\u001b[0;34m)\u001b[0m\u001b[0;34m:\u001b[0m\u001b[0;34m\u001b[0m\u001b[0m\n\u001b[1;32m   1221\u001b[0m         \u001b[0;32mif\u001b[0m \u001b[0misinstance\u001b[0m\u001b[0;34m(\u001b[0m\u001b[0mitem\u001b[0m\u001b[0;34m,\u001b[0m \u001b[0msix\u001b[0m\u001b[0;34m.\u001b[0m\u001b[0mstring_types\u001b[0m\u001b[0;34m)\u001b[0m\u001b[0;34m:\u001b[0m\u001b[0;34m\u001b[0m\u001b[0m\n\u001b[0;32m-> 1222\u001b[0;31m             \u001b[0;32mreturn\u001b[0m \u001b[0mself\u001b[0m\u001b[0;34m.\u001b[0m\u001b[0mcolumns\u001b[0m\u001b[0;34m[\u001b[0m\u001b[0mitem\u001b[0m\u001b[0;34m]\u001b[0m\u001b[0;34m\u001b[0m\u001b[0m\n\u001b[0m\u001b[1;32m   1223\u001b[0m         \u001b[0;32melif\u001b[0m \u001b[0misinstance\u001b[0m\u001b[0;34m(\u001b[0m\u001b[0mitem\u001b[0m\u001b[0;34m,\u001b[0m \u001b[0;34m(\u001b[0m\u001b[0mint\u001b[0m\u001b[0;34m,\u001b[0m \u001b[0mnp\u001b[0m\u001b[0;34m.\u001b[0m\u001b[0minteger\u001b[0m\u001b[0;34m)\u001b[0m\u001b[0;34m)\u001b[0m\u001b[0;34m:\u001b[0m\u001b[0;34m\u001b[0m\u001b[0m\n\u001b[1;32m   1224\u001b[0m             \u001b[0;32mreturn\u001b[0m \u001b[0mself\u001b[0m\u001b[0;34m.\u001b[0m\u001b[0mRow\u001b[0m\u001b[0;34m(\u001b[0m\u001b[0mself\u001b[0m\u001b[0;34m,\u001b[0m \u001b[0mitem\u001b[0m\u001b[0;34m)\u001b[0m\u001b[0;34m\u001b[0m\u001b[0m\n",
      "\u001b[0;32m/anaconda2/lib/python2.7/site-packages/astropy/table/table.pyc\u001b[0m in \u001b[0;36m__getitem__\u001b[0;34m(self, item)\u001b[0m\n\u001b[1;32m    107\u001b[0m         \"\"\"\n\u001b[1;32m    108\u001b[0m         \u001b[0;32mif\u001b[0m \u001b[0misinstance\u001b[0m\u001b[0;34m(\u001b[0m\u001b[0mitem\u001b[0m\u001b[0;34m,\u001b[0m \u001b[0msix\u001b[0m\u001b[0;34m.\u001b[0m\u001b[0mstring_types\u001b[0m\u001b[0;34m)\u001b[0m\u001b[0;34m:\u001b[0m\u001b[0;34m\u001b[0m\u001b[0m\n\u001b[0;32m--> 109\u001b[0;31m             \u001b[0;32mreturn\u001b[0m \u001b[0mOrderedDict\u001b[0m\u001b[0;34m.\u001b[0m\u001b[0m__getitem__\u001b[0m\u001b[0;34m(\u001b[0m\u001b[0mself\u001b[0m\u001b[0;34m,\u001b[0m \u001b[0mitem\u001b[0m\u001b[0;34m)\u001b[0m\u001b[0;34m\u001b[0m\u001b[0m\n\u001b[0m\u001b[1;32m    110\u001b[0m         \u001b[0;32melif\u001b[0m \u001b[0misinstance\u001b[0m\u001b[0;34m(\u001b[0m\u001b[0mitem\u001b[0m\u001b[0;34m,\u001b[0m \u001b[0;34m(\u001b[0m\u001b[0mint\u001b[0m\u001b[0;34m,\u001b[0m \u001b[0mnp\u001b[0m\u001b[0;34m.\u001b[0m\u001b[0minteger\u001b[0m\u001b[0;34m)\u001b[0m\u001b[0;34m)\u001b[0m\u001b[0;34m:\u001b[0m\u001b[0;34m\u001b[0m\u001b[0m\n\u001b[1;32m    111\u001b[0m             \u001b[0;32mreturn\u001b[0m \u001b[0mself\u001b[0m\u001b[0;34m.\u001b[0m\u001b[0mvalues\u001b[0m\u001b[0;34m(\u001b[0m\u001b[0;34m)\u001b[0m\u001b[0;34m[\u001b[0m\u001b[0mitem\u001b[0m\u001b[0;34m]\u001b[0m\u001b[0;34m\u001b[0m\u001b[0m\n",
      "\u001b[0;31mKeyError\u001b[0m: 'parallax'"
     ]
    }
   ],
   "source": [
    "Simbad.reset_votable_fields()\n",
    "Simbad.add_votable_fields('parallax')\n",
    "sim = Simbad.query_objects(cat['Name'])\n",
    "hip_par = sim['PLX_VALUE']\n",
    "hip_"
   ]
  },
  {
   "cell_type": "code",
   "execution_count": 67,
   "metadata": {},
   "outputs": [],
   "source": [
    "from astroquery.esasky import ESASky\n",
    "esasky = ESASky()\n"
   ]
  },
  {
   "cell_type": "code",
   "execution_count": 100,
   "metadata": {},
   "outputs": [
    {
     "name": "stdout",
     "output_type": "stream",
     "text": [
      "0 96459\n",
      "1 96825\n",
      "2 92831\n",
      "3 96288\n",
      "4 96693\n",
      "5 98194\n",
      "6 97372\n",
      "7 95352\n",
      "8 97634\n",
      "9 96805\n",
      "10 98383\n",
      "11 97774\n",
      "12 94890\n",
      "13 96449\n",
      "14 98058\n",
      "15 92713\n",
      "16 93309\n",
      "17 92891\n",
      "18 94799\n",
      "19 94351\n",
      "20 93177\n",
      "21 95245\n",
      "22 92599\n",
      "23 97845\n",
      "24 95673\n",
      "25 97304\n",
      "26 95534\n",
      "27 98610\n",
      "28 94781\n",
      "29 93210\n",
      "30 92156\n",
      "31 94659\n",
      "32 95056\n",
      "33 92116\n",
      "34 96252\n",
      "35 93749\n",
      "36 94977\n",
      "37 92869\n",
      "38 96011\n",
      "39 98071\n",
      "40 95524\n",
      "41 93204\n",
      "42 94923\n",
      "43 96517\n",
      "44 96887\n",
      "45 92455\n",
      "46 93989\n",
      "47 94880\n",
      "48 94192\n",
      "49 95543\n",
      "50 94814\n",
      "51 94814\n",
      "52 96256\n",
      "53 95980\n",
      "54 95943\n",
      "55 93631\n",
      "56 95314\n",
      "57 93946\n",
      "58 95989\n",
      "59 97906\n",
      "60 93222\n",
      "61 93022\n",
      "62 93022\n",
      "63 97078\n",
      "64 94998\n",
      "65 94182\n",
      "66 97366\n",
      "67 97225\n",
      "68 95653\n",
      "69 94518\n",
      "70 96390\n",
      "71 96357\n",
      "72 93327\n",
      "73 97936\n",
      "74 93665\n",
      "75 95409\n",
      "76 95409\n",
      "77 93977\n",
      "78 94808\n",
      "79 94644\n",
      "80 95254\n",
      "81 95254\n",
      "82 94536\n",
      "83 96179\n",
      "84 95064\n",
      "85 94211\n",
      "86 94211\n",
      "87 94211\n",
      "88 94211\n",
      "89 94211\n",
      "90 95666\n",
      "91 92861\n",
      "92 94619\n",
      "93 94619\n",
      "94 94619\n",
      "95 94619\n",
      "96 94619\n",
      "97 94619\n",
      "98 91994\n",
      "99 91994\n",
      "100 95907\n",
      "101 96696\n"
     ]
    }
   ],
   "source": [
    "hippar = []\n",
    "for j, hip in enumerate(hips):\n",
    "    print j, hip\n",
    "    dummy = esasky.query_object_catalogs('HIP'+str(hip),catalogs='HIPPARCOS-2')[0]\n",
    "    hippar.append(dummy['plx'].data.data[0])"
   ]
  },
  {
   "cell_type": "code",
   "execution_count": 102,
   "metadata": {},
   "outputs": [],
   "source": [
    "parallaxes_hip = np.array(hippar)"
   ]
  },
  {
   "cell_type": "code",
   "execution_count": 123,
   "metadata": {},
   "outputs": [
    {
     "data": {
      "image/png": "[encoded data removed]",
      "text/plain": [
       "<Figure size 864x648 with 1 Axes>"
      ]
     },
     "metadata": {},
     "output_type": "display_data"
    }
   ],
   "source": [
    "plt.plot(gaia['phot_g_mean_mag'],gaia['parallax']/parallaxes_hip,'.',markersize=12,label='Gaia/Hipparcos')\n",
    "plt.axhline(1.,color=colours[1],label='1')\n",
    "plt.legend()\n",
    "plt.xlabel(r'Gaia $G$ mag')\n",
    "plt.ylabel('Parallax Ratio')\n",
    "plt.title('Comparison of Gaia and Hipparcos Parallaxes',y=1.01)\n",
    "plt.savefig('gaiavship.png')"
   ]
  },
  {
   "cell_type": "code",
   "execution_count": 113,
   "metadata": {},
   "outputs": [
    {
     "data": {
      "text/plain": [
       "[<matplotlib.lines.Line2D at 0x124522890>]"
      ]
     },
     "execution_count": 113,
     "metadata": {},
     "output_type": "execute_result"
    },
    {
     "data": {
      "image/png": "[encoded data removed]",
      "text/plain": [
       "<Figure size 864x648 with 1 Axes>"
      ]
     },
     "metadata": {},
     "output_type": "display_data"
    }
   ],
   "source": [
    "plt.plot(gaia['parallax'],parallaxes_hip,'.')\n",
    "plt.plot(gaia['parallax'],gaia['parallax'],'-')"
   ]
  },
  {
   "cell_type": "code",
   "execution_count": 117,
   "metadata": {},
   "outputs": [
    {
     "data": {
      "text/plain": [
       "<matplotlib.lines.Line2D at 0x122de0c10>"
      ]
     },
     "execution_count": 117,
     "metadata": {},
     "output_type": "execute_result"
    },
    {
     "data": {
      "image/png": "[encoded data removed]",
      "text/plain": [
       "<Figure size 864x648 with 1 Axes>"
      ]
     },
     "metadata": {},
     "output_type": "display_data"
    }
   ],
   "source": [
    "plt.hist(gaia['parallax']/parallaxes_hip,bins=20);\n",
    "plt.axvline(1,color=colours[2])"
   ]
  },
  {
   "cell_type": "markdown",
   "metadata": {},
   "source": [
    "### Now let's check everything against the Bright_Kep overall bright kepler catalogue"
   ]
  },
  {
   "cell_type": "code",
   "execution_count": 64,
   "metadata": {},
   "outputs": [],
   "source": [
    "# import sys\n",
    "# reload(sys)\n",
    "# sys.setdefaultencoding('utf8')\n",
    "\n",
    "brightkep = Table.read('../data/Bright_Kep_new.csv')\n",
    "# reload(sys)\n"
   ]
  },
  {
   "cell_type": "code",
   "execution_count": 65,
   "metadata": {},
   "outputs": [],
   "source": [
    "brightkep.sort('Name')"
   ]
  },
  {
   "cell_type": "code",
   "execution_count": 67,
   "metadata": {},
   "outputs": [
    {
     "data": {
      "text/html": [
       "&lt;Table masked=True length=102&gt;\n",
       "<table id=\"table4669821328\" class=\"table-striped table-bordered table-condensed\">\n",
       "<thead><tr><th>Name</th><th>SpType</th><th>[Fe/H]</th><th>theta</th><th>Observed</th><th>Seasons</th><th>Teff</th><th>Log_G</th><th>E(B-V)</th><th>g</th><th>r</th><th>J</th><th>kepmag</th><th>Edge_Dist</th><th>Notes</th><th>Collaborators</th><th>Interferometry?</th><th>TRES?</th><th>Kepler_ID</th></tr></thead>\n",
       "<thead><tr><th>str10</th><th>str15</th><th>float64</th><th>float64</th><th>str29</th><th>int64</th><th>int64</th><th>float64</th><th>float64</th><th>float64</th><th>float64</th><th>float64</th><th>float64</th><th>int64</th><th>str84</th><th>str16</th><th>str3</th><th>str3</th><th>int64</th></tr></thead>\n",
       "<tr><td>14_Cyg</td><td>B9III</td><td>0.08</td><td>0.267</td><td>unobserved</td><td>4</td><td>--</td><td>--</td><td>--</td><td>5.334</td><td>5.394</td><td>5.365</td><td>5.49</td><td>0</td><td>contact binary, interesting ramp at low freq</td><td>--</td><td>--</td><td>--</td><td>7292420</td></tr>\n",
       "<tr><td>BD+36_3564</td><td>K5</td><td>--</td><td>--</td><td>unobserved</td><td>4</td><td>--</td><td>--</td><td>--</td><td>9.944</td><td>8.516</td><td>6.134</td><td>8.128</td><td>141</td><td>RG</td><td>--</td><td>--</td><td>--</td><td>1575741</td></tr>\n",
       "<tr><td>BD+39_3577</td><td>G5</td><td>--</td><td>--</td><td>unobserved</td><td>4</td><td>4870</td><td>2.513</td><td>0.057</td><td>8.819</td><td>8.062</td><td>6.636</td><td>8.131</td><td>217</td><td>RG</td><td>--</td><td>--</td><td>--</td><td>4989821</td></tr>\n",
       "<tr><td>BD+39_3882</td><td>F5</td><td>--</td><td>--</td><td>unobserved</td><td>4</td><td>6241</td><td>4.186</td><td>0.02</td><td>8.463</td><td>8.192</td><td>7.36</td><td>8.259</td><td>0</td><td>bad light curve</td><td>--</td><td>--</td><td>--</td><td>4850372</td></tr>\n",
       "<tr><td>BD+42_3150</td><td>K0</td><td>--</td><td>--</td><td>unobserved</td><td>4</td><td>4716</td><td>2.329</td><td>0.063</td><td>9.111</td><td>8.257</td><td>6.743</td><td>8.35</td><td>261</td><td>not sure</td><td>--</td><td>--</td><td>--</td><td>7091342</td></tr>\n",
       "<tr><td>BD+42_3367</td><td>M0</td><td>--</td><td>--</td><td>unobserved</td><td>4</td><td>--</td><td>--</td><td>--</td><td>9.468</td><td>7.756</td><td>4.983</td><td>7.271</td><td>269</td><td>RG: low freq</td><td>--</td><td>--</td><td>--</td><td>7447756</td></tr>\n",
       "<tr><td>BD+42_3393</td><td>K5</td><td>--</td><td>--</td><td>unobserved</td><td>4</td><td>--</td><td>--</td><td>--</td><td>9.86</td><td>8.149</td><td>5.362</td><td>7.664</td><td>139</td><td>RG: low freq</td><td>--</td><td>--</td><td>--</td><td>6870455</td></tr>\n",
       "<tr><td>BD+43_3064</td><td>K5</td><td>--</td><td>--</td><td>unobserved</td><td>3</td><td>--</td><td>--</td><td>--</td><td>10.18</td><td>8.692</td><td>6.205</td><td>8.284</td><td>0</td><td>RG</td><td>--</td><td>--</td><td>--</td><td>8075287</td></tr>\n",
       "<tr><td>BD+43_3068</td><td>G0</td><td>--</td><td>--</td><td>unobserved</td><td>4</td><td>5506</td><td>4.394</td><td>0.011</td><td>8.754</td><td>8.254</td><td>7.181</td><td>8.308</td><td>0</td><td>not good</td><td>--</td><td>--</td><td>--</td><td>8006792</td></tr>\n",
       "<tr><td>BD+43_3171</td><td>M0</td><td>--</td><td>--</td><td>unobserved</td><td>4</td><td>--</td><td>--</td><td>--</td><td>10.412</td><td>8.818</td><td>5.904</td><td>8.373</td><td>332</td><td>RG: very low freq?</td><td>--</td><td>--</td><td>--</td><td>7810954</td></tr>\n",
       "<tr><td>...</td><td>...</td><td>...</td><td>...</td><td>...</td><td>...</td><td>...</td><td>...</td><td>...</td><td>...</td><td>...</td><td>...</td><td>...</td><td>...</td><td>...</td><td>...</td><td>...</td><td>...</td><td>...</td></tr>\n",
       "<tr><td>HD_226754</td><td>K2</td><td>--</td><td>--</td><td>unobserved</td><td>2</td><td>--</td><td>--</td><td>--</td><td>9.729</td><td>8.238</td><td>5.627</td><td>7.829</td><td>--</td><td>RG: poor quality</td><td>--</td><td>--</td><td>--</td><td>6234579</td></tr>\n",
       "<tr><td>V2079_Cyg</td><td>B8V</td><td>--</td><td>--</td><td>unobserved, alpha2 Cvn</td><td>4</td><td>--</td><td>--</td><td>--</td><td>6.921</td><td>7.059</td><td>7.331</td><td>7.174</td><td>93</td><td>Classical Pulsator</td><td>--</td><td>--</td><td>--</td><td>8818020</td></tr>\n",
       "<tr><td>V2083_Cyg</td><td>A3</td><td>--</td><td>--</td><td>unobserved EB</td><td>4</td><td>--</td><td>--</td><td>--</td><td>7.143</td><td>6.884</td><td>6.317</td><td>6.902</td><td>0</td><td>EB</td><td>--</td><td>--</td><td>--</td><td>10342012</td></tr>\n",
       "<tr><td>V380_Cyg</td><td>B1.1III+B2.5/3V</td><td>1.25</td><td>0.226</td><td>LC:Q11 SC:Q7 9 10 12-17 under</td><td>4</td><td>--</td><td>--</td><td>--</td><td>5.615</td><td>5.675</td><td>5.712</td><td>5.771</td><td>122</td><td>Eclipsing_binary</td><td>--</td><td>--</td><td>--</td><td>5385723</td></tr>\n",
       "<tr><td>V398_Lyr</td><td>M3</td><td>--</td><td>--</td><td>unobserved</td><td>4</td><td>--</td><td>--</td><td>--</td><td>8.877</td><td>7.421</td><td>1.869</td><td>7.024</td><td>49</td><td>RG</td><td>--</td><td>--</td><td>--</td><td>4042516</td></tr>\n",
       "<tr><td>V543_Lyr</td><td>B3V</td><td>-0.05</td><td>--</td><td>unobserved bCep</td><td>4</td><td>--</td><td>--</td><td>--</td><td>6.037</td><td>6.182</td><td>6.477</td><td>6.299</td><td>0</td><td>Classical Pulsator</td><td>--</td><td>--</td><td>--</td><td>5429169</td></tr>\n",
       "<tr><td>V546_Lyr</td><td>M-</td><td>--</td><td>--</td><td>unobserved</td><td>4</td><td>--</td><td>--</td><td>--</td><td>9.457</td><td>7.838</td><td>4.077</td><td>7.385</td><td>82</td><td>RG: low freq</td><td>--</td><td>--</td><td>--</td><td>6267345</td></tr>\n",
       "<tr><td>V547_Lyr</td><td>M4IIIa</td><td>--</td><td>--</td><td>unobserved</td><td>4</td><td>--</td><td>--</td><td>--</td><td>8.109</td><td>6.611</td><td>2.258</td><td>6.199</td><td>48</td><td>RG: low freq</td><td>--</td><td>--</td><td>--</td><td>5429948</td></tr>\n",
       "<tr><td>V554_Lyr</td><td>0</td><td>--</td><td>--</td><td>unobserved</td><td>2</td><td>9887</td><td>4.309</td><td>0.051</td><td>7.97</td><td>8.248</td><td>8.266</td><td>8.179</td><td>0</td><td>Missing - alpha2 Cvn</td><td>--</td><td>--</td><td>--</td><td>5001462</td></tr>\n",
       "<tr><td>V819_Cyg</td><td>B0.5IIIn</td><td>--</td><td>--</td><td>LC:Q14 16 17 under</td><td>4</td><td>--</td><td>--</td><td>--</td><td>6.15</td><td>6.27</td><td>6.481</td><td>6.381</td><td>178</td><td>sharp peaks</td><td>--</td><td>--</td><td>--</td><td>10618721</td></tr>\n",
       "</table>"
      ],
      "text/plain": [
       "<Table masked=True length=102>\n",
       "   Name         SpType      [Fe/H]  theta  ... Interferometry? TRES? Kepler_ID\n",
       "  str10         str15      float64 float64 ...       str3       str3   int64  \n",
       "---------- --------------- ------- ------- ... --------------- ----- ---------\n",
       "    14_Cyg           B9III    0.08   0.267 ...              --    --   7292420\n",
       "BD+36_3564              K5      --      -- ...              --    --   1575741\n",
       "BD+39_3577              G5      --      -- ...              --    --   4989821\n",
       "BD+39_3882              F5      --      -- ...              --    --   4850372\n",
       "BD+42_3150              K0      --      -- ...              --    --   7091342\n",
       "BD+42_3367              M0      --      -- ...              --    --   7447756\n",
       "BD+42_3393              K5      --      -- ...              --    --   6870455\n",
       "BD+43_3064              K5      --      -- ...              --    --   8075287\n",
       "BD+43_3068              G0      --      -- ...              --    --   8006792\n",
       "BD+43_3171              M0      --      -- ...              --    --   7810954\n",
       "       ...             ...     ...     ... ...             ...   ...       ...\n",
       " HD_226754              K2      --      -- ...              --    --   6234579\n",
       " V2079_Cyg             B8V      --      -- ...              --    --   8818020\n",
       " V2083_Cyg              A3      --      -- ...              --    --  10342012\n",
       "  V380_Cyg B1.1III+B2.5/3V    1.25   0.226 ...              --    --   5385723\n",
       "  V398_Lyr              M3      --      -- ...              --    --   4042516\n",
       "  V543_Lyr             B3V   -0.05      -- ...              --    --   5429169\n",
       "  V546_Lyr              M-      --      -- ...              --    --   6267345\n",
       "  V547_Lyr          M4IIIa      --      -- ...              --    --   5429948\n",
       "  V554_Lyr               0      --      -- ...              --    --   5001462\n",
       "  V819_Cyg        B0.5IIIn      --      -- ...              --    --  10618721"
      ]
     },
     "execution_count": 67,
     "metadata": {},
     "output_type": "execute_result"
    }
   ],
   "source": [
    "test = join(cat,brightkep,keys='Name')\n",
    "test.sort('Name')\n",
    "test"
   ]
  },
  {
   "cell_type": "code",
   "execution_count": 42,
   "metadata": {},
   "outputs": [
    {
     "data": {
      "text/html": [
       "&lt;Table masked=True length=102&gt;\n",
       "<table id=\"table4618870608\" class=\"table-striped table-bordered table-condensed\">\n",
       "<thead><tr><th>Name</th><th>SpType</th><th>[Fe/H]</th><th>theta</th><th>Observed</th><th>Seasons</th><th>Teff</th><th>Log_G</th><th>E(B-V)</th><th>g</th><th>r</th><th>J</th><th>kepmag</th><th>Edge_Dist</th><th>Notes</th><th>Collaborators</th><th>Interferometry?</th><th>TRES?</th></tr></thead>\n",
       "<thead><tr><th>str10</th><th>str15</th><th>float64</th><th>float64</th><th>str29</th><th>int64</th><th>int64</th><th>float64</th><th>float64</th><th>float64</th><th>float64</th><th>float64</th><th>float64</th><th>int64</th><th>str84</th><th>str16</th><th>str3</th><th>str3</th></tr></thead>\n",
       "<tr><td>HD_185351</td><td>G9IIIbCN</td><td>0.16</td><td>1.156</td><td>LC:Q1-3 SC:Q16 under</td><td>4</td><td>--</td><td>--</td><td>--</td><td>6.091</td><td>5.176</td><td>3.654</td><td>5.034</td><td>59</td><td>RG: Retired A star</td><td>Hjorringgaard</td><td>--</td><td>Yes</td></tr>\n",
       "<tr><td>HD_186155</td><td>F5II-III</td><td>0.3</td><td>0.57</td><td>LC:Q1 under</td><td>4</td><td>--</td><td>--</td><td>--</td><td>5.44</td><td>5.065</td><td>4.419</td><td>5.055</td><td>66</td><td>three sharp peaks</td><td>--</td><td>--</td><td>--</td></tr>\n",
       "<tr><td>HD_175740</td><td>G8III</td><td>-0.1</td><td>1.035</td><td>unobserved</td><td>4</td><td>--</td><td>--</td><td>--</td><td>6.486</td><td>5.462</td><td>4.08</td><td>5.212</td><td>0</td><td>RG: suppressed l=1</td><td>Tim W, Guy, Cleo</td><td>Yes</td><td>Yes</td></tr>\n",
       "<tr><td>HD_184875</td><td>A2V</td><td>--</td><td>0.349</td><td>unobserved</td><td>4</td><td>--</td><td>--</td><td>--</td><td>5.399</td><td>5.337</td><td>5.128</td><td>5.403</td><td>0</td><td>Classical Pulsator</td><td>--</td><td>--</td><td>--</td></tr>\n",
       "<tr><td>14_Cyg</td><td>B9III</td><td>0.08</td><td>0.267</td><td>unobserved</td><td>4</td><td>--</td><td>--</td><td>--</td><td>5.334</td><td>5.394</td><td>5.365</td><td>5.49</td><td>0</td><td>contact binary, interesting ramp at low freq</td><td>--</td><td>--</td><td>--</td></tr>\n",
       "<tr><td>HD_189178</td><td>B5V</td><td>--</td><td>0.236</td><td>unobserved</td><td>4</td><td>--</td><td>--</td><td>--</td><td>5.356</td><td>5.448</td><td>5.595</td><td>5.552</td><td>0</td><td>Classical Pulsator</td><td>--</td><td>--</td><td>--</td></tr>\n",
       "<tr><td>HD_187372</td><td>M1III</td><td>--</td><td>2.693</td><td>unobserved</td><td>4</td><td>--</td><td>--</td><td>--</td><td>7.805</td><td>6.141</td><td>2.979</td><td>5.672</td><td>110</td><td>RG: low freq</td><td>--</td><td>--</td><td>--</td></tr>\n",
       "<tr><td>HD_182694</td><td>G7IIIa</td><td>-0.01</td><td>0.771</td><td>LC:Q2 under</td><td>4</td><td>--</td><td>--</td><td>--</td><td>6.76</td><td>5.86</td><td>4.437</td><td>5.722</td><td>137</td><td>RG</td><td>Tim W</td><td>Yes</td><td>--</td></tr>\n",
       "<tr><td>V380_Cyg</td><td>B1.1III+B2.5/3V</td><td>1.25</td><td>0.226</td><td>LC:Q11 SC:Q7 9 10 12-17 under</td><td>4</td><td>--</td><td>--</td><td>--</td><td>5.615</td><td>5.675</td><td>5.712</td><td>5.771</td><td>122</td><td>Eclipsing_binary</td><td>--</td><td>--</td><td>--</td></tr>\n",
       "<tr><td>HD_186121</td><td>M2III</td><td>--</td><td>3.429</td><td>unobserved</td><td>4</td><td>--</td><td>--</td><td>--</td><td>7.735</td><td>6.198</td><td>2.561</td><td>5.773</td><td>44</td><td>RG: low freq</td><td>--</td><td>--</td><td>--</td></tr>\n",
       "<tr><td>...</td><td>...</td><td>...</td><td>...</td><td>...</td><td>...</td><td>...</td><td>...</td><td>...</td><td>...</td><td>...</td><td>...</td><td>...</td><td>...</td><td>...</td><td>...</td><td>...</td><td>...</td></tr>\n",
       "<tr><td>V554_Lyr</td><td>0</td><td>--</td><td>--</td><td>unobserved</td><td>2</td><td>9887</td><td>4.309</td><td>0.051</td><td>7.97</td><td>8.248</td><td>8.266</td><td>8.179</td><td>0</td><td>Missing - alpha2 Cvn</td><td>--</td><td>--</td><td>--</td></tr>\n",
       "<tr><td>BD+47_2825</td><td>K0</td><td>--</td><td>--</td><td>unobserved</td><td>4</td><td>--</td><td>--</td><td>--</td><td>9.75</td><td>8.558</td><td>6.503</td><td>8.251</td><td>162</td><td>Not sure - classical?</td><td>--</td><td>--</td><td>--</td></tr>\n",
       "<tr><td>BD+39_3882</td><td>F5</td><td>--</td><td>--</td><td>unobserved</td><td>4</td><td>6241</td><td>4.186</td><td>0.02</td><td>8.463</td><td>8.192</td><td>7.36</td><td>8.259</td><td>0</td><td>bad light curve</td><td>--</td><td>--</td><td>--</td></tr>\n",
       "<tr><td>BD+43_3064</td><td>K5</td><td>--</td><td>--</td><td>unobserved</td><td>3</td><td>--</td><td>--</td><td>--</td><td>10.18</td><td>8.692</td><td>6.205</td><td>8.284</td><td>0</td><td>RG</td><td>--</td><td>--</td><td>--</td></tr>\n",
       "<tr><td>BD+43_3068</td><td>G0</td><td>--</td><td>--</td><td>unobserved</td><td>4</td><td>5506</td><td>4.394</td><td>0.011</td><td>8.754</td><td>8.254</td><td>7.181</td><td>8.308</td><td>0</td><td>not good</td><td>--</td><td>--</td><td>--</td></tr>\n",
       "<tr><td>BD+43_3213</td><td>K5</td><td>--</td><td>--</td><td>unobserved</td><td>4</td><td>--</td><td>--</td><td>--</td><td>10.425</td><td>8.775</td><td>5.821</td><td>8.311</td><td>127</td><td>RG: low freq</td><td>--</td><td>--</td><td>--</td></tr>\n",
       "<tr><td>BD+42_3150</td><td>K0</td><td>--</td><td>--</td><td>unobserved</td><td>4</td><td>4716</td><td>2.329</td><td>0.063</td><td>9.111</td><td>8.257</td><td>6.743</td><td>8.35</td><td>261</td><td>not sure</td><td>--</td><td>--</td><td>--</td></tr>\n",
       "<tr><td>BD+43_3171</td><td>M0</td><td>--</td><td>--</td><td>unobserved</td><td>4</td><td>--</td><td>--</td><td>--</td><td>10.412</td><td>8.818</td><td>5.904</td><td>8.373</td><td>332</td><td>RG: very low freq?</td><td>--</td><td>--</td><td>--</td></tr>\n",
       "<tr><td>BD+48_2904</td><td>K0</td><td>--</td><td>--</td><td>unobserved</td><td>4</td><td>4529</td><td>2.014</td><td>0.083</td><td>9.364</td><td>8.42</td><td>6.692</td><td>8.487</td><td>0</td><td>nothing</td><td>--</td><td>--</td><td>--</td></tr>\n",
       "<tr><td>BD+47_2891</td><td>K0</td><td>--</td><td>--</td><td>unobserved</td><td>2</td><td>--</td><td>--</td><td>--</td><td>10.081</td><td>8.962</td><td>6.99</td><td>8.68</td><td>--</td><td>nothing</td><td>--</td><td>--</td><td>--</td></tr>\n",
       "</table>"
      ],
      "text/plain": [
       "<Table masked=True length=102>\n",
       "   Name         SpType      [Fe/H] ...  Collaborators   Interferometry? TRES?\n",
       "  str10         str15      float64 ...      str16             str3       str3\n",
       "---------- --------------- ------- ... ---------------- --------------- -----\n",
       " HD_185351        G9IIIbCN    0.16 ...    Hjorringgaard              --   Yes\n",
       " HD_186155        F5II-III     0.3 ...               --              --    --\n",
       " HD_175740           G8III    -0.1 ... Tim W, Guy, Cleo             Yes   Yes\n",
       " HD_184875             A2V      -- ...               --              --    --\n",
       "    14_Cyg           B9III    0.08 ...               --              --    --\n",
       " HD_189178             B5V      -- ...               --              --    --\n",
       " HD_187372           M1III      -- ...               --              --    --\n",
       " HD_182694          G7IIIa   -0.01 ...            Tim W             Yes    --\n",
       "  V380_Cyg B1.1III+B2.5/3V    1.25 ...               --              --    --\n",
       " HD_186121           M2III      -- ...               --              --    --\n",
       "       ...             ...     ... ...              ...             ...   ...\n",
       "  V554_Lyr               0      -- ...               --              --    --\n",
       "BD+47_2825              K0      -- ...               --              --    --\n",
       "BD+39_3882              F5      -- ...               --              --    --\n",
       "BD+43_3064              K5      -- ...               --              --    --\n",
       "BD+43_3068              G0      -- ...               --              --    --\n",
       "BD+43_3213              K5      -- ...               --              --    --\n",
       "BD+42_3150              K0      -- ...               --              --    --\n",
       "BD+43_3171              M0      -- ...               --              --    --\n",
       "BD+48_2904              K0      -- ...               --              --    --\n",
       "BD+47_2891              K0      -- ...               --              --    --"
      ]
     },
     "execution_count": 42,
     "metadata": {},
     "output_type": "execute_result"
    }
   ],
   "source": [
    "cat"
   ]
  },
  {
   "cell_type": "code",
   "execution_count": 31,
   "metadata": {},
   "outputs": [],
   "source": [
    "pdcat, pdbr = cat.to_pandas(), brightkep.to_pandas()"
   ]
  },
  {
   "cell_type": "code",
   "execution_count": 35,
   "metadata": {},
   "outputs": [
    {
     "ename": "ValueError",
     "evalue": "You are trying to merge on object and int64 columns. If you wish to proceed you should use pd.concat",
     "output_type": "error",
     "traceback": [
      "\u001b[0;31m---------------------------------------------------------------------------\u001b[0m",
      "\u001b[0;31mValueError\u001b[0m                                Traceback (most recent call last)",
      "\u001b[0;32m<ipython-input-35-dfb133759ced>\u001b[0m in \u001b[0;36m<module>\u001b[0;34m()\u001b[0m\n\u001b[0;32m----> 1\u001b[0;31m \u001b[0mpdcat\u001b[0m\u001b[0;34m.\u001b[0m\u001b[0mjoin\u001b[0m\u001b[0;34m(\u001b[0m\u001b[0mpdbr\u001b[0m\u001b[0;34m,\u001b[0m\u001b[0mon\u001b[0m\u001b[0;34m=\u001b[0m\u001b[0;34m'Name'\u001b[0m\u001b[0;34m)\u001b[0m\u001b[0;34m\u001b[0m\u001b[0m\n\u001b[0m",
      "\u001b[0;32m/anaconda2/lib/python2.7/site-packages/pandas/core/frame.pyc\u001b[0m in \u001b[0;36mjoin\u001b[0;34m(self, other, on, how, lsuffix, rsuffix, sort)\u001b[0m\n\u001b[1;32m   6324\u001b[0m         \u001b[0;31m# For SparseDataFrame's benefit\u001b[0m\u001b[0;34m\u001b[0m\u001b[0;34m\u001b[0m\u001b[0m\n\u001b[1;32m   6325\u001b[0m         return self._join_compat(other, on=on, how=how, lsuffix=lsuffix,\n\u001b[0;32m-> 6326\u001b[0;31m                                  rsuffix=rsuffix, sort=sort)\n\u001b[0m\u001b[1;32m   6327\u001b[0m \u001b[0;34m\u001b[0m\u001b[0m\n\u001b[1;32m   6328\u001b[0m     def _join_compat(self, other, on=None, how='left', lsuffix='', rsuffix='',\n",
      "\u001b[0;32m/anaconda2/lib/python2.7/site-packages/pandas/core/frame.pyc\u001b[0m in \u001b[0;36m_join_compat\u001b[0;34m(self, other, on, how, lsuffix, rsuffix, sort)\u001b[0m\n\u001b[1;32m   6339\u001b[0m             return merge(self, other, left_on=on, how=how,\n\u001b[1;32m   6340\u001b[0m                          \u001b[0mleft_index\u001b[0m\u001b[0;34m=\u001b[0m\u001b[0mon\u001b[0m \u001b[0;32mis\u001b[0m \u001b[0mNone\u001b[0m\u001b[0;34m,\u001b[0m \u001b[0mright_index\u001b[0m\u001b[0;34m=\u001b[0m\u001b[0mTrue\u001b[0m\u001b[0;34m,\u001b[0m\u001b[0;34m\u001b[0m\u001b[0m\n\u001b[0;32m-> 6341\u001b[0;31m                          suffixes=(lsuffix, rsuffix), sort=sort)\n\u001b[0m\u001b[1;32m   6342\u001b[0m         \u001b[0;32melse\u001b[0m\u001b[0;34m:\u001b[0m\u001b[0;34m\u001b[0m\u001b[0m\n\u001b[1;32m   6343\u001b[0m             \u001b[0;32mif\u001b[0m \u001b[0mon\u001b[0m \u001b[0;32mis\u001b[0m \u001b[0;32mnot\u001b[0m \u001b[0mNone\u001b[0m\u001b[0;34m:\u001b[0m\u001b[0;34m\u001b[0m\u001b[0m\n",
      "\u001b[0;32m/anaconda2/lib/python2.7/site-packages/pandas/core/reshape/merge.pyc\u001b[0m in \u001b[0;36mmerge\u001b[0;34m(left, right, how, on, left_on, right_on, left_index, right_index, sort, suffixes, copy, indicator, validate)\u001b[0m\n\u001b[1;32m     58\u001b[0m                          \u001b[0mright_index\u001b[0m\u001b[0;34m=\u001b[0m\u001b[0mright_index\u001b[0m\u001b[0;34m,\u001b[0m \u001b[0msort\u001b[0m\u001b[0;34m=\u001b[0m\u001b[0msort\u001b[0m\u001b[0;34m,\u001b[0m \u001b[0msuffixes\u001b[0m\u001b[0;34m=\u001b[0m\u001b[0msuffixes\u001b[0m\u001b[0;34m,\u001b[0m\u001b[0;34m\u001b[0m\u001b[0m\n\u001b[1;32m     59\u001b[0m                          \u001b[0mcopy\u001b[0m\u001b[0;34m=\u001b[0m\u001b[0mcopy\u001b[0m\u001b[0;34m,\u001b[0m \u001b[0mindicator\u001b[0m\u001b[0;34m=\u001b[0m\u001b[0mindicator\u001b[0m\u001b[0;34m,\u001b[0m\u001b[0;34m\u001b[0m\u001b[0m\n\u001b[0;32m---> 60\u001b[0;31m                          validate=validate)\n\u001b[0m\u001b[1;32m     61\u001b[0m     \u001b[0;32mreturn\u001b[0m \u001b[0mop\u001b[0m\u001b[0;34m.\u001b[0m\u001b[0mget_result\u001b[0m\u001b[0;34m(\u001b[0m\u001b[0;34m)\u001b[0m\u001b[0;34m\u001b[0m\u001b[0m\n\u001b[1;32m     62\u001b[0m \u001b[0;34m\u001b[0m\u001b[0m\n",
      "\u001b[0;32m/anaconda2/lib/python2.7/site-packages/pandas/core/reshape/merge.pyc\u001b[0m in \u001b[0;36m__init__\u001b[0;34m(self, left, right, how, on, left_on, right_on, axis, left_index, right_index, sort, suffixes, copy, indicator, validate)\u001b[0m\n\u001b[1;32m    552\u001b[0m         \u001b[0;31m# validate the merge keys dtypes. We may need to coerce\u001b[0m\u001b[0;34m\u001b[0m\u001b[0;34m\u001b[0m\u001b[0m\n\u001b[1;32m    553\u001b[0m         \u001b[0;31m# to avoid incompat dtypes\u001b[0m\u001b[0;34m\u001b[0m\u001b[0;34m\u001b[0m\u001b[0m\n\u001b[0;32m--> 554\u001b[0;31m         \u001b[0mself\u001b[0m\u001b[0;34m.\u001b[0m\u001b[0m_maybe_coerce_merge_keys\u001b[0m\u001b[0;34m(\u001b[0m\u001b[0;34m)\u001b[0m\u001b[0;34m\u001b[0m\u001b[0m\n\u001b[0m\u001b[1;32m    555\u001b[0m \u001b[0;34m\u001b[0m\u001b[0m\n\u001b[1;32m    556\u001b[0m         \u001b[0;31m# If argument passed to validate,\u001b[0m\u001b[0;34m\u001b[0m\u001b[0;34m\u001b[0m\u001b[0m\n",
      "\u001b[0;32m/anaconda2/lib/python2.7/site-packages/pandas/core/reshape/merge.pyc\u001b[0m in \u001b[0;36m_maybe_coerce_merge_keys\u001b[0;34m(self)\u001b[0m\n\u001b[1;32m    978\u001b[0m                 \u001b[0;32mraise\u001b[0m \u001b[0mValueError\u001b[0m\u001b[0;34m(\u001b[0m\u001b[0mmsg\u001b[0m\u001b[0;34m)\u001b[0m\u001b[0;34m\u001b[0m\u001b[0m\n\u001b[1;32m    979\u001b[0m             \u001b[0;32melif\u001b[0m \u001b[0;32mnot\u001b[0m \u001b[0mis_numeric_dtype\u001b[0m\u001b[0;34m(\u001b[0m\u001b[0mlk\u001b[0m\u001b[0;34m)\u001b[0m \u001b[0;32mand\u001b[0m \u001b[0mis_numeric_dtype\u001b[0m\u001b[0;34m(\u001b[0m\u001b[0mrk\u001b[0m\u001b[0;34m)\u001b[0m\u001b[0;34m:\u001b[0m\u001b[0;34m\u001b[0m\u001b[0m\n\u001b[0;32m--> 980\u001b[0;31m                 \u001b[0;32mraise\u001b[0m \u001b[0mValueError\u001b[0m\u001b[0;34m(\u001b[0m\u001b[0mmsg\u001b[0m\u001b[0;34m)\u001b[0m\u001b[0;34m\u001b[0m\u001b[0m\n\u001b[0m\u001b[1;32m    981\u001b[0m             \u001b[0;32melif\u001b[0m \u001b[0mis_datetimelike\u001b[0m\u001b[0;34m(\u001b[0m\u001b[0mlk\u001b[0m\u001b[0;34m)\u001b[0m \u001b[0;32mand\u001b[0m \u001b[0;32mnot\u001b[0m \u001b[0mis_datetimelike\u001b[0m\u001b[0;34m(\u001b[0m\u001b[0mrk\u001b[0m\u001b[0;34m)\u001b[0m\u001b[0;34m:\u001b[0m\u001b[0;34m\u001b[0m\u001b[0m\n\u001b[1;32m    982\u001b[0m                 \u001b[0;32mraise\u001b[0m \u001b[0mValueError\u001b[0m\u001b[0;34m(\u001b[0m\u001b[0mmsg\u001b[0m\u001b[0;34m)\u001b[0m\u001b[0;34m\u001b[0m\u001b[0m\n",
      "\u001b[0;31mValueError\u001b[0m: You are trying to merge on object and int64 columns. If you wish to proceed you should use pd.concat"
     ]
    }
   ],
   "source": [
    "pdcat.join(pdbr,on='Name')"
   ]
  },
  {
   "cell_type": "markdown",
   "metadata": {},
   "source": [
    "### find missing files"
   ]
  },
  {
   "cell_type": "code",
   "execution_count": 43,
   "metadata": {},
   "outputs": [],
   "source": [
    "import glob\n",
    "filenames = (glob.glob(\"../data/lcs/*.csv\"))\n"
   ]
  },
  {
   "cell_type": "code",
   "execution_count": 46,
   "metadata": {},
   "outputs": [
    {
     "name": "stdout",
     "output_type": "stream",
     "text": [
      "['../data/lcs/V543_Lyr_smear_combined.csv']\n"
     ]
    }
   ],
   "source": [
    "test = glob.glob(\"../data/lcs/V543_Lyr_smear_combined.csv\")\n",
    "print test"
   ]
  },
  {
   "cell_type": "code",
   "execution_count": 49,
   "metadata": {},
   "outputs": [
    {
     "name": "stdout",
     "output_type": "stream",
     "text": [
      "HD_185351 ['../data/lcs/HD_185351_smear_combined.csv']\n",
      "HD_186155 ['../data/lcs/HD_186155_smear_combined.csv']\n",
      "HD_175740 ['../data/lcs/HD_175740_smear_combined.csv']\n",
      "HD_184875 ['../data/lcs/HD_184875_smear_combined.csv']\n",
      "14_Cyg ['../data/lcs/14_Cyg_smear_combined.csv']\n",
      "HD_189178 ['../data/lcs/HD_189178_smear_combined.csv']\n",
      "HD_187372 ['../data/lcs/HD_187372_smear_combined.csv']\n",
      "HD_182694 ['../data/lcs/HD_182694_smear_combined.csv']\n",
      "V380_Cyg ['../data/lcs/V380_Cyg_smear_combined.csv']\n",
      "HD_186121 ['../data/lcs/HD_186121_smear_combined.csv']\n",
      "HD_189684 ['../data/lcs/HD_189684_smear_combined.csv']\n",
      "HD_188252 ['../data/lcs/HD_188252_smear_combined.csv']\n",
      "HD_181597 ['../data/lcs/HD_181597_smear_combined.csv']\n",
      "HD_185286 ['../data/lcs/HD_185286_smear_combined.csv']\n",
      "HD_188875 ['../data/lcs/HD_188875_smear_combined.csv']\n",
      "HD_175466 ['../data/lcs/HD_175466_smear_combined.csv']\n",
      "V547_Lyr ['../data/lcs/V547_Lyr_smear_combined.csv']\n",
      "HD_175884 ['../data/lcs/HD_175884_smear_combined.csv']\n",
      "HD_181069 ['../data/lcs/HD_181069_smear_combined.csv']\n",
      "HD_179959 ['../data/lcs/HD_179959_smear_combined.csv']\n",
      "V543_Lyr ['../data/lcs/V543_Lyr_smear_combined.csv']\n",
      "HD_182354 ['../data/lcs/HD_182354_smear_combined.csv']\n",
      "HD_175132 ['../data/lcs/HD_175132_smear_combined.csv']\n",
      "V819_Cyg ['../data/lcs/V819_Cyg_smear_combined.csv']\n",
      "HD_183362 ['../data/lcs/HD_183362_smear_combined.csv']\n",
      "HD_187217 ['../data/lcs/HD_187217_smear_combined.csv']\n",
      "HD_183124 ['../data/lcs/HD_183124_smear_combined.csv']\n",
      "HD_190149 ['../data/lcs/HD_190149_smear_combined.csv']\n",
      "HD_181022 ['../data/lcs/HD_181022_smear_combined.csv']\n",
      "HD_176582 ['../data/lcs/HD_176582_smear_combined.csv']\n",
      "HD_174177 ['../data/lcs/HD_174177_smear_combined.csv']\n",
      "HD_180682 ['../data/lcs/HD_180682_smear_combined.csv']\n",
      "HD_181878 ['../data/lcs/HD_181878_smear_combined.csv']\n",
      "HD_174020 ['../data/lcs/HD_174020_smear_combined.csv']\n",
      "HD_184787 ['../data/lcs/HD_184787_smear_combined.csv']\n",
      "HD_178090 ['../data/lcs/HD_178090_smear_combined.csv']\n",
      "HD_181681 ['../data/lcs/HD_181681_smear_combined.csv']\n",
      "HD_175841 ['../data/lcs/HD_175841_smear_combined.csv']\n",
      "V2083_Cyg ['../data/lcs/V2083_Cyg_smear_combined.csv']\n",
      "HD_189013 ['../data/lcs/HD_189013_smear_combined.csv']\n",
      "HD_183203 ['../data/lcs/HD_183203_smear_combined.csv']\n",
      "HD_176626 ['../data/lcs/HD_176626_smear_combined.csv']\n",
      "HD_181521 ['../data/lcs/HD_181521_smear_combined.csv']\n",
      "HD_185397 ['../data/lcs/HD_185397_smear_combined.csv']\n",
      "HD_186255 ['../data/lcs/HD_186255_smear_combined.csv']\n",
      "HD_174829 ['../data/lcs/HD_174829_smear_combined.csv']\n",
      "V398_Lyr ['../data/lcs/V398_Lyr_smear_combined.csv']\n",
      "HD_181596 ['../data/lcs/HD_181596_smear_combined.csv']\n",
      "HD_179395 ['../data/lcs/HD_179395_smear_combined.csv']\n",
      "V2079_Cyg ['../data/lcs/V2079_Cyg_smear_combined.csv']\n",
      "HD_181328 ['../data/lcs/HD_181328_smear_combined.csv']\n",
      "HD_184483 ['../data/lcs/HD_184483_smear_combined.csv']\n",
      "HD_184788 ['../data/lcs/HD_184788_smear_combined.csv']\n",
      "HD_184147 ['../data/lcs/HD_184147_smear_combined.csv']\n",
      "BD+42_3367 ['../data/lcs/BD+42_3367_smear_combined.csv']\n",
      "HD_177697 ['../data/lcs/HD_177697_smear_combined.csv']\n",
      "HD_182692 ['../data/lcs/HD_182692_smear_combined.csv']\n",
      "HD_178797 ['../data/lcs/HD_178797_smear_combined.csv']\n",
      "HD_184215 ['../data/lcs/HD_184215_smear_combined.csv']\n",
      "HD_188537 ['../data/lcs/HD_188537_smear_combined.csv']\n",
      "V546_Lyr ['../data/lcs/V546_Lyr_smear_combined.csv']\n",
      "HD_176209 ['../data/lcs/HD_176209_smear_combined.csv']\n",
      "HD_174676 ['../data/lcs/HD_174676_smear_combined.csv']\n",
      "HD_186727 ['../data/lcs/HD_186727_smear_combined.csv']\n",
      "HD_181778 ['../data/lcs/HD_181778_smear_combined.csv']\n",
      "HD_179394 ['../data/lcs/HD_179394_smear_combined.csv']\n",
      "HD_187277 ['../data/lcs/HD_187277_smear_combined.csv']\n",
      "HD_186994 ['../data/lcs/HD_186994_smear_combined.csv']\n",
      "HD_183383 ['../data/lcs/HD_183383_smear_combined.csv']\n",
      "HD_180475 ['../data/lcs/HD_180475_smear_combined.csv']\n",
      "BD+42_3393 ['../data/lcs/BD+42_3393_smear_combined.csv']\n",
      "HD_185117 ['../data/lcs/HD_185117_smear_combined.csv']\n",
      "HD_176894 ['../data/lcs/HD_176894_smear_combined.csv']\n",
      "HD_188629 ['../data/lcs/HD_188629_smear_combined.csv']\n",
      "HD_177781 ['../data/lcs/HD_177781_smear_combined.csv']\n",
      "HD_182737 ['../data/lcs/HD_182737_smear_combined.csv']\n",
      "HD_226754 ['../data/lcs/HD_226754_smear_combined.csv']\n",
      "HD_178910 ['../data/lcs/HD_178910_smear_combined.csv']\n",
      "HD_181097 ['../data/lcs/HD_181097_smear_combined.csv']\n",
      "HD_180658 ['../data/lcs/HD_180658_smear_combined.csv']\n",
      "HD_182531 ['../data/lcs/HD_182531_smear_combined.csv']\n",
      "BD+48_2955 ['../data/lcs/BD+48_2955_smear_combined.csv']\n",
      "HD_180312 ['../data/lcs/HD_180312_smear_combined.csv']\n",
      "HD_184565 ['../data/lcs/HD_184565_smear_combined.csv']\n",
      "HD_181880 ['../data/lcs/HD_181880_smear_combined.csv']\n",
      "HD_179396 ['../data/lcs/HD_179396_smear_combined.csv']\n",
      "HD_185524 ['../data/lcs/HD_185524_smear_combined.csv']\n",
      "HD_189636A ['../data/lcs/HD_189636A_smear_combined.csv']\n",
      "HD_189750 ['../data/lcs/HD_189750_smear_combined.csv']\n",
      "HD_189636B ['../data/lcs/HD_189636B_smear_combined.csv']\n",
      "BD+36_3564 ['../data/lcs/BD+36_3564_smear_combined.csv']\n",
      "BD+39_3577 ['../data/lcs/BD+39_3577_smear_combined.csv']\n",
      "V554_Lyr []\n",
      "BD+47_2825 ['../data/lcs/BD+47_2825_smear_combined.csv']\n",
      "BD+39_3882 ['../data/lcs/BD+39_3882_smear_combined.csv']\n",
      "BD+43_3064 ['../data/lcs/BD+43_3064_smear_combined.csv']\n",
      "BD+43_3068 ['../data/lcs/BD+43_3068_smear_combined.csv']\n",
      "BD+43_3213 ['../data/lcs/BD+43_3213_smear_combined.csv']\n",
      "BD+42_3150 ['../data/lcs/BD+42_3150_smear_combined.csv']\n",
      "BD+43_3171 ['../data/lcs/BD+43_3171_smear_combined.csv']\n",
      "BD+48_2904 ['../data/lcs/BD+48_2904_smear_combined.csv']\n",
      "BD+47_2891 ['../data/lcs/BD+47_2891_smear_combined.csv']\n"
     ]
    }
   ],
   "source": [
    "for name in cat['Name']:\n",
    "    test = glob.glob(\"../data/lcs/%s_smear_combined.csv\" % name)\n",
    "    print name, test"
   ]
  },
  {
   "cell_type": "code",
   "execution_count": 55,
   "metadata": {},
   "outputs": [
    {
     "name": "stdout",
     "output_type": "stream",
     "text": [
      "Kepler_ID\n",
      "---------\n",
      "  7292420\n",
      " 12069424\n",
      " 12069449\n",
      "  9528112\n",
      "  9465763\n",
      "  8324612\n",
      "  3441157\n",
      "  7447756\n",
      "  6870455\n",
      "  8313018\n",
      " 10863107\n",
      " 10685353\n",
      " 10988024\n",
      "  7798339\n",
      "  8006161\n",
      "  9812351\n",
      "  7800227\n",
      "  9630812\n",
      "  6580131\n",
      "  7939145\n",
      "  7420037\n",
      "  7339102\n",
      "  8077489\n",
      "  6342566\n",
      "  6101376\n",
      "  6020867\n",
      "  7940546\n",
      "  7940959\n",
      "  5164767\n",
      " 10190244\n",
      "  5939450\n",
      "  6265087\n",
      "  4989900\n",
      "  6584587\n",
      " 10323222\n",
      "  9327530\n",
      "  6670812\n",
      " 10124866\n",
      "  7340766\n",
      "  4136285\n",
      "  7943968\n",
      "  7944142\n",
      " 11443271\n",
      "  4242575\n",
      "  6267965\n",
      " 11338492\n",
      " 10716853\n",
      "  8351193\n",
      "  6106415\n",
      "  7345479\n",
      "  7510397\n",
      "  4818175\n",
      "  4994443\n",
      "  2970780\n",
      " 11600717\n",
      " 11180361\n",
      "  9392839\n",
      "  6675338\n",
      " 11287318\n",
      "  4040917\n",
      " 11753949\n",
      " 11234835\n",
      "  7669848\n",
      "  3836439\n",
      " 10064283\n",
      "  8085683\n",
      "  8153795\n",
      "  2696955\n",
      " 11498538\n",
      "  3429637\n",
      " 11288450\n",
      " 10525205\n",
      "  7105221\n",
      "  6593264\n",
      "  3838362\n",
      " 11603064\n",
      "  4044238\n",
      "  6352430\n",
      "  5262713\n",
      "  7950369\n",
      " 10265370\n",
      "  5352052\n",
      "  4551179\n",
      " 11656042\n",
      "  6195870\n",
      "  5177450\n",
      " 11808639\n",
      "  9764544\n",
      "  9704050\n",
      " 11502218\n",
      "  3946721\n",
      "  5952403\n",
      "  4049174\n",
      " 10005473\n",
      "  4149233\n",
      "  9704325\n",
      " 11708170\n",
      " 10659688\n",
      " 12456737\n",
      "  4150611\n",
      "  5180075\n",
      " 11910615\n",
      " 11555267\n",
      " 12884274\n",
      "  5954370\n",
      "  5092997\n",
      "  7816792\n",
      "  8813946\n",
      "  4830109\n",
      "  3337423\n",
      " 11960922\n",
      " 11188366\n",
      "  2987660\n",
      "  4155395\n",
      " 11912716\n",
      " 10728753\n",
      "  7680115\n",
      "  8751420\n",
      "  1572070\n",
      " 10918449\n",
      "  7820638\n",
      "  1720554\n",
      "  8752618\n",
      " 12208512\n",
      " 11506859\n",
      " 11349943\n",
      " 10664975\n",
      "  2156801\n",
      "  2715115\n",
      "  6777469\n",
      "  7201012\n",
      " 10404994\n",
      "  8561664\n",
      "  9651435\n",
      "  7366121\n",
      " 11031549\n",
      "  4567097\n",
      "  7756961\n",
      "  9652494\n",
      "  7286856\n",
      "  6047321\n",
      "  9468475\n",
      "  4660665\n",
      "  7827131\n",
      "  6528001\n",
      "  6129225\n",
      "  6954647\n",
      " 10801714\n",
      "  4931363\n",
      "  9094435\n",
      " 11918397\n",
      "  6450107\n",
      "  7966681\n",
      "  9286638\n",
      "  3246460\n",
      "  8566020\n",
      "  5108214\n",
      "  3455268\n",
      " 11408263\n",
      "  5458880\n",
      "  9411865\n",
      "  5802562\n",
      "  7456762\n",
      " 11251115\n",
      "  8504443\n",
      "  9163520\n",
      "  9657639\n",
      " 11037105\n",
      "  4937492\n",
      "  7970740\n",
      "  5113557\n",
      " 11618103\n",
      "  4850899\n",
      "  4671313\n",
      " 12316020\n",
      " 11670252\n",
      "  8765630\n",
      "  8766240\n",
      "  8508931\n",
      "  8379927\n",
      " 11824273\n",
      "  5724440\n",
      "  6967644\n",
      " 10679281\n",
      "  4857678\n",
      "  8382172\n",
      "  6225718\n",
      "  7909976\n",
      " 10934370\n",
      " 11674677\n",
      "  6065699\n",
      " 10683303\n",
      "  6067580\n",
      "  9110718\n",
      "  8710324\n",
      "  6150124\n",
      "  6469154\n",
      " 10425397\n",
      "  5041881\n",
      "  5217733\n",
      " 10096499\n",
      "  8712121\n",
      "  5219588\n",
      "  5737655\n",
      "  8390838\n",
      "  9305008\n",
      "  8328178\n",
      "  8262528\n",
      "  9117875\n",
      "  8719675\n",
      "  6382808\n",
      "  6234579\n",
      "  7198959\n",
      "  8818020\n",
      " 10342012\n",
      "  9851142\n",
      "  8324268\n",
      "  5385723\n",
      "  4042516\n",
      " 10385851\n",
      "  9874022\n",
      "  5683912\n",
      "  5429169\n",
      "  6267345\n",
      "  5429948\n",
      " 10618721\n",
      " 11918630\n"
     ]
    }
   ],
   "source": [
    "brightkep['Kepler_ID'].pprint(max_lines=230)"
   ]
  },
  {
   "cell_type": "code",
   "execution_count": 62,
   "metadata": {},
   "outputs": [
    {
     "name": "stdout",
     "output_type": "stream",
     "text": [
      "HD_175466\n",
      "HD_182354\n",
      "HD_185524\n",
      "HD_189636A\n",
      "HD_189750\n",
      "HD_189636B\n",
      "BD+36_3564\n",
      "BD+39_3577\n",
      "V554_Lyr\n",
      "BD+47_2825\n",
      "BD+39_3882\n",
      "BD+43_3064\n",
      "BD+43_3068\n",
      "BD+43_3213\n",
      "BD+42_3150\n",
      "BD+43_3171\n",
      "BD+48_2904\n",
      "BD+47_2891\n",
      "18\n"
     ]
    }
   ],
   "source": [
    "names_in = []\n",
    "for name in cat['Name']:\n",
    "    if name not in brightkep['Name']:\n",
    "        print name\n",
    "        names_in.append(name)\n",
    "        \n",
    "print len(names_in)"
   ]
  },
  {
   "cell_type": "code",
   "execution_count": 63,
   "metadata": {},
   "outputs": [
    {
     "name": "stdout",
     "output_type": "stream",
     "text": [
      "   Name   \n",
      "----------\n",
      "    14_Cyg\n",
      "  16_Cyg_A\n",
      "  16_Cyg_B\n",
      "    AF_Cyg\n",
      "    AW_Cyg\n",
      "    AX_Cyg\n",
      "BD+38_3564\n",
      "BD+42_3367\n",
      "BD+42_3393\n",
      "BD+43_3351\n",
      "BD+47_2852\n",
      "BD+47_2949\n",
      "BD+48_2955\n",
      " HD_173109\n",
      " HD_173701\n",
      " HD_174019\n",
      " HD_174020\n",
      " HD_174177\n",
      " HD_174178\n",
      " HD_174621\n",
      " HD_174676\n",
      " HD_174829\n",
      " HD_174880\n",
      " HD_175079\n",
      " HD_175080\n",
      " HD_175132\n",
      " HD_175226\n",
      " HD_175370\n",
      " HD_175537\n",
      " HD_175574\n",
      " HD_175576\n",
      " HD_175740\n",
      " HD_175841\n",
      " HD_175884\n",
      " HD_175955\n",
      " HD_176209\n",
      " HD_176229\n",
      " HD_176465\n",
      " HD_176466\n",
      " HD_176582\n",
      " HD_176626\n",
      " HD_176694\n",
      " HD_176708\n",
      " HD_176845\n",
      " HD_176894\n",
      " HD_177004\n",
      " HD_177151\n",
      " HD_177152\n",
      " HD_177153\n",
      " HD_177328\n",
      " HD_177412\n",
      " HD_177486\n",
      " HD_177697\n",
      " HD_177781\n",
      " HD_177828\n",
      " HD_177876\n",
      " HD_177931\n",
      " HD_178090\n",
      " HD_178158\n",
      " HD_178159\n",
      " HD_178208\n",
      " HD_178612\n",
      " HD_178615\n",
      " HD_178661\n",
      " HD_178797\n",
      " HD_178821\n",
      " HD_178847\n",
      " HD_178848\n",
      " HD_178874\n",
      " HD_178875\n",
      " HD_178910\n",
      " HD_179333\n",
      " HD_179394\n",
      " HD_179395\n",
      " HD_179396\n",
      " HD_179420\n",
      " HD_179421\n",
      " HD_179506\n",
      " HD_179583\n",
      " HD_179935\n",
      " HD_179959\n",
      " HD_180261\n",
      " HD_180312\n",
      " HD_180475\n",
      " HD_180658\n",
      " HD_180682\n",
      " HD_180756\n",
      " HD_180966\n",
      " HD_180967\n",
      " HD_181020\n",
      " HD_181022\n",
      " HD_181068\n",
      " HD_181069\n",
      " HD_181096\n",
      " HD_181097\n",
      " HD_181117\n",
      " HD_181252\n",
      " HD_181278\n",
      " HD_181328\n",
      " HD_181469\n",
      " HD_181521\n",
      " HD_181596\n",
      " HD_181597\n",
      " HD_181677\n",
      " HD_181679\n",
      " HD_181681\n",
      " HD_181778\n",
      " HD_181827\n",
      " HD_181878\n",
      " HD_181880\n",
      " HD_182076\n",
      " HD_182531\n",
      " HD_182634\n",
      " HD_182671\n",
      " HD_182691\n",
      " HD_182692\n",
      " HD_182694\n",
      " HD_182736\n",
      " HD_182737\n",
      " HD_182779\n",
      " HD_182862\n",
      " HD_182896\n",
      " HD_183124\n",
      " HD_183203\n",
      " HD_183255\n",
      " HD_183256\n",
      " HD_183280\n",
      " HD_183354\n",
      " HD_183362\n",
      " HD_183383\n",
      " HD_183473\n",
      " HD_183507\n",
      " HD_183955\n",
      " HD_184147\n",
      " HD_184148\n",
      " HD_184215\n",
      " HD_184469\n",
      " HD_184483\n",
      " HD_184498\n",
      " HD_184564\n",
      " HD_184565\n",
      " HD_184602\n",
      " HD_184629\n",
      " HD_184695\n",
      " HD_184787\n",
      " HD_184788\n",
      " HD_184875\n",
      " HD_184977\n",
      " HD_185036\n",
      " HD_185117\n",
      " HD_185264\n",
      " HD_185265\n",
      " HD_185286\n",
      " HD_185329\n",
      " HD_185330\n",
      " HD_185351\n",
      " HD_185374\n",
      " HD_185397\n",
      " HD_185657\n",
      " HD_185780\n",
      " HD_185955\n",
      " HD_186074\n",
      " HD_186121\n",
      " HD_186139\n",
      " HD_186140\n",
      " HD_186155\n",
      " HD_186176\n",
      " HD_186221\n",
      " HD_186255\n",
      " HD_186306\n",
      " HD_186307\n",
      " HD_186355\n",
      " HD_186505\n",
      " HD_186604\n",
      " HD_186727\n",
      " HD_186743\n",
      " HD_186816\n",
      " HD_186994\n",
      " HD_187104\n",
      " HD_187160\n",
      " HD_187217\n",
      " HD_187234\n",
      " HD_187277\n",
      " HD_187372\n",
      " HD_187523\n",
      " HD_187613\n",
      " HD_187637\n",
      " HD_187878\n",
      " HD_187919\n",
      " HD_188057\n",
      " HD_188101\n",
      " HD_188252\n",
      " HD_188461\n",
      " HD_188537\n",
      " HD_188629\n",
      " HD_188667\n",
      " HD_188753\n",
      " HD_188853\n",
      " HD_188875\n",
      " HD_188891\n",
      " HD_189013\n",
      " HD_189015\n",
      " HD_189178\n",
      " HD_189349\n",
      " HD_189376\n",
      " HD_189684\n",
      " HD_190043\n",
      " HD_190149\n",
      " HD_190165\n",
      " HD_190837\n",
      " HD_225880\n",
      " HD_226754\n",
      "    RR_Lyr\n",
      " V2079_Cyg\n",
      " V2083_Cyg\n",
      " V2094_Cyg\n",
      " V2095_Cyg\n",
      "  V380_Cyg\n",
      "  V398_Lyr\n",
      "  V538_Lyr\n",
      "  V540_Lyr\n",
      "  V541_Lyr\n",
      "  V543_Lyr\n",
      "  V546_Lyr\n",
      "  V547_Lyr\n",
      "  V819_Cyg\n",
      " theta_Cyg\n"
     ]
    }
   ],
   "source": [
    "brightkep['Name'].pprint(max_lines=230)"
   ]
  },
  {
   "cell_type": "code",
   "execution_count": null,
   "metadata": {},
   "outputs": [],
   "source": []
  }
 ],
 "metadata": {
  "kernelspec": {
   "display_name": "Python 2",
   "language": "python",
   "name": "python2"
  },
  "language_info": {
   "codemirror_mode": {
    "name": "ipython",
    "version": 2
   },
   "file_extension": ".py",
   "mimetype": "text/x-python",
   "name": "python",
   "nbconvert_exporter": "python",
   "pygments_lexer": "ipython2",
   "version": "2.7.15"
  }
 },
 "nbformat": 4,
 "nbformat_minor": 2
}
